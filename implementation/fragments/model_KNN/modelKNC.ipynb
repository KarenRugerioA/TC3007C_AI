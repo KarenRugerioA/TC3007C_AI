{
 "cells": [
  {
   "cell_type": "markdown",
   "id": "2df6af58",
   "metadata": {},
   "source": [
    "# **K Neighbors Classifier Model**\n",
    "****"
   ]
  },
  {
   "cell_type": "markdown",
   "id": "3fffba40",
   "metadata": {},
   "source": [
    "In Artificial Intelligence the modeling is the **creation, training, and deployment** of Machine Learning algorithms. The goal is to emulate logical decision-making based on the available data. "
   ]
  },
  {
   "cell_type": "code",
   "execution_count": 2,
   "id": "33e2c89c-981e-4316-8723-fa299d649548",
   "metadata": {},
   "outputs": [],
   "source": [
    "# Importing the necessary libraries for the data analysis and transformations\n",
    "import pandas as pd\n",
    "import numpy as np\n",
    "import matplotlib.pyplot as plt\n",
    "from sklearn.neighbors import (NeighborhoodComponentsAnalysis,KNeighborsClassifier)\n",
    "from sklearn.datasets import load_iris\n",
    "from sklearn.model_selection import train_test_split\n",
    "from sklearn.pipeline import Pipeline\n",
    "\n"
   ]
  },
  {
   "cell_type": "code",
   "execution_count": 4,
   "id": "70094b0f",
   "metadata": {},
   "outputs": [],
   "source": [
    "#Obtaining the collapsed dataset\n",
    "fold_1 = pd.read_csv('./folds/fold_1.csv')\n",
    "fold_2 = pd.read_csv('./folds/fold_2.csv')\n",
    "fold_3 = pd.read_csv('./folds/fold_3.csv')"
   ]
  },
  {
   "cell_type": "code",
   "execution_count": 5,
   "id": "7b1ad79c",
   "metadata": {},
   "outputs": [
    {
     "name": "stderr",
     "output_type": "stream",
     "text": [
      "/var/folders/yb/sm4s5slx3hx280g5lvqh6kwc0000gn/T/ipykernel_68323/2354964633.py:1: FutureWarning: The frame.append method is deprecated and will be removed from pandas in a future version. Use pandas.concat instead.\n",
      "  fold_1.append(fold_2)\n",
      "/var/folders/yb/sm4s5slx3hx280g5lvqh6kwc0000gn/T/ipykernel_68323/2354964633.py:2: FutureWarning: The frame.append method is deprecated and will be removed from pandas in a future version. Use pandas.concat instead.\n",
      "  fold_1.append(fold_3)\n"
     ]
    }
   ],
   "source": [
    "fold_1.append(fold_2)\n",
    "fold_1.append(fold_3)\n",
    "fold_1\n",
    "all_folds = fold_1"
   ]
  },
  {
   "cell_type": "code",
   "execution_count": 6,
   "id": "dddd3434",
   "metadata": {},
   "outputs": [],
   "source": [
    "#Defining dependant and independant variables\n",
    "Y = all_folds['TARGET'] #Dependant\n",
    "X = all_folds.drop(columns=['TARGET', 'Unnamed: 0']) #Independant\n"
   ]
  },
  {
   "cell_type": "code",
   "execution_count": 7,
   "id": "e298120c",
   "metadata": {},
   "outputs": [],
   "source": [
    "#Splitting into training and test sets\n",
    "X_train, X_test, y_train, y_test = train_test_split(X,Y, test_size = 0.6, random_state = 21)"
   ]
  },
  {
   "cell_type": "code",
   "execution_count": 8,
   "id": "20e8802d",
   "metadata": {},
   "outputs": [
    {
     "data": {
      "text/plain": [
       "KNeighborsClassifier(n_neighbors=3)"
      ]
     },
     "execution_count": 8,
     "metadata": {},
     "output_type": "execute_result"
    }
   ],
   "source": [
    "#Fitting the model\n",
    "neigh = KNeighborsClassifier(n_neighbors=3)\n",
    "neigh.fit(X_train, y_train)"
   ]
  },
  {
   "cell_type": "code",
   "execution_count": 9,
   "id": "8d301e3b",
   "metadata": {},
   "outputs": [
    {
     "name": "stdout",
     "output_type": "stream",
     "text": [
      "0.9427748379622382\n"
     ]
    }
   ],
   "source": [
    "print(neigh.score(X_test, y_test))"
   ]
  }
 ],
 "metadata": {
  "kernelspec": {
   "display_name": "base",
   "language": "python",
   "name": "python3"
  },
  "language_info": {
   "codemirror_mode": {
    "name": "ipython",
    "version": 3
   },
   "file_extension": ".py",
   "mimetype": "text/x-python",
   "name": "python",
   "nbconvert_exporter": "python",
   "pygments_lexer": "ipython3",
   "version": "3.9.7 (default, Sep 16 2021, 08:50:36) \n[Clang 10.0.0 ]"
  },
  "vscode": {
   "interpreter": {
    "hash": "40d3a090f54c6569ab1632332b64b2c03c39dcf918b08424e98f38b5ae0af88f"
   }
  }
 },
 "nbformat": 4,
 "nbformat_minor": 5
}
