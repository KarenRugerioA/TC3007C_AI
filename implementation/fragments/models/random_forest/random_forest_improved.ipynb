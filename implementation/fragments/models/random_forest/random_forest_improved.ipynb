{
 "cells": [
  {
   "cell_type": "markdown",
   "metadata": {},
   "source": [
    "# **Random Forest Model**\n",
    "\n",
    "*Authors:*\n",
    "- *Myroslava Sánchez Andrade A01730712*\n",
    "- *Karen Rugerio Armenta A01733228*\n",
    "- *José Antonio Bobadilla García A01734433*\n",
    "- *Alejandro Castro Reus A01731065*\n",
    "\n",
    "*Creation date: 15/10/2022*\n",
    "\n",
    "*Last updated: 27/11/2022*\n",
    "\n",
    "---"
   ]
  },
  {
   "cell_type": "markdown",
   "metadata": {},
   "source": [
    "## **Importing data**"
   ]
  },
  {
   "cell_type": "code",
   "execution_count": 1,
   "metadata": {},
   "outputs": [],
   "source": [
    "# RUN ONLY FOR GOOGLE COLAB\n",
    "\n",
    "# from google.colab import drive\n",
    "\n",
    "# drive.mount(\"path\")  \n",
    "\n",
    "# %cd \"path\""
   ]
  },
  {
   "cell_type": "code",
   "execution_count": 1,
   "metadata": {},
   "outputs": [],
   "source": [
    "# Importing the necessary libraries for the data analysis and transformations\n",
    "import pandas as pd\n",
    "import numpy as np\n",
    "import matplotlib.pyplot as plt\n",
    "from sklearn.model_selection import cross_validate\n",
    "from sklearn.ensemble import RandomForestClassifier\n",
    "from sklearn.metrics import confusion_matrix\n",
    "from joblib import dump\n",
    "from sklearn.metrics import mean_squared_error\n",
    "from sklearn.metrics import accuracy_score"
   ]
  },
  {
   "cell_type": "code",
   "execution_count": 2,
   "metadata": {},
   "outputs": [],
   "source": [
    "smote = False"
   ]
  },
  {
   "cell_type": "code",
   "execution_count": 3,
   "metadata": {},
   "outputs": [],
   "source": [
    "# Obtaining the train and test dataset\n",
    "\n",
    "x_test = pd.read_csv('../../../../data/WA_Fn-UseC_-Telco-Customer-Churn/test/x_test.csv')\n",
    "y_test = pd.read_csv('../../../../data/WA_Fn-UseC_-Telco-Customer-Churn/test/y_test.csv')"
   ]
  },
  {
   "cell_type": "code",
   "execution_count": 4,
   "metadata": {},
   "outputs": [],
   "source": [
    "if smote:\n",
    "    x_train = pd.read_csv('../../../../data/WA_Fn-UseC_-Telco-Customer-Churn/train/x_train.csv')\n",
    "    y_train = pd.read_csv('../../../../data/WA_Fn-UseC_-Telco-Customer-Churn/train/y_train.csv')\n",
    "else:    \n",
    "    # Dividing the train dataset\n",
    "    train = pd.read_csv('../../../../data/WA_Fn-UseC_-Telco-Customer-Churn/train/original_train.csv')\n",
    "    x_train = train.drop(['Churn'], axis=1)\n",
    "    y_train = pd.DataFrame(train['Churn'])"
   ]
  },
  {
   "cell_type": "code",
   "execution_count": 16,
   "metadata": {},
   "outputs": [
    {
     "name": "stderr",
     "output_type": "stream",
     "text": [
      "C:\\Users\\myros\\AppData\\Local\\Temp\\ipykernel_6116\\2545543798.py:4: DataConversionWarning: A column-vector y was passed when a 1d array was expected. Please change the shape of y to (n_samples,), for example using ravel().\n",
      "  random_forest.fit(x_train, y_train)\n"
     ]
    }
   ],
   "source": [
    "random_forest = RandomForestClassifier(max_depth=10, criterion='entropy', random_state=0, max_features='log2')\n",
    "\n",
    "# fit the model with data\n",
    "random_forest.fit(x_train, y_train)\n",
    "\n",
    "y_pred = random_forest.predict(x_test)"
   ]
  },
  {
   "cell_type": "code",
   "execution_count": 17,
   "metadata": {},
   "outputs": [
    {
     "name": "stdout",
     "output_type": "stream",
     "text": [
      "Score:\n",
      "0.790719696969697\n"
     ]
    }
   ],
   "source": [
    "print(\"Score:\")\n",
    "print(random_forest.score(x_test, y_test))"
   ]
  },
  {
   "cell_type": "code",
   "execution_count": 18,
   "metadata": {},
   "outputs": [],
   "source": [
    "#Creating a confusion matrix to help determinate accuracy wtih classification model\n",
    "def accuracy(confusion_matrix):\n",
    "   diagonal_sum = confusion_matrix.trace()\n",
    "   sum_of_all_elements = confusion_matrix.sum()\n",
    "   return diagonal_sum / sum_of_all_elements"
   ]
  },
  {
   "cell_type": "code",
   "execution_count": 19,
   "metadata": {},
   "outputs": [
    {
     "name": "stdout",
     "output_type": "stream",
     "text": [
      "Accuracy of Model: 79%\n"
     ]
    }
   ],
   "source": [
    "#Evaluataion of the predictions against the actual observations in y_val\n",
    "cm = confusion_matrix(y_pred, y_test)\n",
    "\n",
    "#Printing the accuracy\n",
    "acc = round(accuracy(cm),2)\n",
    "percentage = \"{:.0%}\".format(acc)\n",
    "print(f\"Accuracy of Model: {percentage}\")"
   ]
  },
  {
   "cell_type": "code",
   "execution_count": 20,
   "metadata": {},
   "outputs": [
    {
     "data": {
      "text/html": [
       "<div>\n",
       "<style scoped>\n",
       "    .dataframe tbody tr th:only-of-type {\n",
       "        vertical-align: middle;\n",
       "    }\n",
       "\n",
       "    .dataframe tbody tr th {\n",
       "        vertical-align: top;\n",
       "    }\n",
       "\n",
       "    .dataframe thead th {\n",
       "        text-align: right;\n",
       "    }\n",
       "</style>\n",
       "<table border=\"1\" class=\"dataframe\">\n",
       "  <thead>\n",
       "    <tr style=\"text-align: right;\">\n",
       "      <th></th>\n",
       "      <th>0</th>\n",
       "      <th>1</th>\n",
       "    </tr>\n",
       "  </thead>\n",
       "  <tbody>\n",
       "    <tr>\n",
       "      <th>0</th>\n",
       "      <td>1412</td>\n",
       "      <td>303</td>\n",
       "    </tr>\n",
       "    <tr>\n",
       "      <th>1</th>\n",
       "      <td>139</td>\n",
       "      <td>258</td>\n",
       "    </tr>\n",
       "  </tbody>\n",
       "</table>\n",
       "</div>"
      ],
      "text/plain": [
       "      0    1\n",
       "0  1412  303\n",
       "1   139  258"
      ]
     },
     "execution_count": 20,
     "metadata": {},
     "output_type": "execute_result"
    }
   ],
   "source": [
    "# Confussion Matrix\n",
    "pd.DataFrame(cm)"
   ]
  },
  {
   "cell_type": "code",
   "execution_count": 21,
   "metadata": {},
   "outputs": [],
   "source": [
    "# K-Fold Cross-Validation\n",
    "def cross_validation(model, _X, _y, _cv=3):\n",
    "      _scoring = ['accuracy', 'precision', 'recall', 'f1']\n",
    "      results = cross_validate(estimator=model,\n",
    "                               X=_X,\n",
    "                               y=_y,\n",
    "                               cv=_cv,\n",
    "                               scoring=_scoring,\n",
    "                               return_train_score=True)\n",
    "      \n",
    "      return {\"Training Accuracy scores\": results['train_accuracy'],\n",
    "              \"Mean Training Accuracy\": results['train_accuracy'].mean()*100,\n",
    "              \"Training Precision scores\": results['train_precision'],\n",
    "              \"Mean Training Precision\": results['train_precision'].mean(),\n",
    "              \"Training Recall scores\": results['train_recall'],\n",
    "              \"Mean Training Recall\": results['train_recall'].mean(),\n",
    "              \"Training F1 scores\": results['train_f1'],\n",
    "              \"Mean Training F1 Score\": results['train_f1'].mean(),\n",
    "              \"Validation Accuracy scores\": results['test_accuracy'],\n",
    "              \"Mean Validation Accuracy\": results['test_accuracy'].mean()*100,\n",
    "              \"Validation Precision scores\": results['test_precision'],\n",
    "              \"Mean Validation Precision\": results['test_precision'].mean(),\n",
    "              \"Validation Recall scores\": results['test_recall'],\n",
    "              \"Mean Validation Recall\": results['test_recall'].mean(),\n",
    "              \"Validation F1 scores\": results['test_f1'],\n",
    "              \"Mean Validation F1 Score\": results['test_f1'].mean()\n",
    "              }\n"
   ]
  },
  {
   "cell_type": "code",
   "execution_count": 22,
   "metadata": {},
   "outputs": [],
   "source": [
    "# Grouped Bar Chart for both training and validation data\n",
    "def plot_result(x_label, y_label, plot_title, train_data, val_data):\n",
    "        # Set size of plot\n",
    "        plt.figure(figsize=(4,3))\n",
    "        labels = [\"1st Fold\", \"2nd Fold\", \"3rd Fold\"]\n",
    "        X_axis = np.arange(len(labels))\n",
    "        ax = plt.gca()\n",
    "        plt.ylim(0.40000, 1)\n",
    "        plt.bar(X_axis-0.2, train_data, 0.4, color='blue', label='Training')\n",
    "        plt.bar(X_axis+0.2, val_data, 0.4, color='red', label='Validation')\n",
    "        plt.title(plot_title, fontsize=30)\n",
    "        plt.xticks(X_axis, labels)\n",
    "        plt.xlabel(x_label, fontsize=14)\n",
    "        plt.ylabel(y_label, fontsize=14)\n",
    "        plt.legend()\n",
    "        plt.grid(True)\n",
    "        plt.savefig('../../joblibs/WA_Fn-UseC_-Telco-Customer-Churn/model/random_forest/k_cross_plot.png')\n",
    "        plt.show()"
   ]
  },
  {
   "cell_type": "code",
   "execution_count": 23,
   "metadata": {},
   "outputs": [
    {
     "name": "stderr",
     "output_type": "stream",
     "text": [
      "c:\\Users\\myros\\anaconda3\\envs\\Statistics\\lib\\site-packages\\sklearn\\model_selection\\_validation.py:686: DataConversionWarning: A column-vector y was passed when a 1d array was expected. Please change the shape of y to (n_samples,), for example using ravel().\n",
      "  estimator.fit(X_train, y_train, **fit_params)\n",
      "c:\\Users\\myros\\anaconda3\\envs\\Statistics\\lib\\site-packages\\sklearn\\model_selection\\_validation.py:686: DataConversionWarning: A column-vector y was passed when a 1d array was expected. Please change the shape of y to (n_samples,), for example using ravel().\n",
      "  estimator.fit(X_train, y_train, **fit_params)\n",
      "c:\\Users\\myros\\anaconda3\\envs\\Statistics\\lib\\site-packages\\sklearn\\model_selection\\_validation.py:686: DataConversionWarning: A column-vector y was passed when a 1d array was expected. Please change the shape of y to (n_samples,), for example using ravel().\n",
      "  estimator.fit(X_train, y_train, **fit_params)\n"
     ]
    },
    {
     "data": {
      "text/plain": [
       "{'Training Accuracy scores': array([0.89291147, 0.88378461, 0.88746959]),\n",
       " 'Mean Training Accuracy': 88.80552206078112,\n",
       " 'Training Precision scores': array([0.86111111, 0.84507042, 0.86695906]),\n",
       " 'Mean Training Precision': 0.8577135326579359,\n",
       " 'Training Recall scores': array([0.71100917, 0.68807339, 0.68004587]),\n",
       " 'Mean Training Recall': 0.6930428134556575,\n",
       " 'Training F1 scores': array([0.77889447, 0.7585335 , 0.7622108 ]),\n",
       " 'Mean Training F1 Score': 0.76654625705777,\n",
       " 'Validation Accuracy scores': array([0.79501217, 0.77615572, 0.79123554]),\n",
       " 'Mean Validation Accuracy': 78.74678093156398,\n",
       " 'Validation Precision scores': array([0.65230769, 0.60059172, 0.63478261]),\n",
       " 'Mean Validation Precision': 0.6292273389932252,\n",
       " 'Validation Recall scores': array([0.48623853, 0.46559633, 0.50229358]),\n",
       " 'Mean Validation Recall': 0.4847094801223242,\n",
       " 'Validation F1 scores': array([0.55716163, 0.5245478 , 0.56081946]),\n",
       " 'Mean Validation F1 Score': 0.547509631760146}"
      ]
     },
     "execution_count": 23,
     "metadata": {},
     "output_type": "execute_result"
    }
   ],
   "source": [
    "random_forest_results = cross_validation(random_forest, x_train, y_train)\n",
    "random_forest_results"
   ]
  },
  {
   "cell_type": "code",
   "execution_count": 24,
   "metadata": {},
   "outputs": [
    {
     "data": {
      "image/png": "[encoded data removed]",
      "text/plain": [
       "<Figure size 288x216 with 1 Axes>"
      ]
     },
     "metadata": {
      "needs_background": "light"
     },
     "output_type": "display_data"
    }
   ],
   "source": [
    "# Plot Accuracy Result\n",
    "model_name = \"Random Forest\"\n",
    "plot_result(model_name,\n",
    "            \"Accuracy\",\n",
    "            \"Accuracy scores in 3 Folds\",\n",
    "            random_forest_results[\"Training Accuracy scores\"],\n",
    "            random_forest_results[\"Validation Accuracy scores\"])"
   ]
  },
  {
   "cell_type": "code",
   "execution_count": 25,
   "metadata": {},
   "outputs": [
    {
     "name": "stdout",
     "output_type": "stream",
     "text": [
      "MSE Train: 0.1320219022510647\n",
      "Accuracy Train: 0.8679780977489353\n",
      "MSE Test: 0.20928030303030304\n",
      "Accuracy Test: 0.790719696969697\n"
     ]
    }
   ],
   "source": [
    "# Calculatin the MSE and accuracy in the training and test\n",
    "\n",
    "# Train\n",
    "y_train_predict = random_forest.predict(x_train)\n",
    "y_train_true = y_train\n",
    "# MSE\n",
    "mse_train = mean_squared_error(y_train_true, y_train_predict)\n",
    "print(f'MSE Train: {mse_train}')\n",
    "# Accuracy\n",
    "acc_train = accuracy_score(y_train_true, y_train_predict, normalize=True)\n",
    "print(f'Accuracy Train: {acc_train}')\n",
    "\n",
    "# Test\n",
    "y_test_predict = random_forest.predict(x_test)\n",
    "y_test_true = y_test\n",
    "# MSE\n",
    "mse_test = mean_squared_error(y_test_true, y_test_predict)\n",
    "print(f'MSE Test: {mse_test}')\n",
    "# Accuracy\n",
    "acc_test = accuracy_score(y_test_true, y_test_predict, normalize=True)\n",
    "print(f'Accuracy Test: {acc_test}')\n"
   ]
  },
  {
   "cell_type": "markdown",
   "metadata": {},
   "source": [
    "### **Exporting the model**\n",
    "****"
   ]
  },
  {
   "cell_type": "code",
   "execution_count": 15,
   "metadata": {},
   "outputs": [],
   "source": [
    "if smote:\n",
    "    dump(random_forest, \"../../joblibs/WA_Fn-UseC_-Telco-Customer-Churn/model/random_forest/random_forest_model_smote.joblib\")\n",
    "else:\n",
    "    dump(random_forest, \"../../joblibs/WA_Fn-UseC_-Telco-Customer-Churn/model/random_forest/random_forest_model.joblib\")"
   ]
  },
  {
   "cell_type": "code",
   "execution_count": null,
   "metadata": {},
   "outputs": [],
   "source": []
  }
 ],
 "metadata": {
  "kernelspec": {
   "display_name": "Python 3.10.4 ('Statistics')",
   "language": "python",
   "name": "python3"
  },
  "language_info": {
   "codemirror_mode": {
    "name": "ipython",
    "version": 3
   },
   "file_extension": ".py",
   "mimetype": "text/x-python",
   "name": "python",
   "nbconvert_exporter": "python",
   "pygments_lexer": "ipython3",
   "version": "3.10.4"
  },
  "orig_nbformat": 4,
  "vscode": {
   "interpreter": {
    "hash": "1365f7312f0ac659adc64cf9ad70f48f473b7d9bf5c210bebce62c7e15bdcca9"
   }
  }
 },
 "nbformat": 4,
 "nbformat_minor": 2
}
