{
  "cells": [
    {
      "cell_type": "markdown",
      "source": [
        "# **CNN Model**\n",
        "\n",
        "*Authors:*\n",
        "- *Myroslava Sánchez Andrade A01730712*\n",
        "- *Karen Rugerio Armenta A01733228*\n",
        "- *José Antonio Bobadilla García A01734433*\n",
        "- *Alejandro Castro Reus A01731065*\n",
        "\n",
        "*Creation date: 15/10/2022*\n",
        "\n",
        "*Last updated: 27/11/2022*\n",
        "\n",
        "---"
      ],
      "metadata": {
        "id": "yBl3h5_H7TN0"
      }
    },
    {
      "cell_type": "code",
      "execution_count": 1,
      "metadata": {
        "id": "ynUBi41n0w9I"
      },
      "outputs": [],
      "source": [
        "import pandas as pd\n",
        "import tensorflow as tf\n",
        "from tensorflow.keras import datasets, layers, models\n",
        "import matplotlib.pyplot as plt\n",
        "import matplotlib as mpl\n",
        "from joblib import dump, load"
      ]
    },
    {
      "cell_type": "code",
      "source": [
        "# RUN ONLY FOR GOOGLE COLAB\n",
        "\n",
        "from google.colab import drive\n",
        "\n",
        "drive.mount(\"/content/gdrive\")  \n",
        "\n",
        "%cd \"/content/gdrive/MyDrive/Colab Notebooks\""
      ],
      "metadata": {
        "colab": {
          "base_uri": "https://localhost:8080/"
        },
        "id": "ufH4sG6L1BGT",
        "outputId": "591ed987-14d6-4dcc-b7b2-2cf70d8b8f31"
      },
      "execution_count": 2,
      "outputs": [
        {
          "output_type": "stream",
          "name": "stdout",
          "text": [
            "Mounted at /content/gdrive\n",
            "/content/gdrive/MyDrive/Colab Notebooks\n"
          ]
        }
      ]
    },
    {
      "cell_type": "code",
      "source": [
        "smote = False"
      ],
      "metadata": {
        "id": "8OrgGIBt77nn"
      },
      "execution_count": 3,
      "outputs": []
    },
    {
      "cell_type": "code",
      "source": [
        "# Obtaining the train and test dataset\n",
        "x_test = pd.read_csv('./data/WA_Fn-UseC_-Telco-Customer-Churn/test/x_test.csv')\n",
        "y_test = pd.read_csv('./data/WA_Fn-UseC_-Telco-Customer-Churn/test/y_test.csv')"
      ],
      "metadata": {
        "id": "VxfW2geM8WWh"
      },
      "execution_count": 4,
      "outputs": []
    },
    {
      "cell_type": "code",
      "source": [
        "if smote:\n",
        "    x_train = pd.read_csv('./data/WA_Fn-UseC_-Telco-Customer-Churn/train/x_train.csv')\n",
        "    y_train = pd.read_csv('./data/WA_Fn-UseC_-Telco-Customer-Churn/train/y_train.csv')\n",
        "else:    \n",
        "    # Dividing the train dataset\n",
        "    train = pd.read_csv('./data/WA_Fn-UseC_-Telco-Customer-Churn/train/original_train.csv')\n",
        "    x_train = train.drop(['Churn'], axis=1)\n",
        "    y_train = pd.DataFrame(train['Churn'])"
      ],
      "metadata": {
        "id": "xSm1pSeV83T9"
      },
      "execution_count": 5,
      "outputs": []
    },
    {
      "cell_type": "code",
      "source": [
        "# Defining the model\n",
        "cnn_model = models.Sequential()\n",
        "cnn_model.add(layers.Conv1D(128, 3, activation='relu', input_shape=(x_train.shape[1],1)))\n",
        "cnn_model.add(layers.MaxPooling1D(2))\n",
        "cnn_model.add(layers.LeakyReLU())\n",
        "cnn_model.add(layers.Dropout(0.5))\n",
        "cnn_model.add(layers.Dense(32, activation='relu'))\n",
        "cnn_model.add(layers.LeakyReLU())\n",
        "cnn_model.add(layers.Dropout(0.5))\n",
        "cnn_model.add(layers.Flatten())\n",
        "cnn_model.add(layers.Dense(64, activation='relu'))\n",
        "cnn_model.add(layers.Dense(2))"
      ],
      "metadata": {
        "id": "1ei3wUlo8fPO"
      },
      "execution_count": 6,
      "outputs": []
    },
    {
      "cell_type": "code",
      "execution_count": 7,
      "metadata": {
        "colab": {
          "base_uri": "https://localhost:8080/"
        },
        "id": "kaNtv6cg0w9P",
        "outputId": "96e497d1-878c-43ea-e834-293cbb731b08"
      },
      "outputs": [
        {
          "output_type": "stream",
          "name": "stdout",
          "text": [
            "Epoch 1/10\n",
            "155/155 [==============================] - 10s 7ms/step - loss: 0.5342 - accuracy: 0.7299 - val_loss: 0.4885 - val_accuracy: 0.7557\n",
            "Epoch 2/10\n",
            "155/155 [==============================] - 1s 4ms/step - loss: 0.5049 - accuracy: 0.7431 - val_loss: 0.4838 - val_accuracy: 0.7448\n",
            "Epoch 3/10\n",
            "155/155 [==============================] - 1s 5ms/step - loss: 0.4987 - accuracy: 0.7475 - val_loss: 0.4755 - val_accuracy: 0.7604\n",
            "Epoch 4/10\n",
            "155/155 [==============================] - 1s 5ms/step - loss: 0.4971 - accuracy: 0.7570 - val_loss: 0.4796 - val_accuracy: 0.7604\n",
            "Epoch 5/10\n",
            "155/155 [==============================] - 1s 4ms/step - loss: 0.4872 - accuracy: 0.7560 - val_loss: 0.4685 - val_accuracy: 0.7680\n",
            "Epoch 6/10\n",
            "155/155 [==============================] - 1s 5ms/step - loss: 0.4867 - accuracy: 0.7658 - val_loss: 0.4681 - val_accuracy: 0.7704\n",
            "Epoch 7/10\n",
            "155/155 [==============================] - 1s 4ms/step - loss: 0.4874 - accuracy: 0.7639 - val_loss: 0.4633 - val_accuracy: 0.7694\n",
            "Epoch 8/10\n",
            "155/155 [==============================] - 1s 4ms/step - loss: 0.4842 - accuracy: 0.7654 - val_loss: 0.4613 - val_accuracy: 0.7737\n",
            "Epoch 9/10\n",
            "155/155 [==============================] - 1s 5ms/step - loss: 0.4797 - accuracy: 0.7678 - val_loss: 0.4731 - val_accuracy: 0.7741\n",
            "Epoch 10/10\n",
            "155/155 [==============================] - 1s 5ms/step - loss: 0.4824 - accuracy: 0.7668 - val_loss: 0.4665 - val_accuracy: 0.7718\n"
          ]
        }
      ],
      "source": [
        "# Training the model \n",
        "cnn_model.compile(optimizer='adam',\n",
        "              loss=tf.keras.losses.SparseCategoricalCrossentropy(from_logits=True),\n",
        "              metrics=['accuracy'])\n",
        "\n",
        "history = cnn_model.fit(x_train, y_train, epochs=10, \n",
        "                    validation_data=(x_test, y_test))"
      ]
    },
    {
      "cell_type": "code",
      "source": [
        "y_pred = cnn_model.predict(x_test)\n",
        "y_pred = (y_pred[:,1] >= y_pred[:,0]).astype(int)\n",
        "\n",
        "cm = tf.math.confusion_matrix(y_test, y_pred).numpy()\n",
        "pd.DataFrame(cm)"
      ],
      "metadata": {
        "colab": {
          "base_uri": "https://localhost:8080/",
          "height": 129
        },
        "id": "jzIcfmuJwT8l",
        "outputId": "4978e8a3-ab54-44d4-bfe7-a71545242cae"
      },
      "execution_count": 8,
      "outputs": [
        {
          "output_type": "stream",
          "name": "stdout",
          "text": [
            "66/66 [==============================] - 0s 2ms/step\n"
          ]
        },
        {
          "output_type": "execute_result",
          "data": {
            "text/plain": [
              "      0    1\n",
              "0  1413  157\n",
              "1   325  217"
            ],
            "text/html": [
              "\n",
              "  <div id=\"df-9f2104b1-6b6f-4f8f-8e79-2f492aa63b68\">\n",
              "    <div class=\"colab-df-container\">\n",
              "      <div>\n",
              "<style scoped>\n",
              "    .dataframe tbody tr th:only-of-type {\n",
              "        vertical-align: middle;\n",
              "    }\n",
              "\n",
              "    .dataframe tbody tr th {\n",
              "        vertical-align: top;\n",
              "    }\n",
              "\n",
              "    .dataframe thead th {\n",
              "        text-align: right;\n",
              "    }\n",
              "</style>\n",
              "<table border=\"1\" class=\"dataframe\">\n",
              "  <thead>\n",
              "    <tr style=\"text-align: right;\">\n",
              "      <th></th>\n",
              "      <th>0</th>\n",
              "      <th>1</th>\n",
              "    </tr>\n",
              "  </thead>\n",
              "  <tbody>\n",
              "    <tr>\n",
              "      <th>0</th>\n",
              "      <td>1413</td>\n",
              "      <td>157</td>\n",
              "    </tr>\n",
              "    <tr>\n",
              "      <th>1</th>\n",
              "      <td>325</td>\n",
              "      <td>217</td>\n",
              "    </tr>\n",
              "  </tbody>\n",
              "</table>\n",
              "</div>\n",
              "      <button class=\"colab-df-convert\" onclick=\"convertToInteractive('df-9f2104b1-6b6f-4f8f-8e79-2f492aa63b68')\"\n",
              "              title=\"Convert this dataframe to an interactive table.\"\n",
              "              style=\"display:none;\">\n",
              "        \n",
              "  <svg xmlns=\"http://www.w3.org/2000/svg\" height=\"24px\"viewBox=\"0 0 24 24\"\n",
              "       width=\"24px\">\n",
              "    <path d=\"M0 0h24v24H0V0z\" fill=\"none\"/>\n",
              "    <path d=\"M18.56 5.44l.94 2.06.94-2.06 2.06-.94-2.06-.94-.94-2.06-.94 2.06-2.06.94zm-11 1L8.5 8.5l.94-2.06 2.06-.94-2.06-.94L8.5 2.5l-.94 2.06-2.06.94zm10 10l.94 2.06.94-2.06 2.06-.94-2.06-.94-.94-2.06-.94 2.06-2.06.94z\"/><path d=\"M17.41 7.96l-1.37-1.37c-.4-.4-.92-.59-1.43-.59-.52 0-1.04.2-1.43.59L10.3 9.45l-7.72 7.72c-.78.78-.78 2.05 0 2.83L4 21.41c.39.39.9.59 1.41.59.51 0 1.02-.2 1.41-.59l7.78-7.78 2.81-2.81c.8-.78.8-2.07 0-2.86zM5.41 20L4 18.59l7.72-7.72 1.47 1.35L5.41 20z\"/>\n",
              "  </svg>\n",
              "      </button>\n",
              "      \n",
              "  <style>\n",
              "    .colab-df-container {\n",
              "      display:flex;\n",
              "      flex-wrap:wrap;\n",
              "      gap: 12px;\n",
              "    }\n",
              "\n",
              "    .colab-df-convert {\n",
              "      background-color: #E8F0FE;\n",
              "      border: none;\n",
              "      border-radius: 50%;\n",
              "      cursor: pointer;\n",
              "      display: none;\n",
              "      fill: #1967D2;\n",
              "      height: 32px;\n",
              "      padding: 0 0 0 0;\n",
              "      width: 32px;\n",
              "    }\n",
              "\n",
              "    .colab-df-convert:hover {\n",
              "      background-color: #E2EBFA;\n",
              "      box-shadow: 0px 1px 2px rgba(60, 64, 67, 0.3), 0px 1px 3px 1px rgba(60, 64, 67, 0.15);\n",
              "      fill: #174EA6;\n",
              "    }\n",
              "\n",
              "    [theme=dark] .colab-df-convert {\n",
              "      background-color: #3B4455;\n",
              "      fill: #D2E3FC;\n",
              "    }\n",
              "\n",
              "    [theme=dark] .colab-df-convert:hover {\n",
              "      background-color: #434B5C;\n",
              "      box-shadow: 0px 1px 3px 1px rgba(0, 0, 0, 0.15);\n",
              "      filter: drop-shadow(0px 1px 2px rgba(0, 0, 0, 0.3));\n",
              "      fill: #FFFFFF;\n",
              "    }\n",
              "  </style>\n",
              "\n",
              "      <script>\n",
              "        const buttonEl =\n",
              "          document.querySelector('#df-9f2104b1-6b6f-4f8f-8e79-2f492aa63b68 button.colab-df-convert');\n",
              "        buttonEl.style.display =\n",
              "          google.colab.kernel.accessAllowed ? 'block' : 'none';\n",
              "\n",
              "        async function convertToInteractive(key) {\n",
              "          const element = document.querySelector('#df-9f2104b1-6b6f-4f8f-8e79-2f492aa63b68');\n",
              "          const dataTable =\n",
              "            await google.colab.kernel.invokeFunction('convertToInteractive',\n",
              "                                                     [key], {});\n",
              "          if (!dataTable) return;\n",
              "\n",
              "          const docLinkHtml = 'Like what you see? Visit the ' +\n",
              "            '<a target=\"_blank\" href=https://colab.research.google.com/notebooks/data_table.ipynb>data table notebook</a>'\n",
              "            + ' to learn more about interactive tables.';\n",
              "          element.innerHTML = '';\n",
              "          dataTable['output_type'] = 'display_data';\n",
              "          await google.colab.output.renderOutput(dataTable, element);\n",
              "          const docLink = document.createElement('div');\n",
              "          docLink.innerHTML = docLinkHtml;\n",
              "          element.appendChild(docLink);\n",
              "        }\n",
              "      </script>\n",
              "    </div>\n",
              "  </div>\n",
              "  "
            ]
          },
          "metadata": {},
          "execution_count": 8
        }
      ]
    },
    {
      "cell_type": "code",
      "source": [
        "predicted_true_positive_percentage = cm[1,1] / (cm[1,1] + cm[0,1])\n",
        "predicted_true_negative_percentage = cm[0,0] / (cm[0,0] + cm[1,0])\n",
        "# Saving the general aspects in a df\n",
        "d = {'predicted_true_positive_percentage': [predicted_true_positive_percentage], 'predicted_true_negative_percentage': [predicted_true_negative_percentage]}\n",
        "true_predicted_percentage = pd.DataFrame(data=d)\n",
        "# dump(true_predicted_percentage, f\"./true_predicted_percentage.joblib\")\n",
        "true_predicted_percentage"
      ],
      "metadata": {
        "colab": {
          "base_uri": "https://localhost:8080/",
          "height": 81
        },
        "id": "L8tumb4hzhoA",
        "outputId": "620c2b0e-bd99-4631-8033-1c974c3efc4e"
      },
      "execution_count": 9,
      "outputs": [
        {
          "output_type": "execute_result",
          "data": {
            "text/plain": [
              "   predicted_true_positive_percentage  predicted_true_negative_percentage\n",
              "0                            0.580214                            0.813003"
            ],
            "text/html": [
              "\n",
              "  <div id=\"df-2a6a9586-4f5c-4dff-896c-0f967837dfd6\">\n",
              "    <div class=\"colab-df-container\">\n",
              "      <div>\n",
              "<style scoped>\n",
              "    .dataframe tbody tr th:only-of-type {\n",
              "        vertical-align: middle;\n",
              "    }\n",
              "\n",
              "    .dataframe tbody tr th {\n",
              "        vertical-align: top;\n",
              "    }\n",
              "\n",
              "    .dataframe thead th {\n",
              "        text-align: right;\n",
              "    }\n",
              "</style>\n",
              "<table border=\"1\" class=\"dataframe\">\n",
              "  <thead>\n",
              "    <tr style=\"text-align: right;\">\n",
              "      <th></th>\n",
              "      <th>predicted_true_positive_percentage</th>\n",
              "      <th>predicted_true_negative_percentage</th>\n",
              "    </tr>\n",
              "  </thead>\n",
              "  <tbody>\n",
              "    <tr>\n",
              "      <th>0</th>\n",
              "      <td>0.580214</td>\n",
              "      <td>0.813003</td>\n",
              "    </tr>\n",
              "  </tbody>\n",
              "</table>\n",
              "</div>\n",
              "      <button class=\"colab-df-convert\" onclick=\"convertToInteractive('df-2a6a9586-4f5c-4dff-896c-0f967837dfd6')\"\n",
              "              title=\"Convert this dataframe to an interactive table.\"\n",
              "              style=\"display:none;\">\n",
              "        \n",
              "  <svg xmlns=\"http://www.w3.org/2000/svg\" height=\"24px\"viewBox=\"0 0 24 24\"\n",
              "       width=\"24px\">\n",
              "    <path d=\"M0 0h24v24H0V0z\" fill=\"none\"/>\n",
              "    <path d=\"M18.56 5.44l.94 2.06.94-2.06 2.06-.94-2.06-.94-.94-2.06-.94 2.06-2.06.94zm-11 1L8.5 8.5l.94-2.06 2.06-.94-2.06-.94L8.5 2.5l-.94 2.06-2.06.94zm10 10l.94 2.06.94-2.06 2.06-.94-2.06-.94-.94-2.06-.94 2.06-2.06.94z\"/><path d=\"M17.41 7.96l-1.37-1.37c-.4-.4-.92-.59-1.43-.59-.52 0-1.04.2-1.43.59L10.3 9.45l-7.72 7.72c-.78.78-.78 2.05 0 2.83L4 21.41c.39.39.9.59 1.41.59.51 0 1.02-.2 1.41-.59l7.78-7.78 2.81-2.81c.8-.78.8-2.07 0-2.86zM5.41 20L4 18.59l7.72-7.72 1.47 1.35L5.41 20z\"/>\n",
              "  </svg>\n",
              "      </button>\n",
              "      \n",
              "  <style>\n",
              "    .colab-df-container {\n",
              "      display:flex;\n",
              "      flex-wrap:wrap;\n",
              "      gap: 12px;\n",
              "    }\n",
              "\n",
              "    .colab-df-convert {\n",
              "      background-color: #E8F0FE;\n",
              "      border: none;\n",
              "      border-radius: 50%;\n",
              "      cursor: pointer;\n",
              "      display: none;\n",
              "      fill: #1967D2;\n",
              "      height: 32px;\n",
              "      padding: 0 0 0 0;\n",
              "      width: 32px;\n",
              "    }\n",
              "\n",
              "    .colab-df-convert:hover {\n",
              "      background-color: #E2EBFA;\n",
              "      box-shadow: 0px 1px 2px rgba(60, 64, 67, 0.3), 0px 1px 3px 1px rgba(60, 64, 67, 0.15);\n",
              "      fill: #174EA6;\n",
              "    }\n",
              "\n",
              "    [theme=dark] .colab-df-convert {\n",
              "      background-color: #3B4455;\n",
              "      fill: #D2E3FC;\n",
              "    }\n",
              "\n",
              "    [theme=dark] .colab-df-convert:hover {\n",
              "      background-color: #434B5C;\n",
              "      box-shadow: 0px 1px 3px 1px rgba(0, 0, 0, 0.15);\n",
              "      filter: drop-shadow(0px 1px 2px rgba(0, 0, 0, 0.3));\n",
              "      fill: #FFFFFF;\n",
              "    }\n",
              "  </style>\n",
              "\n",
              "      <script>\n",
              "        const buttonEl =\n",
              "          document.querySelector('#df-2a6a9586-4f5c-4dff-896c-0f967837dfd6 button.colab-df-convert');\n",
              "        buttonEl.style.display =\n",
              "          google.colab.kernel.accessAllowed ? 'block' : 'none';\n",
              "\n",
              "        async function convertToInteractive(key) {\n",
              "          const element = document.querySelector('#df-2a6a9586-4f5c-4dff-896c-0f967837dfd6');\n",
              "          const dataTable =\n",
              "            await google.colab.kernel.invokeFunction('convertToInteractive',\n",
              "                                                     [key], {});\n",
              "          if (!dataTable) return;\n",
              "\n",
              "          const docLinkHtml = 'Like what you see? Visit the ' +\n",
              "            '<a target=\"_blank\" href=https://colab.research.google.com/notebooks/data_table.ipynb>data table notebook</a>'\n",
              "            + ' to learn more about interactive tables.';\n",
              "          element.innerHTML = '';\n",
              "          dataTable['output_type'] = 'display_data';\n",
              "          await google.colab.output.renderOutput(dataTable, element);\n",
              "          const docLink = document.createElement('div');\n",
              "          docLink.innerHTML = docLinkHtml;\n",
              "          element.appendChild(docLink);\n",
              "        }\n",
              "      </script>\n",
              "    </div>\n",
              "  </div>\n",
              "  "
            ]
          },
          "metadata": {},
          "execution_count": 9
        }
      ]
    },
    {
      "cell_type": "code",
      "source": [
        "cnn_model.summary()"
      ],
      "metadata": {
        "id": "oevGV2fhICTC",
        "colab": {
          "base_uri": "https://localhost:8080/"
        },
        "outputId": "58cfe7d8-857d-4354-9866-74336209f370"
      },
      "execution_count": 10,
      "outputs": [
        {
          "output_type": "stream",
          "name": "stdout",
          "text": [
            "Model: \"sequential\"\n",
            "_________________________________________________________________\n",
            " Layer (type)                Output Shape              Param #   \n",
            "=================================================================\n",
            " conv1d (Conv1D)             (None, 3, 128)            512       \n",
            "                                                                 \n",
            " max_pooling1d (MaxPooling1D  (None, 1, 128)           0         \n",
            " )                                                               \n",
            "                                                                 \n",
            " leaky_re_lu (LeakyReLU)     (None, 1, 128)            0         \n",
            "                                                                 \n",
            " dropout (Dropout)           (None, 1, 128)            0         \n",
            "                                                                 \n",
            " dense (Dense)               (None, 1, 32)             4128      \n",
            "                                                                 \n",
            " leaky_re_lu_1 (LeakyReLU)   (None, 1, 32)             0         \n",
            "                                                                 \n",
            " dropout_1 (Dropout)         (None, 1, 32)             0         \n",
            "                                                                 \n",
            " flatten (Flatten)           (None, 32)                0         \n",
            "                                                                 \n",
            " dense_1 (Dense)             (None, 64)                2112      \n",
            "                                                                 \n",
            " dense_2 (Dense)             (None, 2)                 130       \n",
            "                                                                 \n",
            "=================================================================\n",
            "Total params: 6,882\n",
            "Trainable params: 6,882\n",
            "Non-trainable params: 0\n",
            "_________________________________________________________________\n"
          ]
        }
      ]
    },
    {
      "cell_type": "code",
      "source": [
        "# Plotting the accuracy of the training (train and validation)\n",
        "plt.plot(history.history['accuracy'], label='accuracy')\n",
        "plt.plot(history.history['val_accuracy'], label = 'val_accuracy')\n",
        "plt.xlabel('Epoch')\n",
        "plt.ylabel('Accuracy')\n",
        "plt.ylim([0.5, 1])\n",
        "plt.legend(loc='lower right')\n",
        "\n",
        "test_loss, test_acc = cnn_model.evaluate(x_test, y_test, verbose=2)\n",
        "print(test_acc)"
      ],
      "metadata": {
        "colab": {
          "base_uri": "https://localhost:8080/",
          "height": 318
        },
        "id": "W7l-rSOlzlDe",
        "outputId": "25b82baa-e742-4f02-9772-c9708daf3fba"
      },
      "execution_count": 11,
      "outputs": [
        {
          "output_type": "stream",
          "name": "stdout",
          "text": [
            "66/66 - 0s - loss: 0.4665 - accuracy: 0.7718 - 140ms/epoch - 2ms/step\n",
            "0.7717803120613098\n"
          ]
        },
        {
          "output_type": "display_data",
          "data": {
            "text/plain": [
              "<Figure size 432x288 with 1 Axes>"
            ],
            "image/png": "[encoded data removed]"
          },
          "metadata": {
            "needs_background": "light"
          }
        }
      ]
    },
    {
      "cell_type": "code",
      "source": [
        "# Calculating the MSE and accuracy in the training and test\n",
        "\n",
        "# Train MSE and Accuracy\n",
        "train_loss, train_acc = cnn_model.evaluate(x_train, y_train, verbose=2)\n",
        "test_loss, test_acc = cnn_model.evaluate(x_test, y_test, verbose=2)\n",
        "\n",
        "print(f'MSE Train: {1-train_acc}')\n",
        "print(f'Accuracy Train: {train_acc}')\n",
        "\n",
        "# Test MSE and Accuracy\n",
        "print(f'MSE Test: {1-test_acc}')\n",
        "print(f'Accuracy Test: {test_acc}')"
      ],
      "metadata": {
        "colab": {
          "base_uri": "https://localhost:8080/"
        },
        "id": "Lvx67b4t0WDG",
        "outputId": "8262a718-e972-432f-d546-d390eab09199"
      },
      "execution_count": 12,
      "outputs": [
        {
          "output_type": "stream",
          "name": "stdout",
          "text": [
            "155/155 - 1s - loss: 0.4663 - accuracy: 0.7808 - 575ms/epoch - 4ms/step\n",
            "66/66 - 0s - loss: 0.4665 - accuracy: 0.7718 - 144ms/epoch - 2ms/step\n",
            "MSE Train: 0.21922528743743896\n",
            "Accuracy Train: 0.780774712562561\n",
            "MSE Test: 0.22821968793869019\n",
            "Accuracy Test: 0.7717803120613098\n"
          ]
        }
      ]
    },
    {
      "cell_type": "markdown",
      "source": [
        "### ***Improving the model***"
      ],
      "metadata": {
        "id": "9ACLP2Zm1evC"
      }
    },
    {
      "cell_type": "code",
      "execution_count": 13,
      "metadata": {
        "id": "SqD1OKJu0w9O"
      },
      "outputs": [],
      "source": [
        "# Improving the model\n",
        "cnn_improved_model = models.Sequential()\n",
        "cnn_improved_model.add(layers.Conv1D(32, 2, activation='relu', input_shape=(x_train.shape[1],1)))\n",
        "cnn_improved_model.add(layers.Dense(16, activation='relu'))\n",
        "cnn_improved_model.add(layers.MaxPooling1D(1))\n",
        "cnn_model.add(layers.Dropout(0.3))\n",
        "cnn_improved_model.add(layers.Conv1D(16, 2, activation='relu'))\n",
        "cnn_improved_model.add(layers.Flatten())\n",
        "cnn_improved_model.add(layers.Dense(16, activation='relu'))\n",
        "cnn_improved_model.add(layers.Dense(2))"
      ]
    },
    {
      "cell_type": "code",
      "source": [
        "# Training the model \n",
        "cnn_improved_model.compile(optimizer='adam',\n",
        "              loss=tf.keras.losses.SparseCategoricalCrossentropy(from_logits=True),\n",
        "              metrics=['accuracy'])\n",
        "\n",
        "history = cnn_improved_model.fit(x_train, y_train, epochs=10, \n",
        "                    validation_data=(x_test, y_test))"
      ],
      "metadata": {
        "colab": {
          "base_uri": "https://localhost:8080/"
        },
        "id": "NMKyog-R-C9o",
        "outputId": "61590778-6a55-4413-fa5c-b9f869312d30"
      },
      "execution_count": 14,
      "outputs": [
        {
          "output_type": "stream",
          "name": "stdout",
          "text": [
            "Epoch 1/10\n",
            "155/155 [==============================] - 2s 6ms/step - loss: 0.5554 - accuracy: 0.7098 - val_loss: 0.4670 - val_accuracy: 0.7680\n",
            "Epoch 2/10\n",
            "155/155 [==============================] - 1s 5ms/step - loss: 0.4536 - accuracy: 0.7891 - val_loss: 0.4603 - val_accuracy: 0.7784\n",
            "Epoch 3/10\n",
            "155/155 [==============================] - 1s 5ms/step - loss: 0.4481 - accuracy: 0.7931 - val_loss: 0.4546 - val_accuracy: 0.7770\n",
            "Epoch 4/10\n",
            "155/155 [==============================] - 1s 5ms/step - loss: 0.4429 - accuracy: 0.7917 - val_loss: 0.4516 - val_accuracy: 0.7789\n",
            "Epoch 5/10\n",
            "155/155 [==============================] - 1s 5ms/step - loss: 0.4417 - accuracy: 0.7919 - val_loss: 0.4498 - val_accuracy: 0.7803\n",
            "Epoch 6/10\n",
            "155/155 [==============================] - 1s 5ms/step - loss: 0.4410 - accuracy: 0.7936 - val_loss: 0.4511 - val_accuracy: 0.7822\n",
            "Epoch 7/10\n",
            "155/155 [==============================] - 1s 5ms/step - loss: 0.4410 - accuracy: 0.7942 - val_loss: 0.4489 - val_accuracy: 0.7779\n",
            "Epoch 8/10\n",
            "155/155 [==============================] - 1s 5ms/step - loss: 0.4379 - accuracy: 0.7962 - val_loss: 0.4519 - val_accuracy: 0.7760\n",
            "Epoch 9/10\n",
            "155/155 [==============================] - 1s 5ms/step - loss: 0.4376 - accuracy: 0.7923 - val_loss: 0.4507 - val_accuracy: 0.7803\n",
            "Epoch 10/10\n",
            "155/155 [==============================] - 1s 5ms/step - loss: 0.4377 - accuracy: 0.7913 - val_loss: 0.4478 - val_accuracy: 0.7751\n"
          ]
        }
      ]
    },
    {
      "cell_type": "code",
      "source": [
        "y_pred = cnn_improved_model.predict(x_test)\n",
        "y_pred = (y_pred[:,1] >= y_pred[:,0]).astype(int)\n",
        "\n",
        "cm = tf.math.confusion_matrix(y_test, y_pred).numpy()\n",
        "confusion_matrix = pd.DataFrame(cm)\n",
        "dump(confusion_matrix, f\"./confusion_matrix.joblib\")\n",
        "confusion_matrix"
      ],
      "metadata": {
        "colab": {
          "base_uri": "https://localhost:8080/",
          "height": 129
        },
        "id": "eDhMO_9i0UlG",
        "outputId": "7814ba69-c0f4-4d1f-87d5-3eba27807841"
      },
      "execution_count": 15,
      "outputs": [
        {
          "output_type": "stream",
          "name": "stdout",
          "text": [
            "66/66 [==============================] - 0s 2ms/step\n"
          ]
        },
        {
          "output_type": "execute_result",
          "data": {
            "text/plain": [
              "      0    1\n",
              "0  1389  181\n",
              "1   294  248"
            ],
            "text/html": [
              "\n",
              "  <div id=\"df-a700c268-4e61-4cbb-9a27-aa5b23de96ed\">\n",
              "    <div class=\"colab-df-container\">\n",
              "      <div>\n",
              "<style scoped>\n",
              "    .dataframe tbody tr th:only-of-type {\n",
              "        vertical-align: middle;\n",
              "    }\n",
              "\n",
              "    .dataframe tbody tr th {\n",
              "        vertical-align: top;\n",
              "    }\n",
              "\n",
              "    .dataframe thead th {\n",
              "        text-align: right;\n",
              "    }\n",
              "</style>\n",
              "<table border=\"1\" class=\"dataframe\">\n",
              "  <thead>\n",
              "    <tr style=\"text-align: right;\">\n",
              "      <th></th>\n",
              "      <th>0</th>\n",
              "      <th>1</th>\n",
              "    </tr>\n",
              "  </thead>\n",
              "  <tbody>\n",
              "    <tr>\n",
              "      <th>0</th>\n",
              "      <td>1389</td>\n",
              "      <td>181</td>\n",
              "    </tr>\n",
              "    <tr>\n",
              "      <th>1</th>\n",
              "      <td>294</td>\n",
              "      <td>248</td>\n",
              "    </tr>\n",
              "  </tbody>\n",
              "</table>\n",
              "</div>\n",
              "      <button class=\"colab-df-convert\" onclick=\"convertToInteractive('df-a700c268-4e61-4cbb-9a27-aa5b23de96ed')\"\n",
              "              title=\"Convert this dataframe to an interactive table.\"\n",
              "              style=\"display:none;\">\n",
              "        \n",
              "  <svg xmlns=\"http://www.w3.org/2000/svg\" height=\"24px\"viewBox=\"0 0 24 24\"\n",
              "       width=\"24px\">\n",
              "    <path d=\"M0 0h24v24H0V0z\" fill=\"none\"/>\n",
              "    <path d=\"M18.56 5.44l.94 2.06.94-2.06 2.06-.94-2.06-.94-.94-2.06-.94 2.06-2.06.94zm-11 1L8.5 8.5l.94-2.06 2.06-.94-2.06-.94L8.5 2.5l-.94 2.06-2.06.94zm10 10l.94 2.06.94-2.06 2.06-.94-2.06-.94-.94-2.06-.94 2.06-2.06.94z\"/><path d=\"M17.41 7.96l-1.37-1.37c-.4-.4-.92-.59-1.43-.59-.52 0-1.04.2-1.43.59L10.3 9.45l-7.72 7.72c-.78.78-.78 2.05 0 2.83L4 21.41c.39.39.9.59 1.41.59.51 0 1.02-.2 1.41-.59l7.78-7.78 2.81-2.81c.8-.78.8-2.07 0-2.86zM5.41 20L4 18.59l7.72-7.72 1.47 1.35L5.41 20z\"/>\n",
              "  </svg>\n",
              "      </button>\n",
              "      \n",
              "  <style>\n",
              "    .colab-df-container {\n",
              "      display:flex;\n",
              "      flex-wrap:wrap;\n",
              "      gap: 12px;\n",
              "    }\n",
              "\n",
              "    .colab-df-convert {\n",
              "      background-color: #E8F0FE;\n",
              "      border: none;\n",
              "      border-radius: 50%;\n",
              "      cursor: pointer;\n",
              "      display: none;\n",
              "      fill: #1967D2;\n",
              "      height: 32px;\n",
              "      padding: 0 0 0 0;\n",
              "      width: 32px;\n",
              "    }\n",
              "\n",
              "    .colab-df-convert:hover {\n",
              "      background-color: #E2EBFA;\n",
              "      box-shadow: 0px 1px 2px rgba(60, 64, 67, 0.3), 0px 1px 3px 1px rgba(60, 64, 67, 0.15);\n",
              "      fill: #174EA6;\n",
              "    }\n",
              "\n",
              "    [theme=dark] .colab-df-convert {\n",
              "      background-color: #3B4455;\n",
              "      fill: #D2E3FC;\n",
              "    }\n",
              "\n",
              "    [theme=dark] .colab-df-convert:hover {\n",
              "      background-color: #434B5C;\n",
              "      box-shadow: 0px 1px 3px 1px rgba(0, 0, 0, 0.15);\n",
              "      filter: drop-shadow(0px 1px 2px rgba(0, 0, 0, 0.3));\n",
              "      fill: #FFFFFF;\n",
              "    }\n",
              "  </style>\n",
              "\n",
              "      <script>\n",
              "        const buttonEl =\n",
              "          document.querySelector('#df-a700c268-4e61-4cbb-9a27-aa5b23de96ed button.colab-df-convert');\n",
              "        buttonEl.style.display =\n",
              "          google.colab.kernel.accessAllowed ? 'block' : 'none';\n",
              "\n",
              "        async function convertToInteractive(key) {\n",
              "          const element = document.querySelector('#df-a700c268-4e61-4cbb-9a27-aa5b23de96ed');\n",
              "          const dataTable =\n",
              "            await google.colab.kernel.invokeFunction('convertToInteractive',\n",
              "                                                     [key], {});\n",
              "          if (!dataTable) return;\n",
              "\n",
              "          const docLinkHtml = 'Like what you see? Visit the ' +\n",
              "            '<a target=\"_blank\" href=https://colab.research.google.com/notebooks/data_table.ipynb>data table notebook</a>'\n",
              "            + ' to learn more about interactive tables.';\n",
              "          element.innerHTML = '';\n",
              "          dataTable['output_type'] = 'display_data';\n",
              "          await google.colab.output.renderOutput(dataTable, element);\n",
              "          const docLink = document.createElement('div');\n",
              "          docLink.innerHTML = docLinkHtml;\n",
              "          element.appendChild(docLink);\n",
              "        }\n",
              "      </script>\n",
              "    </div>\n",
              "  </div>\n",
              "  "
            ]
          },
          "metadata": {},
          "execution_count": 15
        }
      ]
    },
    {
      "cell_type": "code",
      "source": [
        "predicted_true_positive_percentage = cm[1,1] / (cm[1,1] + cm[0,1])\n",
        "predicted_true_negative_percentage = cm[0,0] / (cm[0,0] + cm[1,0])\n",
        "# Saving the general aspects in a df\n",
        "d = {'predicted_true_positive_percentage': [predicted_true_positive_percentage], 'predicted_true_negative_percentage': [predicted_true_negative_percentage]}\n",
        "true_predicted_percentage = pd.DataFrame(data=d)\n",
        "dump(true_predicted_percentage, f\"./true_predicted_percentage.joblib\")\n",
        "true_predicted_percentage"
      ],
      "metadata": {
        "id": "aC62yFPt0d9-",
        "colab": {
          "base_uri": "https://localhost:8080/",
          "height": 81
        },
        "outputId": "69369db7-0d75-42ab-b25a-0e878c01cb1c"
      },
      "execution_count": 16,
      "outputs": [
        {
          "output_type": "execute_result",
          "data": {
            "text/plain": [
              "   predicted_true_positive_percentage  predicted_true_negative_percentage\n",
              "0                            0.578089                            0.825312"
            ],
            "text/html": [
              "\n",
              "  <div id=\"df-91189bbe-8acf-4955-a54d-cfe5586e7298\">\n",
              "    <div class=\"colab-df-container\">\n",
              "      <div>\n",
              "<style scoped>\n",
              "    .dataframe tbody tr th:only-of-type {\n",
              "        vertical-align: middle;\n",
              "    }\n",
              "\n",
              "    .dataframe tbody tr th {\n",
              "        vertical-align: top;\n",
              "    }\n",
              "\n",
              "    .dataframe thead th {\n",
              "        text-align: right;\n",
              "    }\n",
              "</style>\n",
              "<table border=\"1\" class=\"dataframe\">\n",
              "  <thead>\n",
              "    <tr style=\"text-align: right;\">\n",
              "      <th></th>\n",
              "      <th>predicted_true_positive_percentage</th>\n",
              "      <th>predicted_true_negative_percentage</th>\n",
              "    </tr>\n",
              "  </thead>\n",
              "  <tbody>\n",
              "    <tr>\n",
              "      <th>0</th>\n",
              "      <td>0.578089</td>\n",
              "      <td>0.825312</td>\n",
              "    </tr>\n",
              "  </tbody>\n",
              "</table>\n",
              "</div>\n",
              "      <button class=\"colab-df-convert\" onclick=\"convertToInteractive('df-91189bbe-8acf-4955-a54d-cfe5586e7298')\"\n",
              "              title=\"Convert this dataframe to an interactive table.\"\n",
              "              style=\"display:none;\">\n",
              "        \n",
              "  <svg xmlns=\"http://www.w3.org/2000/svg\" height=\"24px\"viewBox=\"0 0 24 24\"\n",
              "       width=\"24px\">\n",
              "    <path d=\"M0 0h24v24H0V0z\" fill=\"none\"/>\n",
              "    <path d=\"M18.56 5.44l.94 2.06.94-2.06 2.06-.94-2.06-.94-.94-2.06-.94 2.06-2.06.94zm-11 1L8.5 8.5l.94-2.06 2.06-.94-2.06-.94L8.5 2.5l-.94 2.06-2.06.94zm10 10l.94 2.06.94-2.06 2.06-.94-2.06-.94-.94-2.06-.94 2.06-2.06.94z\"/><path d=\"M17.41 7.96l-1.37-1.37c-.4-.4-.92-.59-1.43-.59-.52 0-1.04.2-1.43.59L10.3 9.45l-7.72 7.72c-.78.78-.78 2.05 0 2.83L4 21.41c.39.39.9.59 1.41.59.51 0 1.02-.2 1.41-.59l7.78-7.78 2.81-2.81c.8-.78.8-2.07 0-2.86zM5.41 20L4 18.59l7.72-7.72 1.47 1.35L5.41 20z\"/>\n",
              "  </svg>\n",
              "      </button>\n",
              "      \n",
              "  <style>\n",
              "    .colab-df-container {\n",
              "      display:flex;\n",
              "      flex-wrap:wrap;\n",
              "      gap: 12px;\n",
              "    }\n",
              "\n",
              "    .colab-df-convert {\n",
              "      background-color: #E8F0FE;\n",
              "      border: none;\n",
              "      border-radius: 50%;\n",
              "      cursor: pointer;\n",
              "      display: none;\n",
              "      fill: #1967D2;\n",
              "      height: 32px;\n",
              "      padding: 0 0 0 0;\n",
              "      width: 32px;\n",
              "    }\n",
              "\n",
              "    .colab-df-convert:hover {\n",
              "      background-color: #E2EBFA;\n",
              "      box-shadow: 0px 1px 2px rgba(60, 64, 67, 0.3), 0px 1px 3px 1px rgba(60, 64, 67, 0.15);\n",
              "      fill: #174EA6;\n",
              "    }\n",
              "\n",
              "    [theme=dark] .colab-df-convert {\n",
              "      background-color: #3B4455;\n",
              "      fill: #D2E3FC;\n",
              "    }\n",
              "\n",
              "    [theme=dark] .colab-df-convert:hover {\n",
              "      background-color: #434B5C;\n",
              "      box-shadow: 0px 1px 3px 1px rgba(0, 0, 0, 0.15);\n",
              "      filter: drop-shadow(0px 1px 2px rgba(0, 0, 0, 0.3));\n",
              "      fill: #FFFFFF;\n",
              "    }\n",
              "  </style>\n",
              "\n",
              "      <script>\n",
              "        const buttonEl =\n",
              "          document.querySelector('#df-91189bbe-8acf-4955-a54d-cfe5586e7298 button.colab-df-convert');\n",
              "        buttonEl.style.display =\n",
              "          google.colab.kernel.accessAllowed ? 'block' : 'none';\n",
              "\n",
              "        async function convertToInteractive(key) {\n",
              "          const element = document.querySelector('#df-91189bbe-8acf-4955-a54d-cfe5586e7298');\n",
              "          const dataTable =\n",
              "            await google.colab.kernel.invokeFunction('convertToInteractive',\n",
              "                                                     [key], {});\n",
              "          if (!dataTable) return;\n",
              "\n",
              "          const docLinkHtml = 'Like what you see? Visit the ' +\n",
              "            '<a target=\"_blank\" href=https://colab.research.google.com/notebooks/data_table.ipynb>data table notebook</a>'\n",
              "            + ' to learn more about interactive tables.';\n",
              "          element.innerHTML = '';\n",
              "          dataTable['output_type'] = 'display_data';\n",
              "          await google.colab.output.renderOutput(dataTable, element);\n",
              "          const docLink = document.createElement('div');\n",
              "          docLink.innerHTML = docLinkHtml;\n",
              "          element.appendChild(docLink);\n",
              "        }\n",
              "      </script>\n",
              "    </div>\n",
              "  </div>\n",
              "  "
            ]
          },
          "metadata": {},
          "execution_count": 16
        }
      ]
    },
    {
      "cell_type": "code",
      "source": [
        "cnn_improved_model.summary()"
      ],
      "metadata": {
        "colab": {
          "base_uri": "https://localhost:8080/"
        },
        "id": "ltNAhzgq-cYR",
        "outputId": "24b24dac-2d9b-4370-f435-aa75ea81d1e3"
      },
      "execution_count": 17,
      "outputs": [
        {
          "output_type": "stream",
          "name": "stdout",
          "text": [
            "Model: \"sequential_1\"\n",
            "_________________________________________________________________\n",
            " Layer (type)                Output Shape              Param #   \n",
            "=================================================================\n",
            " conv1d_1 (Conv1D)           (None, 4, 32)             96        \n",
            "                                                                 \n",
            " dense_3 (Dense)             (None, 4, 16)             528       \n",
            "                                                                 \n",
            " max_pooling1d_1 (MaxPooling  (None, 4, 16)            0         \n",
            " 1D)                                                             \n",
            "                                                                 \n",
            " conv1d_2 (Conv1D)           (None, 3, 16)             528       \n",
            "                                                                 \n",
            " flatten_1 (Flatten)         (None, 48)                0         \n",
            "                                                                 \n",
            " dense_4 (Dense)             (None, 16)                784       \n",
            "                                                                 \n",
            " dense_5 (Dense)             (None, 2)                 34        \n",
            "                                                                 \n",
            "=================================================================\n",
            "Total params: 1,970\n",
            "Trainable params: 1,970\n",
            "Non-trainable params: 0\n",
            "_________________________________________________________________\n"
          ]
        }
      ]
    },
    {
      "cell_type": "code",
      "source": [
        "# Plotting the accuracy of the training (train and validation)\n",
        "plt.plot(history.history['accuracy'], label='accuracy')\n",
        "plt.plot(history.history['val_accuracy'], label = 'val_accuracy')\n",
        "plt.xlabel('Epoch')\n",
        "plt.ylabel('Accuracy')\n",
        "plt.ylim([0.5, 1])\n",
        "plt.legend(loc='lower right')\n",
        "\n",
        "test_loss, test_acc = cnn_improved_model.evaluate(x_test, y_test, verbose=2)\n",
        "print(test_acc)\n",
        "\n"
      ],
      "metadata": {
        "colab": {
          "base_uri": "https://localhost:8080/",
          "height": 318
        },
        "id": "WwBhmONFGRqb",
        "outputId": "99127609-9e6a-4b68-89be-4c9348d2db87"
      },
      "execution_count": 18,
      "outputs": [
        {
          "output_type": "stream",
          "name": "stdout",
          "text": [
            "66/66 - 0s - loss: 0.4478 - accuracy: 0.7751 - 142ms/epoch - 2ms/step\n",
            "0.7750946879386902\n"
          ]
        },
        {
          "output_type": "display_data",
          "data": {
            "text/plain": [
              "<Figure size 432x288 with 1 Axes>"
            ],
            "image/png": "[encoded data removed]"
          },
          "metadata": {
            "needs_background": "light"
          }
        }
      ]
    },
    {
      "cell_type": "code",
      "source": [
        "# Calculating the MSE and accuracy in the training and test\n",
        "\n",
        "# Train MSE and Accuracy\n",
        "train_loss, train_acc = cnn_improved_model.evaluate(x_train, y_train, verbose=2)\n",
        "test_loss, test_acc = cnn_improved_model.evaluate(x_test, y_test, verbose=2)\n",
        "\n",
        "print(f'MSE Train: {1-train_acc}')\n",
        "print(f'Accuracy Train: {train_acc}')\n",
        "\n",
        "# Test MSE and Accuracy\n",
        "print(f'MSE Test: {1-test_acc}')\n",
        "print(f'Accuracy Test: {test_acc}')"
      ],
      "metadata": {
        "id": "KlACcIjQbpGO",
        "colab": {
          "base_uri": "https://localhost:8080/"
        },
        "outputId": "e535f0e8-3f76-4640-9c46-3cbe4ec6212c"
      },
      "execution_count": 19,
      "outputs": [
        {
          "output_type": "stream",
          "name": "stdout",
          "text": [
            "155/155 - 1s - loss: 0.4333 - accuracy: 0.7976 - 513ms/epoch - 3ms/step\n",
            "66/66 - 0s - loss: 0.4478 - accuracy: 0.7751 - 125ms/epoch - 2ms/step\n",
            "MSE Train: 0.20239299535751343\n",
            "Accuracy Train: 0.7976070046424866\n",
            "MSE Test: 0.22490531206130981\n",
            "Accuracy Test: 0.7750946879386902\n"
          ]
        }
      ]
    },
    {
      "cell_type": "code",
      "source": [
        "if smote:\n",
        "    dump(cnn_improved_model, \"./cnn_model_smote.joblib\")\n",
        "else:\n",
        "    dump(cnn_improved_model, \"./cnn_model.joblib\")"
      ],
      "metadata": {
        "colab": {
          "base_uri": "https://localhost:8080/"
        },
        "id": "Z8cRJKV9Bz2P",
        "outputId": "6d208373-1ae7-4213-eb20-ce111dc9d7c6"
      },
      "execution_count": 20,
      "outputs": [
        {
          "output_type": "stream",
          "name": "stderr",
          "text": [
            "WARNING:absl:Found untraced functions such as _jit_compiled_convolution_op, _jit_compiled_convolution_op while saving (showing 2 of 2). These functions will not be directly callable after loading.\n"
          ]
        }
      ]
    }
  ],
  "metadata": {
    "kernelspec": {
      "display_name": "Python 3.10.4 ('Statistics')",
      "language": "python",
      "name": "python3"
    },
    "language_info": {
      "codemirror_mode": {
        "name": "ipython",
        "version": 3
      },
      "file_extension": ".py",
      "mimetype": "text/x-python",
      "name": "python",
      "nbconvert_exporter": "python",
      "pygments_lexer": "ipython3",
      "version": "3.10.4"
    },
    "orig_nbformat": 4,
    "vscode": {
      "interpreter": {
        "hash": "1365f7312f0ac659adc64cf9ad70f48f473b7d9bf5c210bebce62c7e15bdcca9"
      }
    },
    "colab": {
      "provenance": []
    },
    "accelerator": "GPU",
    "gpuClass": "standard"
  },
  "nbformat": 4,
  "nbformat_minor": 0
}