{
  "cells": [
    {
      "cell_type": "markdown",
      "source": [
        "# **CNN Model**\n",
        "\n",
        "*Authors:*\n",
        "- *Myroslava Sánchez Andrade A01730712*\n",
        "- *Karen Rugerio Armenta A01733228*\n",
        "- *José Antonio Bobadilla García A01734433*\n",
        "- *Alejandro Castro Reus A01731065*\n",
        "\n",
        "*Creation date: 15/10/2022*\n",
        "\n",
        "*Last updated: 27/11/2022*\n",
        "\n",
        "---"
      ],
      "metadata": {
        "id": "yBl3h5_H7TN0"
      }
    },
    {
      "cell_type": "code",
      "execution_count": 1,
      "metadata": {
        "id": "ynUBi41n0w9I"
      },
      "outputs": [],
      "source": [
        "import pandas as pd\n",
        "import tensorflow as tf\n",
        "from tensorflow.keras import datasets, layers, models\n",
        "import matplotlib.pyplot as plt\n",
        "import matplotlib as mpl\n",
        "from joblib import dump, load"
      ]
    },
    {
      "cell_type": "code",
      "source": [
        "# RUN ONLY FOR GOOGLE COLAB\n",
        "\n",
        "from google.colab import drive\n",
        "\n",
        "drive.mount(\"/content/gdrive\")  \n",
        "\n",
        "%cd \"/content/gdrive/MyDrive/Colab Notebooks\""
      ],
      "metadata": {
        "colab": {
          "base_uri": "https://localhost:8080/"
        },
        "id": "ufH4sG6L1BGT",
        "outputId": "eb2c6c71-0291-4a0e-f278-7a13ad04646e"
      },
      "execution_count": 2,
      "outputs": [
        {
          "output_type": "stream",
          "name": "stdout",
          "text": [
            "Drive already mounted at /content/gdrive; to attempt to forcibly remount, call drive.mount(\"/content/gdrive\", force_remount=True).\n",
            "/content/gdrive/MyDrive/Colab Notebooks\n"
          ]
        }
      ]
    },
    {
      "cell_type": "code",
      "source": [
        "smote = False"
      ],
      "metadata": {
        "id": "8OrgGIBt77nn"
      },
      "execution_count": 3,
      "outputs": []
    },
    {
      "cell_type": "code",
      "source": [
        "# Obtaining the train and test dataset\n",
        "x_test = pd.read_csv('./data/WA_Fn-UseC_-Telco-Customer-Churn/test/x_test.csv')\n",
        "y_test = pd.read_csv('./data/WA_Fn-UseC_-Telco-Customer-Churn/test/y_test.csv')"
      ],
      "metadata": {
        "id": "VxfW2geM8WWh"
      },
      "execution_count": 4,
      "outputs": []
    },
    {
      "cell_type": "code",
      "source": [
        "if smote:\n",
        "    x_train = pd.read_csv('./data/WA_Fn-UseC_-Telco-Customer-Churn/train/x_train.csv')\n",
        "    y_train = pd.read_csv('./data/WA_Fn-UseC_-Telco-Customer-Churn/train/y_train.csv')\n",
        "else:    \n",
        "    # Dividing the train dataset\n",
        "    train = pd.read_csv('./data/WA_Fn-UseC_-Telco-Customer-Churn/train/original_train.csv')\n",
        "    x_train = train.drop(['Churn'], axis=1)\n",
        "    y_train = pd.DataFrame(train['Churn'])"
      ],
      "metadata": {
        "id": "xSm1pSeV83T9"
      },
      "execution_count": 5,
      "outputs": []
    },
    {
      "cell_type": "code",
      "source": [
        "# Defining the model\n",
        "cnn_model = models.Sequential()\n",
        "cnn_model.add(layers.Conv1D(128, 3, activation='relu', input_shape=(x_train.shape[1],1)))\n",
        "cnn_model.add(layers.MaxPooling1D(2))\n",
        "cnn_model.add(layers.LeakyReLU())\n",
        "cnn_model.add(layers.Dropout(0.5))\n",
        "cnn_model.add(layers.Dense(32, activation='relu'))\n",
        "cnn_model.add(layers.LeakyReLU())\n",
        "cnn_model.add(layers.Dropout(0.5))\n",
        "cnn_model.add(layers.Flatten())\n",
        "cnn_model.add(layers.Dense(64, activation='relu'))\n",
        "cnn_model.add(layers.Dense(2))"
      ],
      "metadata": {
        "id": "1ei3wUlo8fPO"
      },
      "execution_count": 25,
      "outputs": []
    },
    {
      "cell_type": "code",
      "execution_count": 26,
      "metadata": {
        "colab": {
          "base_uri": "https://localhost:8080/"
        },
        "id": "kaNtv6cg0w9P",
        "outputId": "94c46f9d-1a33-46ee-bfd6-1b86bc4acaf2"
      },
      "outputs": [
        {
          "output_type": "stream",
          "name": "stdout",
          "text": [
            "Epoch 1/10\n",
            "155/155 [==============================] - 1s 6ms/step - loss: 0.5323 - accuracy: 0.7305 - val_loss: 0.4864 - val_accuracy: 0.7434\n",
            "Epoch 2/10\n",
            "155/155 [==============================] - 1s 5ms/step - loss: 0.5054 - accuracy: 0.7311 - val_loss: 0.4846 - val_accuracy: 0.7562\n",
            "Epoch 3/10\n",
            "155/155 [==============================] - 1s 4ms/step - loss: 0.5007 - accuracy: 0.7497 - val_loss: 0.4760 - val_accuracy: 0.7580\n",
            "Epoch 4/10\n",
            "155/155 [==============================] - 1s 4ms/step - loss: 0.4978 - accuracy: 0.7564 - val_loss: 0.4719 - val_accuracy: 0.7670\n",
            "Epoch 5/10\n",
            "155/155 [==============================] - 1s 5ms/step - loss: 0.4936 - accuracy: 0.7538 - val_loss: 0.4816 - val_accuracy: 0.7642\n",
            "Epoch 6/10\n",
            "155/155 [==============================] - 1s 5ms/step - loss: 0.4888 - accuracy: 0.7564 - val_loss: 0.4664 - val_accuracy: 0.7689\n",
            "Epoch 7/10\n",
            "155/155 [==============================] - 1s 5ms/step - loss: 0.4830 - accuracy: 0.7656 - val_loss: 0.4716 - val_accuracy: 0.7590\n",
            "Epoch 8/10\n",
            "155/155 [==============================] - 1s 4ms/step - loss: 0.4835 - accuracy: 0.7682 - val_loss: 0.4749 - val_accuracy: 0.7642\n",
            "Epoch 9/10\n",
            "155/155 [==============================] - 1s 4ms/step - loss: 0.4814 - accuracy: 0.7643 - val_loss: 0.4716 - val_accuracy: 0.7713\n",
            "Epoch 10/10\n",
            "155/155 [==============================] - 1s 4ms/step - loss: 0.4783 - accuracy: 0.7652 - val_loss: 0.4655 - val_accuracy: 0.7689\n"
          ]
        }
      ],
      "source": [
        "# Training the model \n",
        "cnn_model.compile(optimizer='adam',\n",
        "              loss=tf.keras.losses.SparseCategoricalCrossentropy(from_logits=True),\n",
        "              metrics=['accuracy'])\n",
        "\n",
        "history = cnn_model.fit(x_train, y_train, epochs=10, \n",
        "                    validation_data=(x_test, y_test))"
      ]
    },
    {
      "cell_type": "code",
      "source": [
        "cnn_model.summary()"
      ],
      "metadata": {
        "id": "oevGV2fhICTC",
        "colab": {
          "base_uri": "https://localhost:8080/"
        },
        "outputId": "2a6152b0-f214-4bed-f402-e4c76473d14c"
      },
      "execution_count": 27,
      "outputs": [
        {
          "output_type": "stream",
          "name": "stdout",
          "text": [
            "Model: \"sequential_4\"\n",
            "_________________________________________________________________\n",
            " Layer (type)                Output Shape              Param #   \n",
            "=================================================================\n",
            " conv1d_7 (Conv1D)           (None, 3, 128)            512       \n",
            "                                                                 \n",
            " max_pooling1d_4 (MaxPooling  (None, 1, 128)           0         \n",
            " 1D)                                                             \n",
            "                                                                 \n",
            " leaky_re_lu_2 (LeakyReLU)   (None, 1, 128)            0         \n",
            "                                                                 \n",
            " dropout_5 (Dropout)         (None, 1, 128)            0         \n",
            "                                                                 \n",
            " dense_12 (Dense)            (None, 1, 32)             4128      \n",
            "                                                                 \n",
            " leaky_re_lu_3 (LeakyReLU)   (None, 1, 32)             0         \n",
            "                                                                 \n",
            " dropout_6 (Dropout)         (None, 1, 32)             0         \n",
            "                                                                 \n",
            " flatten_4 (Flatten)         (None, 32)                0         \n",
            "                                                                 \n",
            " dense_13 (Dense)            (None, 64)                2112      \n",
            "                                                                 \n",
            " dense_14 (Dense)            (None, 2)                 130       \n",
            "                                                                 \n",
            "=================================================================\n",
            "Total params: 6,882\n",
            "Trainable params: 6,882\n",
            "Non-trainable params: 0\n",
            "_________________________________________________________________\n"
          ]
        }
      ]
    },
    {
      "cell_type": "code",
      "source": [
        "# Plotting the accuracy of the training (train and validation)\n",
        "plt.plot(history.history['accuracy'], label='accuracy')\n",
        "plt.plot(history.history['val_accuracy'], label = 'val_accuracy')\n",
        "plt.xlabel('Epoch')\n",
        "plt.ylabel('Accuracy')\n",
        "plt.ylim([0.5, 1])\n",
        "plt.legend(loc='lower right')\n",
        "\n",
        "test_loss, test_acc = cnn_model.evaluate(x_test, y_test, verbose=2)\n",
        "print(test_acc)"
      ],
      "metadata": {
        "colab": {
          "base_uri": "https://localhost:8080/",
          "height": 318
        },
        "id": "W7l-rSOlzlDe",
        "outputId": "3fe17191-8e64-49e0-e6f2-03a59955fec7"
      },
      "execution_count": 28,
      "outputs": [
        {
          "output_type": "stream",
          "name": "stdout",
          "text": [
            "66/66 - 0s - loss: 0.4655 - accuracy: 0.7689 - 145ms/epoch - 2ms/step\n",
            "0.7689393758773804\n"
          ]
        },
        {
          "output_type": "display_data",
          "data": {
            "text/plain": [
              "<Figure size 432x288 with 1 Axes>"
            ],
            "image/png": "[encoded data removed]"
          },
          "metadata": {
            "needs_background": "light"
          }
        }
      ]
    },
    {
      "cell_type": "code",
      "source": [
        "# Calculating the MSE and accuracy in the training and test\n",
        "\n",
        "# Train MSE and Accuracy\n",
        "train_loss, train_acc = cnn_model.evaluate(x_train, y_train, verbose=2)\n",
        "test_loss, test_acc = cnn_model.evaluate(x_test, y_test, verbose=2)\n",
        "\n",
        "print(f'MSE Train: {1-train_acc}')\n",
        "print(f'Accuracy Train: {train_acc}')\n",
        "\n",
        "# Test MSE and Accuracy\n",
        "print(f'MSE Test: {1-test_acc}')\n",
        "print(f'Accuracy Test: {test_acc}')"
      ],
      "metadata": {
        "colab": {
          "base_uri": "https://localhost:8080/"
        },
        "id": "Lvx67b4t0WDG",
        "outputId": "b6f1db8f-5cc0-49fc-a921-12141b754563"
      },
      "execution_count": 29,
      "outputs": [
        {
          "output_type": "stream",
          "name": "stdout",
          "text": [
            "155/155 - 1s - loss: 0.4641 - accuracy: 0.7802 - 531ms/epoch - 3ms/step\n",
            "66/66 - 0s - loss: 0.4655 - accuracy: 0.7689 - 143ms/epoch - 2ms/step\n",
            "MSE Train: 0.21983373165130615\n",
            "Accuracy Train: 0.7801662683486938\n",
            "MSE Test: 0.23106062412261963\n",
            "Accuracy Test: 0.7689393758773804\n"
          ]
        }
      ]
    },
    {
      "cell_type": "markdown",
      "source": [
        "### ***Improving the model***"
      ],
      "metadata": {
        "id": "9ACLP2Zm1evC"
      }
    },
    {
      "cell_type": "code",
      "execution_count": 23,
      "metadata": {
        "id": "SqD1OKJu0w9O"
      },
      "outputs": [],
      "source": [
        "# Improving the model\n",
        "cnn_improved_model = models.Sequential()\n",
        "cnn_improved_model.add(layers.Conv1D(32, 2, activation='relu', input_shape=(x_train.shape[1],1)))\n",
        "cnn_improved_model.add(layers.Dense(16, activation='relu'))\n",
        "cnn_improved_model.add(layers.MaxPooling1D(1))\n",
        "cnn_model.add(layers.Dropout(0.3))\n",
        "cnn_improved_model.add(layers.Conv1D(16, 2, activation='relu'))\n",
        "cnn_improved_model.add(layers.Flatten())\n",
        "cnn_improved_model.add(layers.Dense(16, activation='relu'))\n",
        "cnn_improved_model.add(layers.Dense(2))"
      ]
    },
    {
      "cell_type": "code",
      "source": [
        "# Training the model \n",
        "cnn_improved_model.compile(optimizer='adam',\n",
        "              loss=tf.keras.losses.SparseCategoricalCrossentropy(from_logits=True),\n",
        "              metrics=['accuracy'])\n",
        "\n",
        "history = cnn_improved_model.fit(x_train, y_train, epochs=10, \n",
        "                    validation_data=(x_test, y_test))"
      ],
      "metadata": {
        "colab": {
          "base_uri": "https://localhost:8080/"
        },
        "id": "NMKyog-R-C9o",
        "outputId": "e7295411-f479-4e6d-9f50-d6ad752aa348"
      },
      "execution_count": 24,
      "outputs": [
        {
          "output_type": "stream",
          "name": "stdout",
          "text": [
            "Epoch 1/10\n",
            "155/155 [==============================] - 1s 6ms/step - loss: 0.5344 - accuracy: 0.7335 - val_loss: 0.4656 - val_accuracy: 0.7661\n",
            "Epoch 2/10\n",
            "155/155 [==============================] - 1s 4ms/step - loss: 0.4571 - accuracy: 0.7834 - val_loss: 0.4529 - val_accuracy: 0.7723\n",
            "Epoch 3/10\n",
            "155/155 [==============================] - 1s 4ms/step - loss: 0.4453 - accuracy: 0.7919 - val_loss: 0.4509 - val_accuracy: 0.7760\n",
            "Epoch 4/10\n",
            "155/155 [==============================] - 1s 4ms/step - loss: 0.4408 - accuracy: 0.7972 - val_loss: 0.4446 - val_accuracy: 0.7798\n",
            "Epoch 5/10\n",
            "155/155 [==============================] - 1s 4ms/step - loss: 0.4395 - accuracy: 0.7964 - val_loss: 0.4495 - val_accuracy: 0.7794\n",
            "Epoch 6/10\n",
            "155/155 [==============================] - 1s 5ms/step - loss: 0.4407 - accuracy: 0.7919 - val_loss: 0.4454 - val_accuracy: 0.7827\n",
            "Epoch 7/10\n",
            "155/155 [==============================] - 1s 4ms/step - loss: 0.4371 - accuracy: 0.7923 - val_loss: 0.4531 - val_accuracy: 0.7732\n",
            "Epoch 8/10\n",
            "155/155 [==============================] - 1s 5ms/step - loss: 0.4376 - accuracy: 0.7899 - val_loss: 0.4521 - val_accuracy: 0.7779\n",
            "Epoch 9/10\n",
            "155/155 [==============================] - 1s 5ms/step - loss: 0.4370 - accuracy: 0.7950 - val_loss: 0.4499 - val_accuracy: 0.7794\n",
            "Epoch 10/10\n",
            "155/155 [==============================] - 1s 4ms/step - loss: 0.4343 - accuracy: 0.7925 - val_loss: 0.4493 - val_accuracy: 0.7789\n"
          ]
        }
      ]
    },
    {
      "cell_type": "code",
      "source": [
        "cnn_improved_model.summary()"
      ],
      "metadata": {
        "colab": {
          "base_uri": "https://localhost:8080/"
        },
        "id": "ltNAhzgq-cYR",
        "outputId": "c52017fa-d781-4ee6-c091-bdb5572223fe"
      },
      "execution_count": 17,
      "outputs": [
        {
          "output_type": "stream",
          "name": "stdout",
          "text": [
            "Model: \"sequential_1\"\n",
            "_________________________________________________________________\n",
            " Layer (type)                Output Shape              Param #   \n",
            "=================================================================\n",
            " conv1d_1 (Conv1D)           (None, 4, 32)             96        \n",
            "                                                                 \n",
            " dense_3 (Dense)             (None, 4, 16)             528       \n",
            "                                                                 \n",
            " max_pooling1d_1 (MaxPooling  (None, 4, 16)            0         \n",
            " 1D)                                                             \n",
            "                                                                 \n",
            " conv1d_2 (Conv1D)           (None, 3, 16)             528       \n",
            "                                                                 \n",
            " flatten_1 (Flatten)         (None, 48)                0         \n",
            "                                                                 \n",
            " dense_4 (Dense)             (None, 16)                784       \n",
            "                                                                 \n",
            " dense_5 (Dense)             (None, 2)                 34        \n",
            "                                                                 \n",
            "=================================================================\n",
            "Total params: 1,970\n",
            "Trainable params: 1,970\n",
            "Non-trainable params: 0\n",
            "_________________________________________________________________\n"
          ]
        }
      ]
    },
    {
      "cell_type": "code",
      "source": [
        "# Plotting the accuracy of the training (train and validation)\n",
        "plt.plot(history.history['accuracy'], label='accuracy')\n",
        "plt.plot(history.history['val_accuracy'], label = 'val_accuracy')\n",
        "plt.xlabel('Epoch')\n",
        "plt.ylabel('Accuracy')\n",
        "plt.ylim([0.5, 1])\n",
        "plt.legend(loc='lower right')\n",
        "\n",
        "test_loss, test_acc = cnn_improved_model.evaluate(x_test, y_test, verbose=2)\n",
        "print(test_acc)\n",
        "\n"
      ],
      "metadata": {
        "colab": {
          "base_uri": "https://localhost:8080/",
          "height": 318
        },
        "id": "WwBhmONFGRqb",
        "outputId": "3f60a5a2-e3de-4fc8-e4b6-268e21897ddf"
      },
      "execution_count": 18,
      "outputs": [
        {
          "output_type": "stream",
          "name": "stdout",
          "text": [
            "66/66 - 0s - loss: 0.4482 - accuracy: 0.7784 - 129ms/epoch - 2ms/step\n",
            "0.7784090638160706\n"
          ]
        },
        {
          "output_type": "display_data",
          "data": {
            "text/plain": [
              "<Figure size 432x288 with 1 Axes>"
            ],
            "image/png": "[encoded data removed]"
          },
          "metadata": {
            "needs_background": "light"
          }
        }
      ]
    },
    {
      "cell_type": "code",
      "source": [
        "# Calculating the MSE and accuracy in the training and test\n",
        "\n",
        "# Train MSE and Accuracy\n",
        "train_loss, train_acc = cnn_improved_model.evaluate(x_train, y_train, verbose=2)\n",
        "test_loss, test_acc = cnn_improved_model.evaluate(x_test, y_test, verbose=2)\n",
        "\n",
        "print(f'MSE Train: {1-train_acc}')\n",
        "print(f'Accuracy Train: {train_acc}')\n",
        "\n",
        "# Test MSE and Accuracy\n",
        "print(f'MSE Test: {1-test_acc}')\n",
        "print(f'Accuracy Test: {test_acc}')"
      ],
      "metadata": {
        "id": "KlACcIjQbpGO",
        "colab": {
          "base_uri": "https://localhost:8080/"
        },
        "outputId": "fa9b61dc-0a71-4cef-e128-16e44fae97fc"
      },
      "execution_count": 19,
      "outputs": [
        {
          "output_type": "stream",
          "name": "stdout",
          "text": [
            "155/155 - 1s - loss: 0.4315 - accuracy: 0.7972 - 520ms/epoch - 3ms/step\n",
            "66/66 - 0s - loss: 0.4482 - accuracy: 0.7784 - 130ms/epoch - 2ms/step\n",
            "MSE Train: 0.20279860496520996\n",
            "Accuracy Train: 0.79720139503479\n",
            "MSE Test: 0.22159093618392944\n",
            "Accuracy Test: 0.7784090638160706\n"
          ]
        }
      ]
    },
    {
      "cell_type": "code",
      "source": [
        "if smote:\n",
        "    dump(cnn_improved_model, \"./cnn_model_smote.joblib\")\n",
        "else:\n",
        "    dump(cnn_improved_model, \"./cnn_model.joblib\")"
      ],
      "metadata": {
        "colab": {
          "base_uri": "https://localhost:8080/"
        },
        "id": "Z8cRJKV9Bz2P",
        "outputId": "a57f1565-c597-4f60-e445-5548c88b42d0"
      },
      "execution_count": 30,
      "outputs": [
        {
          "output_type": "stream",
          "name": "stderr",
          "text": [
            "WARNING:absl:Found untraced functions such as _jit_compiled_convolution_op, _jit_compiled_convolution_op while saving (showing 2 of 2). These functions will not be directly callable after loading.\n"
          ]
        }
      ]
    }
  ],
  "metadata": {
    "kernelspec": {
      "display_name": "Python 3.10.4 ('Statistics')",
      "language": "python",
      "name": "python3"
    },
    "language_info": {
      "codemirror_mode": {
        "name": "ipython",
        "version": 3
      },
      "file_extension": ".py",
      "mimetype": "text/x-python",
      "name": "python",
      "nbconvert_exporter": "python",
      "pygments_lexer": "ipython3",
      "version": "3.10.4"
    },
    "orig_nbformat": 4,
    "vscode": {
      "interpreter": {
        "hash": "1365f7312f0ac659adc64cf9ad70f48f473b7d9bf5c210bebce62c7e15bdcca9"
      }
    },
    "colab": {
      "provenance": []
    },
    "accelerator": "GPU",
    "gpuClass": "standard"
  },
  "nbformat": 4,
  "nbformat_minor": 0
}