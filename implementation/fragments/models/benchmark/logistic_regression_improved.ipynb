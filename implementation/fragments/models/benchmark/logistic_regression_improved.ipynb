{
 "cells": [
  {
   "cell_type": "markdown",
   "metadata": {},
   "source": [
    "# **Logistic regression**\n",
    "\n",
    "*Authors:*\n",
    "- *Myroslava Sánchez Andrade A01730712*\n",
    "- *Karen Rugerio Armenta A01733228*\n",
    "- *José Antonio Bobadilla García A01734433*\n",
    "- *Alejandro Castro Reus A01731065*\n",
    "\n",
    "*Creation date: 15/10/2022*\n",
    "\n",
    "*Last updated: 27/11/2022*\n",
    "\n",
    "---"
   ]
  },
  {
   "cell_type": "markdown",
   "metadata": {},
   "source": [
    "## **Importing data**"
   ]
  },
  {
   "cell_type": "markdown",
   "metadata": {},
   "source": [
    "In Artificial Intelligence the modeling is the **creation, training, and deployment** of Machine Learning algorithms. The goal is to emulate logical decision-making based on the available data. "
   ]
  },
  {
   "cell_type": "code",
   "execution_count": 1,
   "metadata": {},
   "outputs": [],
   "source": [
    "# RUN ONLY FOR GOOGLE COLAB\n",
    "\n",
    "# from google.colab import drive\n",
    "\n",
    "# drive.mount(\"path\")  \n",
    "\n",
    "# %cd \"path\""
   ]
  },
  {
   "cell_type": "code",
   "execution_count": 17,
   "metadata": {},
   "outputs": [],
   "source": [
    "# Importing the necessary libraries for the data analysis and transformations\n",
    "import pandas as pd\n",
    "import numpy as np\n",
    "import matplotlib.pyplot as plt\n",
    "from sklearn.linear_model import LogisticRegression\n",
    "from sklearn.model_selection import cross_validate\n",
    "from sklearn.metrics import confusion_matrix\n",
    "from sklearn.metrics import mean_squared_error\n",
    "from sklearn.metrics import accuracy_score\n",
    "from joblib import dump"
   ]
  },
  {
   "cell_type": "code",
   "execution_count": 18,
   "metadata": {},
   "outputs": [],
   "source": [
    "smote = False"
   ]
  },
  {
   "cell_type": "code",
   "execution_count": 19,
   "metadata": {},
   "outputs": [],
   "source": [
    "# Obtaining the train and test dataset\n",
    "\n",
    "x_test = pd.read_csv('../../../../data/WA_Fn-UseC_-Telco-Customer-Churn/test/x_test.csv')\n",
    "y_test = pd.read_csv('../../../../data/WA_Fn-UseC_-Telco-Customer-Churn/test/y_test.csv')"
   ]
  },
  {
   "cell_type": "code",
   "execution_count": 20,
   "metadata": {},
   "outputs": [],
   "source": [
    "if smote:\n",
    "    x_train = pd.read_csv('../../../../data/WA_Fn-UseC_-Telco-Customer-Churn/train/x_train.csv')\n",
    "    y_train = pd.read_csv('../../../../data/WA_Fn-UseC_-Telco-Customer-Churn/train/y_train.csv')\n",
    "else:    \n",
    "    # Dividing the train dataset\n",
    "    train = pd.read_csv('../../../../data/WA_Fn-UseC_-Telco-Customer-Churn/train/original_train.csv')\n",
    "    x_train = train.drop(['Churn'], axis=1)\n",
    "    y_train = pd.DataFrame(train['Churn'])"
   ]
  },
  {
   "cell_type": "code",
   "execution_count": 21,
   "metadata": {},
   "outputs": [
    {
     "name": "stderr",
     "output_type": "stream",
     "text": [
      "c:\\Users\\myros\\anaconda3\\envs\\Statistics\\lib\\site-packages\\sklearn\\utils\\validation.py:1111: DataConversionWarning: A column-vector y was passed when a 1d array was expected. Please change the shape of y to (n_samples, ), for example using ravel().\n",
      "  y = column_or_1d(y, warn=True)\n"
     ]
    }
   ],
   "source": [
    "logreg = LogisticRegression(random_state=100)\n",
    "\n",
    "# fit the model with data\n",
    "logreg.fit(x_train, y_train)\n",
    "\n",
    "y_logregpred = logreg.predict(x_test)"
   ]
  },
  {
   "cell_type": "code",
   "execution_count": 22,
   "metadata": {},
   "outputs": [
    {
     "name": "stdout",
     "output_type": "stream",
     "text": [
      "Score:\n",
      "0.7892992424242424\n"
     ]
    }
   ],
   "source": [
    "print(\"Score:\")\n",
    "print(logreg.score(x_test, y_test))"
   ]
  },
  {
   "cell_type": "code",
   "execution_count": 23,
   "metadata": {},
   "outputs": [],
   "source": [
    "#Creating a confusion matrix to help determinate accuracy wtih classification model\n",
    "def accuracy(confusion_matrix):\n",
    "   diagonal_sum = confusion_matrix.trace()\n",
    "   sum_of_all_elements = confusion_matrix.sum()\n",
    "   return diagonal_sum / sum_of_all_elements"
   ]
  },
  {
   "cell_type": "code",
   "execution_count": 24,
   "metadata": {},
   "outputs": [
    {
     "name": "stdout",
     "output_type": "stream",
     "text": [
      "Accuracy of Model: 79%\n"
     ]
    }
   ],
   "source": [
    "#Evaluataion of the predictions against the actual observations in y_val\n",
    "cm = confusion_matrix(y_logregpred, y_test)\n",
    "\n",
    "#Printing the accuracy\n",
    "acc = round(accuracy(cm),2)\n",
    "percentage = \"{:.0%}\".format(acc)\n",
    "print(f\"Accuracy of Model: {percentage}\")"
   ]
  },
  {
   "cell_type": "code",
   "execution_count": 25,
   "metadata": {},
   "outputs": [
    {
     "data": {
      "text/html": [
       "<div>\n",
       "<style scoped>\n",
       "    .dataframe tbody tr th:only-of-type {\n",
       "        vertical-align: middle;\n",
       "    }\n",
       "\n",
       "    .dataframe tbody tr th {\n",
       "        vertical-align: top;\n",
       "    }\n",
       "\n",
       "    .dataframe thead th {\n",
       "        text-align: right;\n",
       "    }\n",
       "</style>\n",
       "<table border=\"1\" class=\"dataframe\">\n",
       "  <thead>\n",
       "    <tr style=\"text-align: right;\">\n",
       "      <th></th>\n",
       "      <th>0</th>\n",
       "      <th>1</th>\n",
       "    </tr>\n",
       "  </thead>\n",
       "  <tbody>\n",
       "    <tr>\n",
       "      <th>0</th>\n",
       "      <td>1420</td>\n",
       "      <td>314</td>\n",
       "    </tr>\n",
       "    <tr>\n",
       "      <th>1</th>\n",
       "      <td>131</td>\n",
       "      <td>247</td>\n",
       "    </tr>\n",
       "  </tbody>\n",
       "</table>\n",
       "</div>"
      ],
      "text/plain": [
       "      0    1\n",
       "0  1420  314\n",
       "1   131  247"
      ]
     },
     "execution_count": 25,
     "metadata": {},
     "output_type": "execute_result"
    }
   ],
   "source": [
    "# Confussion Matrix\n",
    "pd.DataFrame(cm)"
   ]
  },
  {
   "cell_type": "code",
   "execution_count": 26,
   "metadata": {},
   "outputs": [],
   "source": [
    "# K-Fold Cross-Validation\n",
    "def cross_validation(model, _X, _y, _cv=3):\n",
    "      _scoring = ['accuracy', 'precision', 'recall', 'f1']\n",
    "      results = cross_validate(estimator=model,\n",
    "                               X=_X,\n",
    "                               y=_y,\n",
    "                               cv=_cv,\n",
    "                               scoring=_scoring,\n",
    "                               return_train_score=True)\n",
    "      \n",
    "      return {\"Training Accuracy scores\": results['train_accuracy'],\n",
    "              \"Mean Training Accuracy\": results['train_accuracy'].mean()*100,\n",
    "              \"Training Precision scores\": results['train_precision'],\n",
    "              \"Mean Training Precision\": results['train_precision'].mean(),\n",
    "              \"Training Recall scores\": results['train_recall'],\n",
    "              \"Mean Training Recall\": results['train_recall'].mean(),\n",
    "              \"Training F1 scores\": results['train_f1'],\n",
    "              \"Mean Training F1 Score\": results['train_f1'].mean(),\n",
    "              \"Validation Accuracy scores\": results['test_accuracy'],\n",
    "              \"Mean Validation Accuracy\": results['test_accuracy'].mean()*100,\n",
    "              \"Validation Precision scores\": results['test_precision'],\n",
    "              \"Mean Validation Precision\": results['test_precision'].mean(),\n",
    "              \"Validation Recall scores\": results['test_recall'],\n",
    "              \"Mean Validation Recall\": results['test_recall'].mean(),\n",
    "              \"Validation F1 scores\": results['test_f1'],\n",
    "              \"Mean Validation F1 Score\": results['test_f1'].mean()\n",
    "              }\n"
   ]
  },
  {
   "cell_type": "code",
   "execution_count": 27,
   "metadata": {},
   "outputs": [],
   "source": [
    "# Grouped Bar Chart for both training and validation data\n",
    "def plot_result(x_label, y_label, plot_title, train_data, val_data):\n",
    "        # Set size of plot\n",
    "        plt.figure(figsize=(4,3))\n",
    "        labels = [\"1st Fold\", \"2nd Fold\", \"3rd Fold\"]\n",
    "        X_axis = np.arange(len(labels))\n",
    "        ax = plt.gca()\n",
    "        plt.ylim(0.40000, 1)\n",
    "        plt.bar(X_axis-0.2, train_data, 0.4, color='blue', label='Training')\n",
    "        plt.bar(X_axis+0.2, val_data, 0.4, color='red', label='Validation')\n",
    "        plt.title(plot_title, fontsize=30)\n",
    "        plt.xticks(X_axis, labels)\n",
    "        plt.xlabel(x_label, fontsize=14)\n",
    "        plt.ylabel(y_label, fontsize=14)\n",
    "        plt.legend()\n",
    "        plt.grid(True)\n",
    "        plt.savefig('../../joblibs/WA_Fn-UseC_-Telco-Customer-Churn/model/benchmark/k_cross_plot.png')\n",
    "        plt.show()"
   ]
  },
  {
   "cell_type": "code",
   "execution_count": 28,
   "metadata": {},
   "outputs": [
    {
     "name": "stderr",
     "output_type": "stream",
     "text": [
      "c:\\Users\\myros\\anaconda3\\envs\\Statistics\\lib\\site-packages\\sklearn\\utils\\validation.py:1111: DataConversionWarning: A column-vector y was passed when a 1d array was expected. Please change the shape of y to (n_samples, ), for example using ravel().\n",
      "  y = column_or_1d(y, warn=True)\n",
      "c:\\Users\\myros\\anaconda3\\envs\\Statistics\\lib\\site-packages\\sklearn\\utils\\validation.py:1111: DataConversionWarning: A column-vector y was passed when a 1d array was expected. Please change the shape of y to (n_samples, ), for example using ravel().\n",
      "  y = column_or_1d(y, warn=True)\n",
      "c:\\Users\\myros\\anaconda3\\envs\\Statistics\\lib\\site-packages\\sklearn\\utils\\validation.py:1111: DataConversionWarning: A column-vector y was passed when a 1d array was expected. Please change the shape of y to (n_samples, ), for example using ravel().\n",
      "  y = column_or_1d(y, warn=True)\n"
     ]
    },
    {
     "data": {
      "text/plain": [
       "{'Training Accuracy scores': array([0.78764831, 0.7928202 , 0.78284672]),\n",
       " 'Mean Training Accuracy': 78.7771742549911,\n",
       " 'Training Precision scores': array([0.63509317, 0.6542811 , 0.63573883]),\n",
       " 'Mean Training Precision': 0.6417043659543419,\n",
       " 'Training Recall scores': array([0.4690367 , 0.46444954, 0.42431193]),\n",
       " 'Mean Training Recall': 0.45259938837920494,\n",
       " 'Training F1 scores': array([0.53957784, 0.54325956, 0.50894085]),\n",
       " 'Mean Training F1 Score': 0.5305927488584937,\n",
       " 'Validation Accuracy scores': array([0.78649635, 0.77798054, 0.79427876]),\n",
       " 'Mean Validation Accuracy': 78.62518813378688,\n",
       " 'Validation Precision scores': array([0.64604811, 0.61488673, 0.65408805]),\n",
       " 'Mean Validation Precision': 0.6383409638905623,\n",
       " 'Validation Recall scores': array([0.43119266, 0.43577982, 0.47706422]),\n",
       " 'Mean Validation Recall': 0.44801223241590216,\n",
       " 'Validation F1 scores': array([0.51719395, 0.51006711, 0.55172414]),\n",
       " 'Mean Validation F1 Score': 0.5263283999184644}"
      ]
     },
     "execution_count": 28,
     "metadata": {},
     "output_type": "execute_result"
    }
   ],
   "source": [
    "logistic_regression_results = cross_validation(logreg, x_train, y_train)\n",
    "logistic_regression_results"
   ]
  },
  {
   "cell_type": "code",
   "execution_count": 29,
   "metadata": {},
   "outputs": [
    {
     "data": {
      "image/png": "[encoded data removed]",
      "text/plain": [
       "<Figure size 288x216 with 1 Axes>"
      ]
     },
     "metadata": {
      "needs_background": "light"
     },
     "output_type": "display_data"
    }
   ],
   "source": [
    "# Plot Accuracy Result\n",
    "model_name = \"Logistic Regression\"\n",
    "plot_result(model_name,\n",
    "            \"Accuracy\",\n",
    "            \"Accuracy scores in 3 Folds\",\n",
    "            logistic_regression_results[\"Training Accuracy scores\"],\n",
    "            logistic_regression_results[\"Validation Accuracy scores\"])"
   ]
  },
  {
   "cell_type": "code",
   "execution_count": 30,
   "metadata": {},
   "outputs": [
    {
     "name": "stdout",
     "output_type": "stream",
     "text": [
      "MSE Train: 0.2127357533968769\n",
      "Accuracy Train: 0.7872642466031231\n",
      "MSE Test: 0.21070075757575757\n",
      "Accuracy Test: 0.7892992424242424\n"
     ]
    }
   ],
   "source": [
    "# Calculatin the MSE and accuracy in the training and test\n",
    "\n",
    "# Train\n",
    "y_train_predict = logreg.predict(x_train)\n",
    "y_train_true = y_train\n",
    "# MSE\n",
    "mse_train = mean_squared_error(y_train_true, y_train_predict)\n",
    "print(f'MSE Train: {mse_train}')\n",
    "# Accuracy\n",
    "acc_train = accuracy_score(y_train_true, y_train_predict, normalize=True)\n",
    "print(f'Accuracy Train: {acc_train}')\n",
    "\n",
    "# Test\n",
    "y_test_predict = logreg.predict(x_test)\n",
    "y_test_true = y_test\n",
    "# MSE\n",
    "mse_test = mean_squared_error(y_test_true, y_test_predict)\n",
    "print(f'MSE Test: {mse_test}')\n",
    "# Accuracy\n",
    "acc_test = accuracy_score(y_test_true, y_test_predict, normalize=True)\n",
    "print(f'Accuracy Test: {acc_test}')\n"
   ]
  },
  {
   "cell_type": "markdown",
   "metadata": {},
   "source": [
    "### **Exporting the model**\n",
    "****"
   ]
  },
  {
   "cell_type": "code",
   "execution_count": 31,
   "metadata": {},
   "outputs": [],
   "source": [
    "if smote:\n",
    "    dump(logreg, \"../../joblibs/WA_Fn-UseC_-Telco-Customer-Churn/model/benchmark/logistic_regression_model_smote.joblib\")\n",
    "else:\n",
    "    dump(logreg, \"../../joblibs/WA_Fn-UseC_-Telco-Customer-Churn/model/benchmark/logistic_regression_model.joblib\")"
   ]
  }
 ],
 "metadata": {
  "kernelspec": {
   "display_name": "Python 3.10.4 ('Statistics')",
   "language": "python",
   "name": "python3"
  },
  "language_info": {
   "codemirror_mode": {
    "name": "ipython",
    "version": 3
   },
   "file_extension": ".py",
   "mimetype": "text/x-python",
   "name": "python",
   "nbconvert_exporter": "python",
   "pygments_lexer": "ipython3",
   "version": "3.10.4"
  },
  "orig_nbformat": 4,
  "vscode": {
   "interpreter": {
    "hash": "1365f7312f0ac659adc64cf9ad70f48f473b7d9bf5c210bebce62c7e15bdcca9"
   }
  }
 },
 "nbformat": 4,
 "nbformat_minor": 2
}
