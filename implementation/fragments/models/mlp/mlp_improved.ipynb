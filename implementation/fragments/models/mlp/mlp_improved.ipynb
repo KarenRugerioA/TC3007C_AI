{
  "cells": [
    {
      "cell_type": "markdown",
      "id": "c0e17ac6",
      "metadata": {},
      "source": [
        "# **MLP Model**\n",
        "\n",
        "*Authors:*\n",
        "- *Myroslava Sánchez Andrade A01730712*\n",
        "- *Karen Rugerio Armenta A01733228*\n",
        "- *José Antonio Bobadilla García A01734433*\n",
        "- *Alejandro Castro Reus A01731065*\n",
        "\n",
        "*Creation date: 15/10/2022*\n",
        "\n",
        "*Last updated: 27/11/2022*\n",
        "\n",
        "---"
      ]
    },
    {
      "cell_type": "markdown",
      "id": "b2b62ae7",
      "metadata": {},
      "source": [
        "## **Importing data**"
      ]
    },
    {
      "cell_type": "markdown",
      "id": "3fffba40",
      "metadata": {},
      "source": [
        "In Artificial Intelligence the modeling is the **creation, training, and deployment** of Machine Learning algorithms. The goal is to emulate logical decision-making based on the available data. "
      ]
    },
    {
      "cell_type": "code",
      "execution_count": 70,
      "id": "da1c75bf",
      "metadata": {},
      "outputs": [],
      "source": [
        "# RUN ONLY FOR GOOGLE COLAB\n",
        "\n",
        "# from google.colab import drive\n",
        "\n",
        "# drive.mount(\"path\")  \n",
        "\n",
        "# %cd \"path\""
      ]
    },
    {
      "cell_type": "code",
      "execution_count": 1,
      "id": "33e2c89c-981e-4316-8723-fa299d649548",
      "metadata": {},
      "outputs": [],
      "source": [
        "# Importing the necessary libraries for the data analysis and transformations\n",
        "import pandas as pd\n",
        "import numpy as np\n",
        "import matplotlib.pyplot as plt\n",
        "from sklearn.model_selection import cross_validate\n",
        "from sklearn.neural_network import MLPClassifier\n",
        "from sklearn.metrics import confusion_matrix\n",
        "from joblib import dump\n",
        "from sklearn.metrics import mean_squared_error\n",
        "from sklearn.metrics import accuracy_score"
      ]
    },
    {
      "cell_type": "code",
      "execution_count": 2,
      "id": "ca566aa9",
      "metadata": {},
      "outputs": [],
      "source": [
        "smote = False"
      ]
    },
    {
      "cell_type": "code",
      "execution_count": 3,
      "id": "70094b0f",
      "metadata": {},
      "outputs": [],
      "source": [
        "# Obtaining the train and test dataset\n",
        "\n",
        "x_test = pd.read_csv('../../../../data/WA_Fn-UseC_-Telco-Customer-Churn/test/x_test.csv')\n",
        "y_test = pd.read_csv('../../../../data/WA_Fn-UseC_-Telco-Customer-Churn/test/y_test.csv')"
      ]
    },
    {
      "cell_type": "code",
      "execution_count": 4,
      "id": "ba3c2141",
      "metadata": {},
      "outputs": [],
      "source": [
        "if smote:\n",
        "    x_train = pd.read_csv('../../../../data/WA_Fn-UseC_-Telco-Customer-Churn/train/x_train.csv')\n",
        "    y_train = pd.read_csv('../../../../data/WA_Fn-UseC_-Telco-Customer-Churn/train/y_train.csv')\n",
        "else:    \n",
        "    # Dividing the train dataset\n",
        "    train = pd.read_csv('../../../../data/WA_Fn-UseC_-Telco-Customer-Churn/train/original_train.csv')\n",
        "    x_train = train.drop(['Churn'], axis=1)\n",
        "    y_train = pd.DataFrame(train['Churn'])"
      ]
    },
    {
      "cell_type": "markdown",
      "id": "dd452abb",
      "metadata": {},
      "source": [
        "### **Implementing the algorithm**\n",
        "****\n",
        "\n",
        "Multi layer perceptron (MLP) is a supplement of feed forward neural network. It consists of three types of layers:\n",
        "- The **input** layer: In this case are the clients with the filtered information.\n",
        "- The **output** layer: Target predicted for each client. (0/1)\n",
        "- The **hidden** layer: Layers placed in between the input and output fully in charge of the learning. They need a number of epochs, size of the hidden layers, an activaction function and a solver type. In a MLP model, the data flows in the forward direction from input to output layer. \n",
        "\n",
        "We decided to use this model due to its high efficiency working with classification problems and its easy implementation."
      ]
    },
    {
      "cell_type": "code",
      "execution_count": 5,
      "id": "21fc84a5",
      "metadata": {},
      "outputs": [],
      "source": [
        "#Initializing the MLPClassifier hyperparameters\n",
        "classifier = MLPClassifier(alpha=1e-05, hidden_layer_sizes=(7, 5, 3), random_state=1, solver='lbfgs')"
      ]
    },
    {
      "cell_type": "code",
      "execution_count": 6,
      "id": "abfec76b",
      "metadata": {},
      "outputs": [
        {
          "name": "stderr",
          "output_type": "stream",
          "text": [
            "c:\\Users\\myros\\anaconda3\\envs\\Statistics\\lib\\site-packages\\sklearn\\neural_network\\_multilayer_perceptron.py:1118: DataConversionWarning: A column-vector y was passed when a 1d array was expected. Please change the shape of y to (n_samples, ), for example using ravel().\n",
            "  y = column_or_1d(y, warn=True)\n",
            "c:\\Users\\myros\\anaconda3\\envs\\Statistics\\lib\\site-packages\\sklearn\\neural_network\\_multilayer_perceptron.py:559: ConvergenceWarning: lbfgs failed to converge (status=1):\n",
            "STOP: TOTAL NO. of ITERATIONS REACHED LIMIT.\n",
            "\n",
            "Increase the number of iterations (max_iter) or scale the data as shown in:\n",
            "    https://scikit-learn.org/stable/modules/preprocessing.html\n",
            "  self.n_iter_ = _check_optimize_result(\"lbfgs\", opt_res, self.max_iter)\n"
          ]
        },
        {
          "data": {
            "text/html": [
              "<style>#sk-container-id-1 {color: black;background-color: white;}#sk-container-id-1 pre{padding: 0;}#sk-container-id-1 div.sk-toggleable {background-color: white;}#sk-container-id-1 label.sk-toggleable__label {cursor: pointer;display: block;width: 100%;margin-bottom: 0;padding: 0.3em;box-sizing: border-box;text-align: center;}#sk-container-id-1 label.sk-toggleable__label-arrow:before {content: \"▸\";float: left;margin-right: 0.25em;color: #696969;}#sk-container-id-1 label.sk-toggleable__label-arrow:hover:before {color: black;}#sk-container-id-1 div.sk-estimator:hover label.sk-toggleable__label-arrow:before {color: black;}#sk-container-id-1 div.sk-toggleable__content {max-height: 0;max-width: 0;overflow: hidden;text-align: left;background-color: #f0f8ff;}#sk-container-id-1 div.sk-toggleable__content pre {margin: 0.2em;color: black;border-radius: 0.25em;background-color: #f0f8ff;}#sk-container-id-1 input.sk-toggleable__control:checked~div.sk-toggleable__content {max-height: 200px;max-width: 100%;overflow: auto;}#sk-container-id-1 input.sk-toggleable__control:checked~label.sk-toggleable__label-arrow:before {content: \"▾\";}#sk-container-id-1 div.sk-estimator input.sk-toggleable__control:checked~label.sk-toggleable__label {background-color: #d4ebff;}#sk-container-id-1 div.sk-label input.sk-toggleable__control:checked~label.sk-toggleable__label {background-color: #d4ebff;}#sk-container-id-1 input.sk-hidden--visually {border: 0;clip: rect(1px 1px 1px 1px);clip: rect(1px, 1px, 1px, 1px);height: 1px;margin: -1px;overflow: hidden;padding: 0;position: absolute;width: 1px;}#sk-container-id-1 div.sk-estimator {font-family: monospace;background-color: #f0f8ff;border: 1px dotted black;border-radius: 0.25em;box-sizing: border-box;margin-bottom: 0.5em;}#sk-container-id-1 div.sk-estimator:hover {background-color: #d4ebff;}#sk-container-id-1 div.sk-parallel-item::after {content: \"\";width: 100%;border-bottom: 1px solid gray;flex-grow: 1;}#sk-container-id-1 div.sk-label:hover label.sk-toggleable__label {background-color: #d4ebff;}#sk-container-id-1 div.sk-serial::before {content: \"\";position: absolute;border-left: 1px solid gray;box-sizing: border-box;top: 0;bottom: 0;left: 50%;z-index: 0;}#sk-container-id-1 div.sk-serial {display: flex;flex-direction: column;align-items: center;background-color: white;padding-right: 0.2em;padding-left: 0.2em;position: relative;}#sk-container-id-1 div.sk-item {position: relative;z-index: 1;}#sk-container-id-1 div.sk-parallel {display: flex;align-items: stretch;justify-content: center;background-color: white;position: relative;}#sk-container-id-1 div.sk-item::before, #sk-container-id-1 div.sk-parallel-item::before {content: \"\";position: absolute;border-left: 1px solid gray;box-sizing: border-box;top: 0;bottom: 0;left: 50%;z-index: -1;}#sk-container-id-1 div.sk-parallel-item {display: flex;flex-direction: column;z-index: 1;position: relative;background-color: white;}#sk-container-id-1 div.sk-parallel-item:first-child::after {align-self: flex-end;width: 50%;}#sk-container-id-1 div.sk-parallel-item:last-child::after {align-self: flex-start;width: 50%;}#sk-container-id-1 div.sk-parallel-item:only-child::after {width: 0;}#sk-container-id-1 div.sk-dashed-wrapped {border: 1px dashed gray;margin: 0 0.4em 0.5em 0.4em;box-sizing: border-box;padding-bottom: 0.4em;background-color: white;}#sk-container-id-1 div.sk-label label {font-family: monospace;font-weight: bold;display: inline-block;line-height: 1.2em;}#sk-container-id-1 div.sk-label-container {text-align: center;}#sk-container-id-1 div.sk-container {/* jupyter's `normalize.less` sets `[hidden] { display: none; }` but bootstrap.min.css set `[hidden] { display: none !important; }` so we also need the `!important` here to be able to override the default hidden behavior on the sphinx rendered scikit-learn.org. See: https://github.com/scikit-learn/scikit-learn/issues/21755 */display: inline-block !important;position: relative;}#sk-container-id-1 div.sk-text-repr-fallback {display: none;}</style><div id=\"sk-container-id-1\" class=\"sk-top-container\"><div class=\"sk-text-repr-fallback\"><pre>MLPClassifier(alpha=1e-05, hidden_layer_sizes=(7, 5, 3), random_state=1,\n",
              "              solver=&#x27;lbfgs&#x27;)</pre><b>In a Jupyter environment, please rerun this cell to show the HTML representation or trust the notebook. <br />On GitHub, the HTML representation is unable to render, please try loading this page with nbviewer.org.</b></div><div class=\"sk-container\" hidden><div class=\"sk-item\"><div class=\"sk-estimator sk-toggleable\"><input class=\"sk-toggleable__control sk-hidden--visually\" id=\"sk-estimator-id-1\" type=\"checkbox\" checked><label for=\"sk-estimator-id-1\" class=\"sk-toggleable__label sk-toggleable__label-arrow\">MLPClassifier</label><div class=\"sk-toggleable__content\"><pre>MLPClassifier(alpha=1e-05, hidden_layer_sizes=(7, 5, 3), random_state=1,\n",
              "              solver=&#x27;lbfgs&#x27;)</pre></div></div></div></div></div>"
            ],
            "text/plain": [
              "MLPClassifier(alpha=1e-05, hidden_layer_sizes=(7, 5, 3), random_state=1,\n",
              "              solver='lbfgs')"
            ]
          },
          "execution_count": 6,
          "metadata": {},
          "output_type": "execute_result"
        }
      ],
      "source": [
        "#Fitting the training data to the network\n",
        "classifier.fit(x_train, y_train)"
      ]
    },
    {
      "cell_type": "code",
      "execution_count": 7,
      "id": "75a288e4",
      "metadata": {},
      "outputs": [
        {
          "data": {
            "text/plain": [
              "array([0, 0, 0, ..., 0, 1, 1], dtype=int64)"
            ]
          },
          "execution_count": 7,
          "metadata": {},
          "output_type": "execute_result"
        }
      ],
      "source": [
        "#Predicting y for X_val\n",
        "y_pred_prob = classifier.predict_proba(x_test)\n",
        "y_pred = classifier.predict(x_test)\n",
        "y_pred"
      ]
    },
    {
      "cell_type": "code",
      "execution_count": 8,
      "id": "c99ceb66",
      "metadata": {},
      "outputs": [
        {
          "data": {
            "text/plain": [
              "array([[0.85611382, 0.14388618],\n",
              "       [0.76608552, 0.23391448],\n",
              "       [0.99165763, 0.00834237],\n",
              "       ...,\n",
              "       [0.95292005, 0.04707995],\n",
              "       [0.31556454, 0.68443546],\n",
              "       [0.43909969, 0.56090031]])"
            ]
          },
          "execution_count": 8,
          "metadata": {},
          "output_type": "execute_result"
        }
      ],
      "source": [
        "y_pred_prob"
      ]
    },
    {
      "cell_type": "markdown",
      "id": "2f641cb3",
      "metadata": {},
      "source": [
        "### **Model Evaluation**\n",
        "****"
      ]
    },
    {
      "cell_type": "code",
      "execution_count": 9,
      "id": "0db77494",
      "metadata": {},
      "outputs": [
        {
          "data": {
            "text/plain": [
              "0.7973484848484849"
            ]
          },
          "execution_count": 9,
          "metadata": {},
          "output_type": "execute_result"
        }
      ],
      "source": [
        "#Getting the accuracy of the model\n",
        "classifier.score(x_test, y_test)"
      ]
    },
    {
      "cell_type": "code",
      "execution_count": 10,
      "id": "dca5e701",
      "metadata": {},
      "outputs": [],
      "source": [
        "#Creating a confusion matrix to help determinate accuracy wtih classification model\n",
        "def accuracy(confusion_matrix):\n",
        "   diagonal_sum = confusion_matrix.trace()\n",
        "   sum_of_all_elements = confusion_matrix.sum()\n",
        "   return diagonal_sum / sum_of_all_elements"
      ]
    },
    {
      "cell_type": "code",
      "execution_count": 11,
      "id": "b4c164a5",
      "metadata": {},
      "outputs": [
        {
          "name": "stdout",
          "output_type": "stream",
          "text": [
            "Accuracy of Model: 80%\n"
          ]
        }
      ],
      "source": [
        "#Evaluataion of the predictions against the actual observations in y_val\n",
        "cm = confusion_matrix(y_pred, y_test)\n",
        "\n",
        "#Printing the accuracy\n",
        "acc = round(accuracy(cm),2)\n",
        "percentage = \"{:.0%}\".format(acc)\n",
        "print(f\"Accuracy of Model: {percentage}\")"
      ]
    },
    {
      "cell_type": "code",
      "execution_count": 12,
      "id": "87a8a38d",
      "metadata": {},
      "outputs": [
        {
          "data": {
            "text/html": [
              "<div>\n",
              "<style scoped>\n",
              "    .dataframe tbody tr th:only-of-type {\n",
              "        vertical-align: middle;\n",
              "    }\n",
              "\n",
              "    .dataframe tbody tr th {\n",
              "        vertical-align: top;\n",
              "    }\n",
              "\n",
              "    .dataframe thead th {\n",
              "        text-align: right;\n",
              "    }\n",
              "</style>\n",
              "<table border=\"1\" class=\"dataframe\">\n",
              "  <thead>\n",
              "    <tr style=\"text-align: right;\">\n",
              "      <th></th>\n",
              "      <th>0</th>\n",
              "      <th>1</th>\n",
              "    </tr>\n",
              "  </thead>\n",
              "  <tbody>\n",
              "    <tr>\n",
              "      <th>0</th>\n",
              "      <td>1412</td>\n",
              "      <td>289</td>\n",
              "    </tr>\n",
              "    <tr>\n",
              "      <th>1</th>\n",
              "      <td>139</td>\n",
              "      <td>272</td>\n",
              "    </tr>\n",
              "  </tbody>\n",
              "</table>\n",
              "</div>"
            ],
            "text/plain": [
              "      0    1\n",
              "0  1412  289\n",
              "1   139  272"
            ]
          },
          "execution_count": 12,
          "metadata": {},
          "output_type": "execute_result"
        }
      ],
      "source": [
        "# Confussion Matrix\n",
        "pd.DataFrame(cm)"
      ]
    },
    {
      "cell_type": "markdown",
      "id": "f4c489fe",
      "metadata": {},
      "source": [
        "### **Validation with K-fold Cross validation**\n",
        "****"
      ]
    },
    {
      "cell_type": "code",
      "execution_count": 13,
      "id": "cdb923c2",
      "metadata": {},
      "outputs": [],
      "source": [
        "# K-Fold Cross-Validation\n",
        "def cross_validation(model, _X, _y, _cv=3):\n",
        "      _scoring = ['accuracy', 'precision', 'recall', 'f1']\n",
        "      results = cross_validate(estimator=model,\n",
        "                               X=_X,\n",
        "                               y=_y,\n",
        "                               cv=_cv,\n",
        "                               scoring=_scoring,\n",
        "                               return_train_score=True)\n",
        "      \n",
        "      return {\"Training Accuracy scores\": results['train_accuracy'],\n",
        "              \"Mean Training Accuracy\": results['train_accuracy'].mean()*100,\n",
        "              \"Training Precision scores\": results['train_precision'],\n",
        "              \"Mean Training Precision\": results['train_precision'].mean(),\n",
        "              \"Training Recall scores\": results['train_recall'],\n",
        "              \"Mean Training Recall\": results['train_recall'].mean(),\n",
        "              \"Training F1 scores\": results['train_f1'],\n",
        "              \"Mean Training F1 Score\": results['train_f1'].mean(),\n",
        "              \"Validation Accuracy scores\": results['test_accuracy'],\n",
        "              \"Mean Validation Accuracy\": results['test_accuracy'].mean()*100,\n",
        "              \"Validation Precision scores\": results['test_precision'],\n",
        "              \"Mean Validation Precision\": results['test_precision'].mean(),\n",
        "              \"Validation Recall scores\": results['test_recall'],\n",
        "              \"Mean Validation Recall\": results['test_recall'].mean(),\n",
        "              \"Validation F1 scores\": results['test_f1'],\n",
        "              \"Mean Validation F1 Score\": results['test_f1'].mean()\n",
        "              }\n"
      ]
    },
    {
      "cell_type": "code",
      "execution_count": 14,
      "id": "3e35fdfe",
      "metadata": {},
      "outputs": [],
      "source": [
        "# Grouped Bar Chart for both training and validation data\n",
        "def plot_result(x_label, y_label, plot_title, train_data, val_data):\n",
        "        # Set size of plot\n",
        "        plt.figure(figsize=(4,3))\n",
        "        labels = [\"1st Fold\", \"2nd Fold\", \"3rd Fold\"]\n",
        "        X_axis = np.arange(len(labels))\n",
        "        ax = plt.gca()\n",
        "        plt.ylim(0.40000, 1)\n",
        "        plt.bar(X_axis-0.2, train_data, 0.4, color='blue', label='Training')\n",
        "        plt.bar(X_axis+0.2, val_data, 0.4, color='red', label='Validation')\n",
        "        plt.title(plot_title, fontsize=30)\n",
        "        plt.xticks(X_axis, labels)\n",
        "        plt.xlabel(x_label, fontsize=14)\n",
        "        plt.ylabel(y_label, fontsize=14)\n",
        "        plt.legend()\n",
        "        plt.grid(True)\n",
        "        plt.savefig('../../joblibs/WA_Fn-UseC_-Telco-Customer-Churn/model/mlp/k_cross_plot.png')\n",
        "        plt.show()"
      ]
    },
    {
      "cell_type": "code",
      "execution_count": 15,
      "id": "9fd02d86",
      "metadata": {},
      "outputs": [
        {
          "name": "stderr",
          "output_type": "stream",
          "text": [
            "c:\\Users\\myros\\anaconda3\\envs\\Statistics\\lib\\site-packages\\sklearn\\neural_network\\_multilayer_perceptron.py:1118: DataConversionWarning: A column-vector y was passed when a 1d array was expected. Please change the shape of y to (n_samples, ), for example using ravel().\n",
            "  y = column_or_1d(y, warn=True)\n",
            "c:\\Users\\myros\\anaconda3\\envs\\Statistics\\lib\\site-packages\\sklearn\\neural_network\\_multilayer_perceptron.py:559: ConvergenceWarning: lbfgs failed to converge (status=1):\n",
            "STOP: TOTAL NO. of ITERATIONS REACHED LIMIT.\n",
            "\n",
            "Increase the number of iterations (max_iter) or scale the data as shown in:\n",
            "    https://scikit-learn.org/stable/modules/preprocessing.html\n",
            "  self.n_iter_ = _check_optimize_result(\"lbfgs\", opt_res, self.max_iter)\n",
            "c:\\Users\\myros\\anaconda3\\envs\\Statistics\\lib\\site-packages\\sklearn\\neural_network\\_multilayer_perceptron.py:1118: DataConversionWarning: A column-vector y was passed when a 1d array was expected. Please change the shape of y to (n_samples, ), for example using ravel().\n",
            "  y = column_or_1d(y, warn=True)\n",
            "c:\\Users\\myros\\anaconda3\\envs\\Statistics\\lib\\site-packages\\sklearn\\neural_network\\_multilayer_perceptron.py:559: ConvergenceWarning: lbfgs failed to converge (status=1):\n",
            "STOP: TOTAL NO. of ITERATIONS REACHED LIMIT.\n",
            "\n",
            "Increase the number of iterations (max_iter) or scale the data as shown in:\n",
            "    https://scikit-learn.org/stable/modules/preprocessing.html\n",
            "  self.n_iter_ = _check_optimize_result(\"lbfgs\", opt_res, self.max_iter)\n",
            "c:\\Users\\myros\\anaconda3\\envs\\Statistics\\lib\\site-packages\\sklearn\\neural_network\\_multilayer_perceptron.py:1118: DataConversionWarning: A column-vector y was passed when a 1d array was expected. Please change the shape of y to (n_samples, ), for example using ravel().\n",
            "  y = column_or_1d(y, warn=True)\n",
            "c:\\Users\\myros\\anaconda3\\envs\\Statistics\\lib\\site-packages\\sklearn\\neural_network\\_multilayer_perceptron.py:559: ConvergenceWarning: lbfgs failed to converge (status=1):\n",
            "STOP: TOTAL NO. of ITERATIONS REACHED LIMIT.\n",
            "\n",
            "Increase the number of iterations (max_iter) or scale the data as shown in:\n",
            "    https://scikit-learn.org/stable/modules/preprocessing.html\n",
            "  self.n_iter_ = _check_optimize_result(\"lbfgs\", opt_res, self.max_iter)\n"
          ]
        },
        {
          "data": {
            "text/plain": [
              "{'Training Accuracy scores': array([0.80133861, 0.80377244, 0.80018248]),\n",
              " 'Mean Training Accuracy': 80.17645084188469,\n",
              " 'Training Precision scores': array([0.65938865, 0.65874126, 0.66165414]),\n",
              " 'Mean Training Precision': 0.6599280134559381,\n",
              " 'Training Recall scores': array([0.51949541, 0.54013761, 0.50458716]),\n",
              " 'Mean Training Recall': 0.5214067278287461,\n",
              " 'Training F1 scores': array([0.58114176, 0.59357278, 0.57254392]),\n",
              " 'Mean Training F1 Score': 0.5824194843619149,\n",
              " 'Validation Accuracy scores': array([0.78527981, 0.78163017, 0.7906269 ]),\n",
              " 'Mean Validation Accuracy': 78.58456258925402,\n",
              " 'Validation Precision scores': array([0.63009404, 0.60784314, 0.62921348]),\n",
              " 'Mean Validation Precision': 0.6223835547627056,\n",
              " 'Validation Recall scores': array([0.46100917, 0.49770642, 0.51376147]),\n",
              " 'Mean Validation Recall': 0.4908256880733945,\n",
              " 'Validation F1 scores': array([0.53245033, 0.54728878, 0.56565657]),\n",
              " 'Mean Validation F1 Score': 0.5484652245264557}"
            ]
          },
          "execution_count": 15,
          "metadata": {},
          "output_type": "execute_result"
        }
      ],
      "source": [
        "mlp_results = cross_validation(classifier, x_train, y_train)\n",
        "mlp_results"
      ]
    },
    {
      "cell_type": "code",
      "execution_count": 16,
      "id": "8208c61e",
      "metadata": {},
      "outputs": [
        {
          "data": {
            "image/png": "[encoded data removed]",
            "text/plain": [
              "<Figure size 288x216 with 1 Axes>"
            ]
          },
          "metadata": {
            "needs_background": "light"
          },
          "output_type": "display_data"
        }
      ],
      "source": [
        "# Plot Accuracy Result\n",
        "model_name = \"MLP\"\n",
        "plot_result(model_name,\n",
        "            \"Accuracy\",\n",
        "            \"Accuracy scores in 3 Folds\",\n",
        "            mlp_results[\"Training Accuracy scores\"],\n",
        "            mlp_results[\"Validation Accuracy scores\"])"
      ]
    },
    {
      "cell_type": "code",
      "execution_count": 17,
      "id": "c5c24bea",
      "metadata": {},
      "outputs": [
        {
          "name": "stdout",
          "output_type": "stream",
          "text": [
            "MSE Train: 0.20239302372743864\n",
            "Accuracy Train: 0.7976069762725614\n",
            "MSE Test: 0.20265151515151514\n",
            "Accuracy Test: 0.7973484848484849\n"
          ]
        }
      ],
      "source": [
        "# Calculatin the MSE and accuracy in the training and test\n",
        "\n",
        "# Train\n",
        "y_train_predict = classifier.predict(x_train)\n",
        "y_train_true = y_train\n",
        "# MSE\n",
        "mse_train = mean_squared_error(y_train_true, y_train_predict)\n",
        "print(f'MSE Train: {mse_train}')\n",
        "# Accuracy\n",
        "acc_train = accuracy_score(y_train_true, y_train_predict, normalize=True)\n",
        "print(f'Accuracy Train: {acc_train}')\n",
        "\n",
        "# Test\n",
        "y_test_predict = classifier.predict(x_test)\n",
        "y_test_true = y_test\n",
        "# MSE\n",
        "mse_test = mean_squared_error(y_test_true, y_test_predict)\n",
        "print(f'MSE Test: {mse_test}')\n",
        "# Accuracy\n",
        "acc_test = accuracy_score(y_test_true, y_test_predict, normalize=True)\n",
        "print(f'Accuracy Test: {acc_test}')\n"
      ]
    },
    {
      "cell_type": "markdown",
      "id": "bc79e6f8",
      "metadata": {},
      "source": [
        "### **Exporting the model**\n",
        "****"
      ]
    },
    {
      "cell_type": "code",
      "execution_count": 18,
      "id": "1875dd54",
      "metadata": {},
      "outputs": [],
      "source": [
        "# Storing the model\n",
        "if smote:\n",
        "    dump(classifier, \"../../joblibs/WA_Fn-UseC_-Telco-Customer-Churn/model/mlp/mlp_model_smote.joblib\")\n",
        "else:    \n",
        "    dump(classifier, \"../../joblibs/WA_Fn-UseC_-Telco-Customer-Churn/model/mlp/mlp_model.joblib\")"
      ]
    }
  ],
  "metadata": {
    "kernelspec": {
      "display_name": "Python 3.10.4 ('Statistics')",
      "language": "python",
      "name": "python3"
    },
    "language_info": {
      "codemirror_mode": {
        "name": "ipython",
        "version": 3
      },
      "file_extension": ".py",
      "mimetype": "text/x-python",
      "name": "python",
      "nbconvert_exporter": "python",
      "pygments_lexer": "ipython3",
      "version": "3.10.4"
    },
    "vscode": {
      "interpreter": {
        "hash": "1365f7312f0ac659adc64cf9ad70f48f473b7d9bf5c210bebce62c7e15bdcca9"
      }
    }
  },
  "nbformat": 4,
  "nbformat_minor": 5
}
