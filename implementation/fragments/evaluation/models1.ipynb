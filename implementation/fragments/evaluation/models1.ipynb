{
 "cells": [
  {
   "cell_type": "code",
   "execution_count": 1,
   "metadata": {},
   "outputs": [],
   "source": [
    "import pandas as pd\n",
    "import numpy as np\n",
    "from joblib import load\n",
    "import py7zr\n",
    "from sklearn.metrics import confusion_matrix, roc_auc_score, f1_score\n",
    "from sklearn.model_selection import cross_validate\n",
    "import plotly.express as px"
   ]
  },
  {
   "cell_type": "code",
   "execution_count": 2,
   "metadata": {},
   "outputs": [],
   "source": [
    "#datos train: original_train\n",
    "#datos test: telecom_churn_me/test/\n",
    "\n",
    "with py7zr.SevenZipFile('../../../data/telecom_churn_me/original_train.7z', mode='r') as z:\n",
    "    z.extractall(path='original_train/')\n",
    "with py7zr.SevenZipFile('../../../data/telecom_churn_me/test/x_test.7z', mode='r') as z:\n",
    "    z.extractall(path='x_test/')\n",
    "with py7zr.SevenZipFile('../../../data/telecom_churn_me/test/y_test.7z', mode='r') as z:\n",
    "    z.extractall(path='y_test/')\n"
   ]
  },
  {
   "cell_type": "code",
   "execution_count": 3,
   "metadata": {},
   "outputs": [],
   "source": [
    "train = pd.read_csv('./original_train/original_train.csv')\n",
    "x_train = train.drop(\"TARGET\", axis=1)\n",
    "y_train = train.TARGET\n",
    "\n",
    "x_test = pd.read_csv('./x_test/x_test.csv')\n",
    "y_test = pd.read_csv('./y_test/y_test.csv')"
   ]
  },
  {
   "cell_type": "code",
   "execution_count": 4,
   "metadata": {},
   "outputs": [
    {
     "name": "stderr",
     "output_type": "stream",
     "text": [
      "C:\\Users\\bobad\\AppData\\Roaming\\Python\\Python39\\site-packages\\sklearn\\base.py:329: UserWarning: Trying to unpickle estimator LabelBinarizer from version 1.1.2 when using version 1.1.3. This might lead to breaking code or invalid results. Use at your own risk. For more info please refer to:\n",
      "https://scikit-learn.org/stable/model_persistence.html#security-maintainability-limitations\n",
      "  warnings.warn(\n",
      "C:\\Users\\bobad\\AppData\\Roaming\\Python\\Python39\\site-packages\\sklearn\\base.py:329: UserWarning: Trying to unpickle estimator MLPClassifier from version 1.1.2 when using version 1.1.3. This might lead to breaking code or invalid results. Use at your own risk. For more info please refer to:\n",
      "https://scikit-learn.org/stable/model_persistence.html#security-maintainability-limitations\n",
      "  warnings.warn(\n",
      "C:\\Users\\bobad\\AppData\\Roaming\\Python\\Python39\\site-packages\\sklearn\\base.py:329: UserWarning: Trying to unpickle estimator LogisticRegression from version 1.1.2 when using version 1.1.3. This might lead to breaking code or invalid results. Use at your own risk. For more info please refer to:\n",
      "https://scikit-learn.org/stable/model_persistence.html#security-maintainability-limitations\n",
      "  warnings.warn(\n"
     ]
    }
   ],
   "source": [
    "#load models\n",
    "mlp = load(\"../joblibs/telecom_churn_me/model/classification-model.joblib\")\n",
    "logistic_regression = load(\"../joblibs/telecom_churn_me/model/logistic-regression-model.joblib\")\n",
    "\n",
    "models = [\n",
    "\t{\"name\": \"mlp\", \"joblib\": mlp},\n",
    "\t{\"name\": \"logistic regression\", \"joblib\": logistic_regression}\n",
    "]\n",
    "metrics = []"
   ]
  },
  {
   "cell_type": "code",
   "execution_count": 5,
   "metadata": {},
   "outputs": [
    {
     "name": "stderr",
     "output_type": "stream",
     "text": [
      "C:\\Users\\bobad\\AppData\\Roaming\\Python\\Python39\\site-packages\\sklearn\\neural_network\\_multilayer_perceptron.py:702: ConvergenceWarning: Stochastic Optimizer: Maximum iterations (100) reached and the optimization hasn't converged yet.\n",
      "  warnings.warn(\n",
      "C:\\Users\\bobad\\AppData\\Roaming\\Python\\Python39\\site-packages\\sklearn\\neural_network\\_multilayer_perceptron.py:702: ConvergenceWarning: Stochastic Optimizer: Maximum iterations (100) reached and the optimization hasn't converged yet.\n",
      "  warnings.warn(\n",
      "C:\\Users\\bobad\\AppData\\Roaming\\Python\\Python39\\site-packages\\sklearn\\neural_network\\_multilayer_perceptron.py:702: ConvergenceWarning: Stochastic Optimizer: Maximum iterations (100) reached and the optimization hasn't converged yet.\n",
      "  warnings.warn(\n",
      "C:\\Users\\bobad\\AppData\\Roaming\\Python\\Python39\\site-packages\\sklearn\\neural_network\\_multilayer_perceptron.py:702: ConvergenceWarning: Stochastic Optimizer: Maximum iterations (100) reached and the optimization hasn't converged yet.\n",
      "  warnings.warn(\n"
     ]
    }
   ],
   "source": [
    "for model in models:\n",
    "\t#train test\n",
    "\ty_pred = model[\"joblib\"].predict(x_test)\n",
    "\ttrain_score = model[\"joblib\"].score(x_train, y_train)\n",
    "\ttest_score = model[\"joblib\"].score(x_test, y_test)\n",
    "\t#confusion matrix\n",
    "\tcm = confusion_matrix(y_pred, y_test)\n",
    "\tcm = pd.DataFrame(cm)\n",
    "\t#cross validation\n",
    "\tcross_validation = cross_validate(estimator=model[\"joblib\"], X=x_test, y=y_test.values.ravel(), cv=3, scoring=['accuracy', 'precision'])\n",
    "\tcross_validation_accuracy = cross_validation[\"test_accuracy\"]\n",
    "\t#roc_auc_curve\n",
    "\troc_auc = roc_auc_score(y_test, y_pred)\n",
    "\t#f1\n",
    "\tf1 = f1_score(y_test, y_pred)\n",
    "\n",
    "\tmetrics_by_model = {\n",
    "\t\t\"name\": model[\"name\"],\n",
    "\t\t\"train_score\": train_score,\n",
    "\t\t\"test_score\": test_score,\n",
    "\t\t\"cm\": cm,\n",
    "\t\t\"cross_validation\": cross_validation[\"test_accuracy\"],\n",
    "\t\t\"roc_auc\": roc_auc,\n",
    "\t\t\"f1_score\": f1\n",
    "\t}\n",
    "\tmetrics.append(metrics_by_model)"
   ]
  },
  {
   "cell_type": "code",
   "execution_count": 6,
   "metadata": {},
   "outputs": [
    {
     "name": "stdout",
     "output_type": "stream",
     "text": [
      "{'name': 'mlp', 'train_score': 0.9586710302684166, 'test_score': 0.9561430938596824, 'cm':         0      1\n",
      "0  323890  15007\n",
      "1       0   3284, 'cross_validation': array([0.87498795, 0.92118183, 0.95753112]), 'roc_auc': 0.5897709255918211, 'f1_score': 0.30442641946697563}\n",
      "{'name': 'logistic regression', 'train_score': 0.9476317691248874, 'test_score': 0.9460665554195002, 'cm':         0      1\n",
      "0  323685  18250\n",
      "1     205     41, 'cross_validation': array([0.87498795, 0.92118183, 0.95753112]), 'roc_auc': 0.5008043043108154, 'f1_score': 0.004423585261908615}\n"
     ]
    }
   ],
   "source": [
    "\n",
    "for metric in metrics:\n",
    "\tprint(metric)"
   ]
  }
 ],
 "metadata": {
  "kernelspec": {
   "display_name": "Python 3.9.4 64-bit",
   "language": "python",
   "name": "python3"
  },
  "language_info": {
   "codemirror_mode": {
    "name": "ipython",
    "version": 3
   },
   "file_extension": ".py",
   "mimetype": "text/x-python",
   "name": "python",
   "nbconvert_exporter": "python",
   "pygments_lexer": "ipython3",
   "version": "3.9.4"
  },
  "orig_nbformat": 4,
  "vscode": {
   "interpreter": {
    "hash": "11938c6bc6919ae2720b4d5011047913343b08a43b18698fd82dedb0d4417594"
   }
  }
 },
 "nbformat": 4,
 "nbformat_minor": 2
}
