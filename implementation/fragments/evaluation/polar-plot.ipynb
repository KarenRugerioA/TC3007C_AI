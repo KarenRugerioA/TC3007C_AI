{
 "cells": [
  {
   "cell_type": "code",
   "execution_count": null,
   "metadata": {},
   "outputs": [],
   "source": [
    "import pandas as pd\n",
    "import plotly.express as px"
   ]
  },
  {
   "cell_type": "code",
   "execution_count": null,
   "metadata": {},
   "outputs": [],
   "source": [
    "df = pd.DataFrame(data={\"metric\": [\n",
    "\t\"train\", \"test\", \"confusion_matrix\", \"cross_validation\", \"f1\", \"roc_auc_score\",\n",
    "\t\"train\", \"test\", \"confusion_matrix\", \"cross_validation\", \"f1\", \"roc_auc_score\",\n",
    "\t\"train\", \"test\", \"confusion_matrix\", \"cross_validation\", \"f1\", \"roc_auc_score\",\n",
    "\t\"train\", \"test\", \"confusion_matrix\", \"cross_validation\", \"f1\", \"roc_auc_score\",\n",
    "\t], \"model\": [\n",
    "\t\t\"mlp\", \"mlp\", \"mlp\", \"mlp\", \"mlp\", \"mlp\"\n",
    "\t\t\"logistic regression\", \"logistic regression\", \"logistic regression\", \"logistic regression\", \"logistic regression\",\n",
    "\t\t\n",
    "\n",
    "\t], \"place\": [\n",
    "\t\t\t1, 2, 3, 1, 2, 1\n",
    "\t]})\n",
    "fig = px.line_polar(df, r=\"place\", theta=\"metric\", color=\"model\", line_close=True)\n",
    "fig.show()"
   ]
  }
 ],
 "metadata": {
  "kernelspec": {
   "display_name": "Python 3.8.10 64-bit",
   "language": "python",
   "name": "python3"
  },
  "language_info": {
   "name": "python",
   "version": "3.8.10"
  },
  "orig_nbformat": 4,
  "vscode": {
   "interpreter": {
    "hash": "916dbcbb3f70747c44a77c7bcd40155683ae19c65e1c03b4aa3499c5328201f1"
   }
  }
 },
 "nbformat": 4,
 "nbformat_minor": 2
}
