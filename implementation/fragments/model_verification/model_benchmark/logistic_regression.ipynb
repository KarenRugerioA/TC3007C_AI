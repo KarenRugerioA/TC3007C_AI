{
 "cells": [
  {
   "cell_type": "code",
   "execution_count": 2,
   "metadata": {},
   "outputs": [],
   "source": [
    "# Importing the necessary libraries for the data analysis and transformations\n",
    "import pandas as pd\n",
    "import numpy as np\n",
    "import matplotlib.pyplot as plt\n",
    "\n",
    "from sklearn.linear_model import LogisticRegression\n",
    "from sklearn.model_selection import train_test_split\n"
   ]
  },
  {
   "cell_type": "code",
   "execution_count": 3,
   "metadata": {},
   "outputs": [
    {
     "name": "stdout",
     "output_type": "stream",
     "text": [
      "Requirement already satisfied: py7zr in /opt/anaconda3/lib/python3.9/site-packages (0.20.2)\n",
      "Requirement already satisfied: pyzstd>=0.14.4 in /opt/anaconda3/lib/python3.9/site-packages (from py7zr) (0.15.3)\n",
      "Requirement already satisfied: texttable in /opt/anaconda3/lib/python3.9/site-packages (from py7zr) (1.6.4)\n",
      "Requirement already satisfied: brotli>=1.0.9 in /opt/anaconda3/lib/python3.9/site-packages (from py7zr) (1.0.9)\n",
      "Requirement already satisfied: psutil in /opt/anaconda3/lib/python3.9/site-packages (from py7zr) (5.8.0)\n",
      "Requirement already satisfied: pycryptodomex>=3.6.6 in /opt/anaconda3/lib/python3.9/site-packages (from py7zr) (3.15.0)\n",
      "Requirement already satisfied: pyppmd<1.1.0,>=0.18.1 in /opt/anaconda3/lib/python3.9/site-packages (from py7zr) (1.0.0)\n",
      "Requirement already satisfied: inflate64>=0.3.1 in /opt/anaconda3/lib/python3.9/site-packages (from py7zr) (0.3.1)\n",
      "Requirement already satisfied: pybcj>=0.6.0 in /opt/anaconda3/lib/python3.9/site-packages (from py7zr) (1.0.1)\n",
      "Requirement already satisfied: multivolumefile>=0.2.3 in /opt/anaconda3/lib/python3.9/site-packages (from py7zr) (0.2.3)\n"
     ]
    }
   ],
   "source": [
    "!pip install py7zr"
   ]
  },
  {
   "cell_type": "code",
   "execution_count": 4,
   "metadata": {},
   "outputs": [],
   "source": [
    "#!pip install patool\n",
    "# extract the folds into folds folder\n",
    "import py7zr\n",
    "with py7zr.SevenZipFile('../../../../data/WA_Fn-UseC_-Telco-Customer-Churn/fully_transformed.7z', mode='r') as z:\n",
    "    z.extractall(path='fully_transformed/')"
   ]
  },
  {
   "cell_type": "code",
   "execution_count": 5,
   "metadata": {},
   "outputs": [
    {
     "data": {
      "text/html": [
       "<div>\n",
       "<style scoped>\n",
       "    .dataframe tbody tr th:only-of-type {\n",
       "        vertical-align: middle;\n",
       "    }\n",
       "\n",
       "    .dataframe tbody tr th {\n",
       "        vertical-align: top;\n",
       "    }\n",
       "\n",
       "    .dataframe thead th {\n",
       "        text-align: right;\n",
       "    }\n",
       "</style>\n",
       "<table border=\"1\" class=\"dataframe\">\n",
       "  <thead>\n",
       "    <tr style=\"text-align: right;\">\n",
       "      <th></th>\n",
       "      <th>AccountWeeks</th>\n",
       "      <th>DataPlan</th>\n",
       "      <th>CustServCalls</th>\n",
       "      <th>Churn</th>\n",
       "    </tr>\n",
       "  </thead>\n",
       "  <tbody>\n",
       "    <tr>\n",
       "      <th>0</th>\n",
       "      <td>0.249489</td>\n",
       "      <td>-0.618303</td>\n",
       "      <td>-1.188040</td>\n",
       "      <td>0</td>\n",
       "    </tr>\n",
       "    <tr>\n",
       "      <th>1</th>\n",
       "      <td>0.500606</td>\n",
       "      <td>1.616843</td>\n",
       "      <td>1.852649</td>\n",
       "      <td>0</td>\n",
       "    </tr>\n",
       "    <tr>\n",
       "      <th>2</th>\n",
       "      <td>-1.156765</td>\n",
       "      <td>-0.618303</td>\n",
       "      <td>-0.427868</td>\n",
       "      <td>0</td>\n",
       "    </tr>\n",
       "    <tr>\n",
       "      <th>3</th>\n",
       "      <td>-0.905648</td>\n",
       "      <td>-0.618303</td>\n",
       "      <td>0.332305</td>\n",
       "      <td>0</td>\n",
       "    </tr>\n",
       "    <tr>\n",
       "      <th>4</th>\n",
       "      <td>1.228845</td>\n",
       "      <td>-0.618303</td>\n",
       "      <td>-0.427868</td>\n",
       "      <td>0</td>\n",
       "    </tr>\n",
       "    <tr>\n",
       "      <th>...</th>\n",
       "      <td>...</td>\n",
       "      <td>...</td>\n",
       "      <td>...</td>\n",
       "      <td>...</td>\n",
       "    </tr>\n",
       "    <tr>\n",
       "      <th>3286</th>\n",
       "      <td>1.354403</td>\n",
       "      <td>1.616843</td>\n",
       "      <td>-0.427868</td>\n",
       "      <td>0</td>\n",
       "    </tr>\n",
       "    <tr>\n",
       "      <th>3287</th>\n",
       "      <td>2.509541</td>\n",
       "      <td>-0.618303</td>\n",
       "      <td>-0.427868</td>\n",
       "      <td>0</td>\n",
       "    </tr>\n",
       "    <tr>\n",
       "      <th>3288</th>\n",
       "      <td>0.852170</td>\n",
       "      <td>-0.618303</td>\n",
       "      <td>-0.427868</td>\n",
       "      <td>0</td>\n",
       "    </tr>\n",
       "    <tr>\n",
       "      <th>3289</th>\n",
       "      <td>-0.604308</td>\n",
       "      <td>-0.618303</td>\n",
       "      <td>1.092477</td>\n",
       "      <td>0</td>\n",
       "    </tr>\n",
       "    <tr>\n",
       "      <th>3290</th>\n",
       "      <td>1.329292</td>\n",
       "      <td>-0.618303</td>\n",
       "      <td>-1.188040</td>\n",
       "      <td>0</td>\n",
       "    </tr>\n",
       "  </tbody>\n",
       "</table>\n",
       "<p>3291 rows × 4 columns</p>\n",
       "</div>"
      ],
      "text/plain": [
       "      AccountWeeks  DataPlan  CustServCalls  Churn\n",
       "0         0.249489 -0.618303      -1.188040      0\n",
       "1         0.500606  1.616843       1.852649      0\n",
       "2        -1.156765 -0.618303      -0.427868      0\n",
       "3        -0.905648 -0.618303       0.332305      0\n",
       "4         1.228845 -0.618303      -0.427868      0\n",
       "...            ...       ...            ...    ...\n",
       "3286      1.354403  1.616843      -0.427868      0\n",
       "3287      2.509541 -0.618303      -0.427868      0\n",
       "3288      0.852170 -0.618303      -0.427868      0\n",
       "3289     -0.604308 -0.618303       1.092477      0\n",
       "3290      1.329292 -0.618303      -1.188040      0\n",
       "\n",
       "[3291 rows x 4 columns]"
      ]
     },
     "execution_count": 5,
     "metadata": {},
     "output_type": "execute_result"
    }
   ],
   "source": [
    "df = pd.read_csv('./fully_transformed/fully_transformed.csv')\n",
    "target = 'Churn'\n",
    "df"
   ]
  },
  {
   "cell_type": "code",
   "execution_count": 6,
   "metadata": {},
   "outputs": [],
   "source": [
    "#Defining dependant and independant variables\n",
    "Y = df[target] #Dependant\n",
    "X = df.drop(columns=[target]) #Independant"
   ]
  },
  {
   "cell_type": "code",
   "execution_count": 7,
   "metadata": {},
   "outputs": [],
   "source": [
    "#Splitting into training and test sets\n",
    "X_train, X_test, y_train, y_test = train_test_split(X,Y, test_size = 0.75, random_state = 42)"
   ]
  },
  {
   "cell_type": "code",
   "execution_count": 8,
   "metadata": {},
   "outputs": [],
   "source": [
    "logreg = LogisticRegression(random_state=100)\n",
    "\n",
    "# fit the model with data\n",
    "logreg.fit(X_train, y_train)\n",
    "\n",
    "y_logregpred = logreg.predict(X_test)"
   ]
  },
  {
   "cell_type": "code",
   "execution_count": 9,
   "metadata": {},
   "outputs": [
    {
     "name": "stdout",
     "output_type": "stream",
     "text": [
      "Score:\n",
      "0.8635074929121102\n",
      "0.851581508515815\n"
     ]
    }
   ],
   "source": [
    "print(\"Score:\")\n",
    "print(logreg.score(X_test, y_test))\n",
    "print(logreg.score(X_train, y_train))"
   ]
  },
  {
   "cell_type": "markdown",
   "metadata": {},
   "source": [
    "### **Exporting the model**\n",
    "****"
   ]
  },
  {
   "cell_type": "code",
   "execution_count": 10,
   "metadata": {},
   "outputs": [],
   "source": [
    "from joblib import dump"
   ]
  },
  {
   "cell_type": "code",
   "execution_count": 11,
   "metadata": {},
   "outputs": [
    {
     "data": {
      "text/plain": [
       "['../../joblibs/WA_Fn-UseC_-Telco-Customer-Churn/model/logistic_regression/logistic-regression-model.joblib']"
      ]
     },
     "execution_count": 11,
     "metadata": {},
     "output_type": "execute_result"
    }
   ],
   "source": [
    "dump(logreg, \"../../joblibs/WA_Fn-UseC_-Telco-Customer-Churn/model/logistic_regression/logistic-regression-model.joblib\")"
   ]
  }
 ],
 "metadata": {
  "kernelspec": {
   "display_name": "Python 3.9.7",
   "language": "python",
   "name": "python3"
  },
  "language_info": {
   "codemirror_mode": {
    "name": "ipython",
    "version": 3
   },
   "file_extension": ".py",
   "mimetype": "text/x-python",
   "name": "python",
   "nbconvert_exporter": "python",
   "pygments_lexer": "ipython3",
   "version": "3.9.7"
  },
  "orig_nbformat": 4,
  "vscode": {
   "interpreter": {
    "hash": "40d3a090f54c6569ab1632332b64b2c03c39dcf918b08424e98f38b5ae0af88f"
   }
  }
 },
 "nbformat": 4,
 "nbformat_minor": 2
}
