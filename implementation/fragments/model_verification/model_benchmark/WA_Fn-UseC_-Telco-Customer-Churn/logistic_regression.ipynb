{
  "cells": [
    {
      "cell_type": "code",
      "execution_count": 22,
      "metadata": {},
      "outputs": [],
      "source": [
        "# Importing the necessary libraries for the data analysis and transformations\n",
        "import pandas as pd\n",
        "import numpy as np\n",
        "import matplotlib.pyplot as plt\n",
        "\n",
        "from sklearn.linear_model import LogisticRegression\n",
        "from sklearn import preprocessing, decomposition, impute\n",
        "from sklearn.experimental import enable_iterative_imputer\n",
        "from sklearn.model_selection import train_test_split, cross_val_score\n",
        "from sklearn.neural_network import MLPClassifier\n",
        "from sklearn.neural_network import MLPRegressor\n",
        "from sklearn.metrics import confusion_matrix\n",
        "\n",
        "from sklearn.linear_model import LinearRegression\n",
        "\n",
        "import shutil\n",
        "from sklearn.metrics import mean_squared_error"
      ]
    },
    {
      "cell_type": "code",
      "execution_count": 23,
      "metadata": {},
      "outputs": [
        {
          "name": "stdout",
          "output_type": "stream",
          "text": [
            "Requirement already satisfied: py7zr in /opt/anaconda3/lib/python3.9/site-packages (0.20.2)\n",
            "Requirement already satisfied: pyzstd>=0.14.4 in /opt/anaconda3/lib/python3.9/site-packages (from py7zr) (0.15.3)\n",
            "Requirement already satisfied: pycryptodomex>=3.6.6 in /opt/anaconda3/lib/python3.9/site-packages (from py7zr) (3.15.0)\n",
            "Requirement already satisfied: psutil in /opt/anaconda3/lib/python3.9/site-packages (from py7zr) (5.8.0)\n",
            "Requirement already satisfied: pyppmd<1.1.0,>=0.18.1 in /opt/anaconda3/lib/python3.9/site-packages (from py7zr) (1.0.0)\n",
            "Requirement already satisfied: pybcj>=0.6.0 in /opt/anaconda3/lib/python3.9/site-packages (from py7zr) (1.0.1)\n",
            "Requirement already satisfied: brotli>=1.0.9 in /opt/anaconda3/lib/python3.9/site-packages (from py7zr) (1.0.9)\n",
            "Requirement already satisfied: inflate64>=0.3.1 in /opt/anaconda3/lib/python3.9/site-packages (from py7zr) (0.3.1)\n",
            "Requirement already satisfied: multivolumefile>=0.2.3 in /opt/anaconda3/lib/python3.9/site-packages (from py7zr) (0.2.3)\n",
            "Requirement already satisfied: texttable in /opt/anaconda3/lib/python3.9/site-packages (from py7zr) (1.6.4)\n"
          ]
        }
      ],
      "source": [
        "!pip install py7zr"
      ]
    },
    {
      "cell_type": "code",
      "execution_count": 24,
      "metadata": {},
      "outputs": [],
      "source": [
        "#!pip install patool\n",
        "# extract the folds into folds folder\n",
        "import py7zr\n",
        "with py7zr.SevenZipFile('../../../../../data/WA_Fn-UseC_-Telco-Customer-Churn/full_transformated_data.7z', mode='r') as z:\n",
        "    z.extractall(path='full_transformated_data/')"
      ]
    },
    {
      "cell_type": "code",
      "execution_count": 25,
      "metadata": {},
      "outputs": [
        {
          "data": {
            "text/html": [
              "<div>\n",
              "<style scoped>\n",
              "    .dataframe tbody tr th:only-of-type {\n",
              "        vertical-align: middle;\n",
              "    }\n",
              "\n",
              "    .dataframe tbody tr th {\n",
              "        vertical-align: top;\n",
              "    }\n",
              "\n",
              "    .dataframe thead th {\n",
              "        text-align: right;\n",
              "    }\n",
              "</style>\n",
              "<table border=\"1\" class=\"dataframe\">\n",
              "  <thead>\n",
              "    <tr style=\"text-align: right;\">\n",
              "      <th></th>\n",
              "      <th>tenure</th>\n",
              "      <th>StreamingTV</th>\n",
              "      <th>PaymentMethod</th>\n",
              "      <th>MonthlyCharges</th>\n",
              "      <th>TotalCharges</th>\n",
              "      <th>Churn</th>\n",
              "    </tr>\n",
              "  </thead>\n",
              "  <tbody>\n",
              "    <tr>\n",
              "      <th>0</th>\n",
              "      <td>1.247129</td>\n",
              "      <td>1.549122</td>\n",
              "      <td>-0.274724</td>\n",
              "      <td>-1.467651</td>\n",
              "      <td>1.083457</td>\n",
              "      <td>No</td>\n",
              "    </tr>\n",
              "    <tr>\n",
              "      <th>1</th>\n",
              "      <td>1.613587</td>\n",
              "      <td>0.238870</td>\n",
              "      <td>1.466061</td>\n",
              "      <td>0.652651</td>\n",
              "      <td>1.187405</td>\n",
              "      <td>No</td>\n",
              "    </tr>\n",
              "    <tr>\n",
              "      <th>2</th>\n",
              "      <td>1.613587</td>\n",
              "      <td>0.238870</td>\n",
              "      <td>1.466061</td>\n",
              "      <td>-0.369281</td>\n",
              "      <td>1.599502</td>\n",
              "      <td>No</td>\n",
              "    </tr>\n",
              "    <tr>\n",
              "      <th>3</th>\n",
              "      <td>-0.503722</td>\n",
              "      <td>0.238870</td>\n",
              "      <td>-1.145117</td>\n",
              "      <td>0.650990</td>\n",
              "      <td>0.770558</td>\n",
              "      <td>No</td>\n",
              "    </tr>\n",
              "    <tr>\n",
              "      <th>4</th>\n",
              "      <td>-1.236636</td>\n",
              "      <td>-1.071381</td>\n",
              "      <td>-1.145117</td>\n",
              "      <td>0.700840</td>\n",
              "      <td>1.506635</td>\n",
              "      <td>Yes</td>\n",
              "    </tr>\n",
              "    <tr>\n",
              "      <th>...</th>\n",
              "      <td>...</td>\n",
              "      <td>...</td>\n",
              "      <td>...</td>\n",
              "      <td>...</td>\n",
              "      <td>...</td>\n",
              "      <td>...</td>\n",
              "    </tr>\n",
              "    <tr>\n",
              "      <th>7038</th>\n",
              "      <td>-1.277354</td>\n",
              "      <td>-1.071381</td>\n",
              "      <td>0.595668</td>\n",
              "      <td>-0.648443</td>\n",
              "      <td>-1.649262</td>\n",
              "      <td>No</td>\n",
              "    </tr>\n",
              "    <tr>\n",
              "      <th>7039</th>\n",
              "      <td>-0.870179</td>\n",
              "      <td>-1.071381</td>\n",
              "      <td>-1.145117</td>\n",
              "      <td>0.052785</td>\n",
              "      <td>-1.040349</td>\n",
              "      <td>Yes</td>\n",
              "    </tr>\n",
              "    <tr>\n",
              "      <th>7040</th>\n",
              "      <td>-1.114484</td>\n",
              "      <td>1.549122</td>\n",
              "      <td>1.466061</td>\n",
              "      <td>-1.492576</td>\n",
              "      <td>0.827017</td>\n",
              "      <td>Yes</td>\n",
              "    </tr>\n",
              "    <tr>\n",
              "      <th>7041</th>\n",
              "      <td>-1.236636</td>\n",
              "      <td>-1.071381</td>\n",
              "      <td>-1.145117</td>\n",
              "      <td>0.695855</td>\n",
              "      <td>-0.269975</td>\n",
              "      <td>Yes</td>\n",
              "    </tr>\n",
              "    <tr>\n",
              "      <th>7042</th>\n",
              "      <td>-1.033049</td>\n",
              "      <td>-1.071381</td>\n",
              "      <td>0.595668</td>\n",
              "      <td>0.172426</td>\n",
              "      <td>0.238156</td>\n",
              "      <td>Yes</td>\n",
              "    </tr>\n",
              "  </tbody>\n",
              "</table>\n",
              "<p>7043 rows × 6 columns</p>\n",
              "</div>"
            ],
            "text/plain": [
              "        tenure  StreamingTV  PaymentMethod  MonthlyCharges  TotalCharges Churn\n",
              "0     1.247129     1.549122      -0.274724       -1.467651      1.083457    No\n",
              "1     1.613587     0.238870       1.466061        0.652651      1.187405    No\n",
              "2     1.613587     0.238870       1.466061       -0.369281      1.599502    No\n",
              "3    -0.503722     0.238870      -1.145117        0.650990      0.770558    No\n",
              "4    -1.236636    -1.071381      -1.145117        0.700840      1.506635   Yes\n",
              "...        ...          ...            ...             ...           ...   ...\n",
              "7038 -1.277354    -1.071381       0.595668       -0.648443     -1.649262    No\n",
              "7039 -0.870179    -1.071381      -1.145117        0.052785     -1.040349   Yes\n",
              "7040 -1.114484     1.549122       1.466061       -1.492576      0.827017   Yes\n",
              "7041 -1.236636    -1.071381      -1.145117        0.695855     -0.269975   Yes\n",
              "7042 -1.033049    -1.071381       0.595668        0.172426      0.238156   Yes\n",
              "\n",
              "[7043 rows x 6 columns]"
            ]
          },
          "execution_count": 25,
          "metadata": {},
          "output_type": "execute_result"
        }
      ],
      "source": [
        "df = pd.read_csv('./full_transformated_data/full_transformated_data.csv')\n",
        "target = 'Churn'\n",
        "df"
      ]
    },
    {
      "cell_type": "code",
      "execution_count": 26,
      "metadata": {},
      "outputs": [],
      "source": [
        "#Defining dependant and independant variables\n",
        "Y = df[target] #Dependant\n",
        "X = df.drop(columns=[target]) #Independant"
      ]
    },
    {
      "cell_type": "code",
      "execution_count": 27,
      "metadata": {},
      "outputs": [],
      "source": [
        "#Splitting into training and test sets\n",
        "X_train, X_test, y_train, y_test = train_test_split(X,Y, test_size = 0.75, random_state = 42)"
      ]
    },
    {
      "cell_type": "code",
      "execution_count": 28,
      "metadata": {},
      "outputs": [],
      "source": [
        "logreg = LogisticRegression(random_state=100)\n",
        "\n",
        "# fit the model with data\n",
        "logreg.fit(X_train, y_train)\n",
        "\n",
        "y_logregpred = logreg.predict(X_test)"
      ]
    },
    {
      "cell_type": "code",
      "execution_count": 35,
      "metadata": {},
      "outputs": [
        {
          "name": "stdout",
          "output_type": "stream",
          "text": [
            "Test Score:\n",
            "0.78137421919364\n",
            "Train Score:\n",
            "0.7954545454545454\n"
          ]
        }
      ],
      "source": [
        "print(\"Test Score:\")\n",
        "print(logreg.score(X_test, y_test))\n",
        "print(\"Train Score:\")\n",
        "print(logreg.score(X_train, y_train))\n"
      ]
    },
    {
      "cell_type": "code",
      "execution_count": 37,
      "metadata": {},
      "outputs": [
        {
          "data": {
            "text/plain": [
              "<bound method LogisticRegression.predict_log_proba of LogisticRegression(random_state=100)>"
            ]
          },
          "execution_count": 37,
          "metadata": {},
          "output_type": "execute_result"
        }
      ],
      "source": [
        "from sklearn.metrics import log_loss\n",
        "logreg."
      ]
    },
    {
      "cell_type": "markdown",
      "metadata": {},
      "source": [
        "### **Exporting the model**\n",
        "****"
      ]
    },
    {
      "cell_type": "code",
      "execution_count": 15,
      "metadata": {},
      "outputs": [],
      "source": [
        "from joblib import dump\n"
      ]
    },
    {
      "cell_type": "code",
      "execution_count": 16,
      "metadata": {},
      "outputs": [
        {
          "ename": "NameError",
          "evalue": "name 'classifier' is not defined",
          "output_type": "error",
          "traceback": [
            "\u001b[1;31m---------------------------------------------------------------------------\u001b[0m",
            "\u001b[1;31mNameError\u001b[0m                                 Traceback (most recent call last)",
            "\u001b[1;32md:\\Universidad\\Inteligencia artificial\\reto bloque 2\\TC3007C_AI\\implementation\\fragments\\model_verification\\model_benchmark\\WA_Fn-UseC_-Telco-Customer-Churn\\logistic_regression.ipynb Celda 11\u001b[0m in \u001b[0;36m<cell line: 1>\u001b[1;34m()\u001b[0m\n\u001b[1;32m----> <a href='vscode-notebook-cell:/d%3A/Universidad/Inteligencia%20artificial/reto%20bloque%202/TC3007C_AI/implementation/fragments/model_verification/model_benchmark/WA_Fn-UseC_-Telco-Customer-Churn/logistic_regression.ipynb#X11sZmlsZQ%3D%3D?line=0'>1</a>\u001b[0m dump(classifier, \u001b[39m\"\u001b[39m\u001b[39m../../joblibs/WA_Fn-UseC_-Telco-Customer-Churn/model/logistic-regression-model.joblib\u001b[39m\u001b[39m\"\u001b[39m)\n",
            "\u001b[1;31mNameError\u001b[0m: name 'classifier' is not defined"
          ]
        }
      ],
      "source": [
        "dump(classifier, \"../../joblibs/WA_Fn-UseC_-Telco-Customer-Churn/model/logistic-regression-model.joblib\")"
      ]
    }
  ],
  "metadata": {
    "kernelspec": {
      "display_name": "Python 3.9.4 64-bit",
      "language": "python",
      "name": "python3"
    },
    "language_info": {
      "codemirror_mode": {
        "name": "ipython",
        "version": 3
      },
      "file_extension": ".py",
      "mimetype": "text/x-python",
      "name": "python",
      "nbconvert_exporter": "python",
      "pygments_lexer": "ipython3",
      "version": "3.9.7"
    },
    "orig_nbformat": 4,
    "vscode": {
      "interpreter": {
        "hash": "11938c6bc6919ae2720b4d5011047913343b08a43b18698fd82dedb0d4417594"
      }
    }
  },
  "nbformat": 4,
  "nbformat_minor": 2
}
