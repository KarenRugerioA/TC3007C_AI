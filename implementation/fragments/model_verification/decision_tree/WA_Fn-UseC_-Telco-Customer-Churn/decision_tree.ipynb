{
 "cells": [
  {
   "cell_type": "markdown",
   "id": "c0e17ac6",
   "metadata": {},
   "source": [
    "# **Telecom Churn Data | Model**\n",
    "\n",
    "*Authors:*\n",
    "- *Myroslava Sánchez Andrade A01730712*\n",
    "- *Karen Rugerio Armenta A01733228*\n",
    "- *José Antonio Bobadilla García A01734433*\n",
    "- *Alejandro Castro Reus A01731065*\n",
    "\n",
    "*Creation date: 15/10/2022*\n",
    "\n",
    "*Last updated: 04/11/2022*\n",
    "\n",
    "---"
   ]
  },
  {
   "cell_type": "markdown",
   "id": "b2b62ae7",
   "metadata": {},
   "source": [
    "## **Importing data**"
   ]
  },
  {
   "cell_type": "markdown",
   "id": "3fffba40",
   "metadata": {},
   "source": [
    "In Artificial Intelligence the modeling is the **creation, training, and deployment** of Machine Learning algorithms. The goal is to emulate logical decision-making based on the available data. "
   ]
  },
  {
   "cell_type": "code",
   "execution_count": 14,
   "id": "528da3f0",
   "metadata": {},
   "outputs": [],
   "source": [
    "# REQUIRED LIBRARIES\n",
    "# !pip install pandas numpy matplotlib sklearn joblib"
   ]
  },
  {
   "cell_type": "code",
   "execution_count": 15,
   "id": "da1c75bf",
   "metadata": {},
   "outputs": [],
   "source": [
    "# RUN ONLY FOR GOOGLE COLAB\n",
    "\n",
    "# from google.colab import drive\n",
    "\n",
    "# drive.mount(\"path\")  \n",
    "\n",
    "# %cd \"path\""
   ]
  },
  {
   "cell_type": "code",
   "execution_count": 16,
   "id": "33e2c89c-981e-4316-8723-fa299d649548",
   "metadata": {},
   "outputs": [],
   "source": [
    "# Importing the necessary libraries for the data analysis and transformations\n",
    "import pandas as pd\n",
    "import numpy as np\n",
    "import matplotlib.pyplot as plt\n",
    "from sklearn.model_selection import cross_val_score\n",
    "from sklearn.neural_network import MLPClassifier\n",
    "from sklearn.metrics import confusion_matrix\n",
    "from sklearn.model_selection import KFold\n",
    "from joblib import dump\n",
    "import py7zr"
   ]
  },
  {
   "cell_type": "code",
   "execution_count": 17,
   "id": "5581987c",
   "metadata": {},
   "outputs": [],
   "source": [
    "target = 'Churn'\n",
    "smote = 0"
   ]
  },
  {
   "cell_type": "code",
   "execution_count": 18,
   "id": "66959011",
   "metadata": {},
   "outputs": [],
   "source": [
    "with py7zr.SevenZipFile('../../../../../data/WA_Fn-UseC_-Telco-Customer-Churn/original_train.7z', mode='r') as z:\n",
    "    z.extractall(path='original_train/')\n",
    "with py7zr.SevenZipFile('../../../../../data/telecom_churn_me/test/x_test.7z', mode='r') as z:\n",
    "    z.extractall(path='x_test/')\n",
    "with py7zr.SevenZipFile('../../../../../data/telecom_churn_me/test/y_test.7z', mode='r') as z:\n",
    "    z.extractall(path='y_test/')"
   ]
  },
  {
   "cell_type": "code",
   "execution_count": 19,
   "id": "70094b0f",
   "metadata": {},
   "outputs": [],
   "source": [
    "# Obtaining the train and test dataset\n",
    "train = pd.read_csv('./original_train/original_train.csv')\n",
    "\n",
    "x_test = pd.read_csv('./x_test/x_test.csv')\n",
    "y_test = pd.read_csv('./y_test/y_test.csv')\n"
   ]
  },
  {
   "cell_type": "code",
   "execution_count": 20,
   "id": "27125f03",
   "metadata": {},
   "outputs": [],
   "source": [
    "x_train = train.drop([target], axis=1)\n",
    "y_train = pd.DataFrame(train[target])"
   ]
  },
  {
   "cell_type": "markdown",
   "id": "dd452abb",
   "metadata": {},
   "source": [
    "### **Implementing the algorithm**\n",
    "****\n"
   ]
  },
  {
   "cell_type": "markdown",
   "id": "2f641cb3",
   "metadata": {},
   "source": [
    "### **Model Evaluation**\n",
    "****"
   ]
  },
  {
   "cell_type": "markdown",
   "id": "f4c489fe",
   "metadata": {},
   "source": [
    "### **Validation with K-fold Cross validation**\n",
    "****"
   ]
  },
  {
   "cell_type": "markdown",
   "id": "bc79e6f8",
   "metadata": {},
   "source": [
    "### **Exporting the model**\n",
    "****"
   ]
  },
  {
   "cell_type": "code",
   "execution_count": 21,
   "id": "a58361af",
   "metadata": {},
   "outputs": [],
   "source": [
    "#dump(model, \"../joblibs/a.joblib\")"
   ]
  }
 ],
 "metadata": {
  "kernelspec": {
   "display_name": "base",
   "language": "python",
   "name": "python3"
  },
  "language_info": {
   "codemirror_mode": {
    "name": "ipython",
    "version": 3
   },
   "file_extension": ".py",
   "mimetype": "text/x-python",
   "name": "python",
   "nbconvert_exporter": "python",
   "pygments_lexer": "ipython3",
   "version": "3.9.7"
  },
  "vscode": {
   "interpreter": {
    "hash": "40d3a090f54c6569ab1632332b64b2c03c39dcf918b08424e98f38b5ae0af88f"
   }
  }
 },
 "nbformat": 4,
 "nbformat_minor": 5
}
