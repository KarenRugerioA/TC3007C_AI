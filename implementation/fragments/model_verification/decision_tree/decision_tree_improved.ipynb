{
 "cells": [
  {
   "cell_type": "markdown",
   "metadata": {},
   "source": [
    "# **Decision Tree Model**\n",
    "\n",
    "*Authors:*\n",
    "- *Myroslava Sánchez Andrade A01730712*\n",
    "- *Karen Rugerio Armenta A01733228*\n",
    "- *José Antonio Bobadilla García A01734433*\n",
    "- *Alejandro Castro Reus A01731065*\n",
    "\n",
    "*Creation date: 15/10/2022*\n",
    "\n",
    "*Last updated: 27/11/2022*\n",
    "\n",
    "---"
   ]
  },
  {
   "cell_type": "markdown",
   "metadata": {},
   "source": [
    "## **Importing data**"
   ]
  },
  {
   "cell_type": "code",
   "execution_count": 1,
   "metadata": {},
   "outputs": [],
   "source": [
    "# RUN ONLY FOR GOOGLE COLAB\n",
    "\n",
    "# from google.colab import drive\n",
    "\n",
    "# drive.mount(\"path\")  \n",
    "\n",
    "# %cd \"path\""
   ]
  },
  {
   "cell_type": "code",
   "execution_count": 2,
   "metadata": {},
   "outputs": [],
   "source": [
    "# Importing the necessary libraries for the data analysis and transformations\n",
    "import pandas as pd\n",
    "import numpy as np\n",
    "import matplotlib.pyplot as plt\n",
    "from sklearn.model_selection import cross_validate\n",
    "from sklearn.tree import DecisionTreeClassifier\n",
    "from sklearn.metrics import confusion_matrix\n",
    "from joblib import dump\n",
    "from sklearn.metrics import mean_squared_error\n",
    "from sklearn.metrics import accuracy_score"
   ]
  },
  {
   "cell_type": "code",
   "execution_count": 3,
   "metadata": {},
   "outputs": [],
   "source": [
    "smote = False"
   ]
  },
  {
   "cell_type": "code",
   "execution_count": 4,
   "metadata": {},
   "outputs": [],
   "source": [
    "# Obtaining the train and test dataset\n",
    "\n",
    "x_test = pd.read_csv('../../../../data/WA_Fn-UseC_-Telco-Customer-Churn/test/x_test.csv')\n",
    "y_test = pd.read_csv('../../../../data/WA_Fn-UseC_-Telco-Customer-Churn/test/y_test.csv')"
   ]
  },
  {
   "cell_type": "code",
   "execution_count": 5,
   "metadata": {},
   "outputs": [],
   "source": [
    "if smote:\n",
    "    x_train = pd.read_csv('../../../../data/WA_Fn-UseC_-Telco-Customer-Churn/train/x_train.csv')\n",
    "    y_train = pd.read_csv('../../../../data/WA_Fn-UseC_-Telco-Customer-Churn/train/y_train.csv')\n",
    "else:    \n",
    "    # Dividing the train dataset\n",
    "    train = pd.read_csv('../../../../data/WA_Fn-UseC_-Telco-Customer-Churn/train/original_train.csv')\n",
    "    x_train = train.drop(['Churn'], axis=1)\n",
    "    y_train = pd.DataFrame(train['Churn'])"
   ]
  },
  {
   "cell_type": "code",
   "execution_count": 6,
   "metadata": {},
   "outputs": [],
   "source": [
    "tree = DecisionTreeClassifier(random_state=0, criterion='gini', splitter='random', min_samples_split=50)\n",
    "\n",
    "# fit the model with data\n",
    "tree.fit(x_train, y_train)\n",
    "\n",
    "y_logregpred = tree.predict(x_test)"
   ]
  },
  {
   "cell_type": "code",
   "execution_count": 7,
   "metadata": {},
   "outputs": [
    {
     "name": "stdout",
     "output_type": "stream",
     "text": [
      "Score:\n",
      "0.7713068181818182\n"
     ]
    }
   ],
   "source": [
    "print(\"Score:\")\n",
    "print(tree.score(x_test, y_test))"
   ]
  },
  {
   "cell_type": "code",
   "execution_count": 8,
   "metadata": {},
   "outputs": [],
   "source": [
    "#Creating a confusion matrix to help determinate accuracy wtih classification model\n",
    "def accuracy(confusion_matrix):\n",
    "   diagonal_sum = confusion_matrix.trace()\n",
    "   sum_of_all_elements = confusion_matrix.sum()\n",
    "   return diagonal_sum / sum_of_all_elements"
   ]
  },
  {
   "cell_type": "code",
   "execution_count": 9,
   "metadata": {},
   "outputs": [
    {
     "name": "stdout",
     "output_type": "stream",
     "text": [
      "Accuracy of Model: 77%\n"
     ]
    }
   ],
   "source": [
    "#Evaluataion of the predictions against the actual observations in y_val\n",
    "cm = confusion_matrix(y_logregpred, y_test)\n",
    "\n",
    "#Printing the accuracy\n",
    "acc = round(accuracy(cm),2)\n",
    "percentage = \"{:.0%}\".format(acc)\n",
    "print(f\"Accuracy of Model: {percentage}\")"
   ]
  },
  {
   "cell_type": "code",
   "execution_count": 10,
   "metadata": {},
   "outputs": [
    {
     "data": {
      "text/html": [
       "<div>\n",
       "<style scoped>\n",
       "    .dataframe tbody tr th:only-of-type {\n",
       "        vertical-align: middle;\n",
       "    }\n",
       "\n",
       "    .dataframe tbody tr th {\n",
       "        vertical-align: top;\n",
       "    }\n",
       "\n",
       "    .dataframe thead th {\n",
       "        text-align: right;\n",
       "    }\n",
       "</style>\n",
       "<table border=\"1\" class=\"dataframe\">\n",
       "  <thead>\n",
       "    <tr style=\"text-align: right;\">\n",
       "      <th></th>\n",
       "      <th>0</th>\n",
       "      <th>1</th>\n",
       "    </tr>\n",
       "  </thead>\n",
       "  <tbody>\n",
       "    <tr>\n",
       "      <th>0</th>\n",
       "      <td>1430</td>\n",
       "      <td>362</td>\n",
       "    </tr>\n",
       "    <tr>\n",
       "      <th>1</th>\n",
       "      <td>121</td>\n",
       "      <td>199</td>\n",
       "    </tr>\n",
       "  </tbody>\n",
       "</table>\n",
       "</div>"
      ],
      "text/plain": [
       "      0    1\n",
       "0  1430  362\n",
       "1   121  199"
      ]
     },
     "execution_count": 10,
     "metadata": {},
     "output_type": "execute_result"
    }
   ],
   "source": [
    "# Confussion Matrix\n",
    "pd.DataFrame(cm)"
   ]
  },
  {
   "cell_type": "code",
   "execution_count": 11,
   "metadata": {},
   "outputs": [],
   "source": [
    "# K-Fold Cross-Validation\n",
    "def cross_validation(model, _X, _y, _cv=3):\n",
    "      _scoring = ['accuracy', 'precision', 'recall', 'f1']\n",
    "      results = cross_validate(estimator=model,\n",
    "                               X=_X,\n",
    "                               y=_y,\n",
    "                               cv=_cv,\n",
    "                               scoring=_scoring,\n",
    "                               return_train_score=True)\n",
    "      \n",
    "      return {\"Training Accuracy scores\": results['train_accuracy'],\n",
    "              \"Mean Training Accuracy\": results['train_accuracy'].mean()*100,\n",
    "              \"Training Precision scores\": results['train_precision'],\n",
    "              \"Mean Training Precision\": results['train_precision'].mean(),\n",
    "              \"Training Recall scores\": results['train_recall'],\n",
    "              \"Mean Training Recall\": results['train_recall'].mean(),\n",
    "              \"Training F1 scores\": results['train_f1'],\n",
    "              \"Mean Training F1 Score\": results['train_f1'].mean(),\n",
    "              \"Validation Accuracy scores\": results['test_accuracy'],\n",
    "              \"Mean Validation Accuracy\": results['test_accuracy'].mean()*100,\n",
    "              \"Validation Precision scores\": results['test_precision'],\n",
    "              \"Mean Validation Precision\": results['test_precision'].mean(),\n",
    "              \"Validation Recall scores\": results['test_recall'],\n",
    "              \"Mean Validation Recall\": results['test_recall'].mean(),\n",
    "              \"Validation F1 scores\": results['test_f1'],\n",
    "              \"Mean Validation F1 Score\": results['test_f1'].mean()\n",
    "              }\n"
   ]
  },
  {
   "cell_type": "code",
   "execution_count": 12,
   "metadata": {},
   "outputs": [],
   "source": [
    "# Grouped Bar Chart for both training and validation data\n",
    "def plot_result(x_label, y_label, plot_title, train_data, val_data):\n",
    "        # Set size of plot\n",
    "        plt.figure(figsize=(4,3))\n",
    "        labels = [\"1st Fold\", \"2nd Fold\", \"3rd Fold\"]\n",
    "        X_axis = np.arange(len(labels))\n",
    "        ax = plt.gca()\n",
    "        plt.ylim(0.40000, 1)\n",
    "        plt.bar(X_axis-0.2, train_data, 0.4, color='blue', label='Training')\n",
    "        plt.bar(X_axis+0.2, val_data, 0.4, color='red', label='Validation')\n",
    "        plt.title(plot_title, fontsize=30)\n",
    "        plt.xticks(X_axis, labels)\n",
    "        plt.xlabel(x_label, fontsize=14)\n",
    "        plt.ylabel(y_label, fontsize=14)\n",
    "        plt.legend()\n",
    "        plt.grid(True)\n",
    "        plt.savefig('../../joblibs/WA_Fn-UseC_-Telco-Customer-Churn/model/decission_tree/k_cross_plot.png')\n",
    "        plt.show()"
   ]
  },
  {
   "cell_type": "code",
   "execution_count": 13,
   "metadata": {},
   "outputs": [
    {
     "data": {
      "text/plain": [
       "{'Training Accuracy scores': array([0.79768786, 0.80772741, 0.79957421]),\n",
       " 'Mean Training Accuracy': 80.16631605101668,\n",
       " 'Training Precision scores': array([0.67051071, 0.65915119, 0.66259542]),\n",
       " 'Mean Training Precision': 0.6640857739610858,\n",
       " 'Training Recall scores': array([0.46674312, 0.56995413, 0.49770642]),\n",
       " 'Mean Training Recall': 0.5114678899082569,\n",
       " 'Training F1 scores': array([0.55037187, 0.61131611, 0.56843484]),\n",
       " 'Mean Training F1 Score': 0.5767076085343,\n",
       " 'Validation Accuracy scores': array([0.77007299, 0.76520681, 0.78271455]),\n",
       " 'Mean Validation Accuracy': 77.26647839713222,\n",
       " 'Validation Precision scores': array([0.6013986 , 0.57062147, 0.61449275]),\n",
       " 'Mean Validation Precision': 0.5955042746494478,\n",
       " 'Validation Recall scores': array([0.39449541, 0.46330275, 0.48623853]),\n",
       " 'Mean Validation Recall': 0.44801223241590216,\n",
       " 'Validation F1 scores': array([0.47645429, 0.51139241, 0.54289373]),\n",
       " 'Mean Validation F1 Score': 0.5102468082281392}"
      ]
     },
     "execution_count": 13,
     "metadata": {},
     "output_type": "execute_result"
    }
   ],
   "source": [
    "decision_tree_results = cross_validation(tree, x_train, y_train)\n",
    "decision_tree_results"
   ]
  },
  {
   "cell_type": "code",
   "execution_count": 14,
   "metadata": {},
   "outputs": [
    {
     "data": {
      "image/png": "[encoded data removed]",
      "text/plain": [
       "<Figure size 288x216 with 1 Axes>"
      ]
     },
     "metadata": {
      "needs_background": "light"
     },
     "output_type": "display_data"
    }
   ],
   "source": [
    "# Plot Accuracy Result\n",
    "model_name = \"Decission Tree\"\n",
    "plot_result(model_name,\n",
    "            \"Accuracy\",\n",
    "            \"Accuracy scores in 3 Folds\",\n",
    "            decision_tree_results[\"Training Accuracy scores\"],\n",
    "            decision_tree_results[\"Validation Accuracy scores\"])"
   ]
  },
  {
   "cell_type": "code",
   "execution_count": 15,
   "metadata": {},
   "outputs": [
    {
     "name": "stdout",
     "output_type": "stream",
     "text": [
      "MSE Train: 0.19245589129993915\n",
      "Accuracy Train: 0.8075441087000609\n",
      "MSE Test: 0.22869318181818182\n",
      "Accuracy Test: 0.7713068181818182\n"
     ]
    }
   ],
   "source": [
    "# Calculatin the MSE and accuracy in the training and test\n",
    "\n",
    "# Train\n",
    "y_train_predict = tree.predict(x_train)\n",
    "y_train_true = y_train\n",
    "# MSE\n",
    "mse_train = mean_squared_error(y_train_true, y_train_predict)\n",
    "print(f'MSE Train: {mse_train}')\n",
    "# Accuracy\n",
    "acc_train = accuracy_score(y_train_true, y_train_predict, normalize=True)\n",
    "print(f'Accuracy Train: {acc_train}')\n",
    "\n",
    "# Test\n",
    "y_test_predict = tree.predict(x_test)\n",
    "y_test_true = y_test\n",
    "# MSE\n",
    "mse_test = mean_squared_error(y_test_true, y_test_predict)\n",
    "print(f'MSE Test: {mse_test}')\n",
    "# Accuracy\n",
    "acc_test = accuracy_score(y_test_true, y_test_predict, normalize=True)\n",
    "print(f'Accuracy Test: {acc_test}')\n"
   ]
  },
  {
   "cell_type": "markdown",
   "metadata": {},
   "source": [
    "### **Exporting the model**\n",
    "****"
   ]
  },
  {
   "cell_type": "code",
   "execution_count": 16,
   "metadata": {},
   "outputs": [],
   "source": [
    "if smote:\n",
    "    dump(tree, \"../../joblibs/WA_Fn-UseC_-Telco-Customer-Churn/model/decission_tree/decision_tree_model_smote.joblib\")\n",
    "else:\n",
    "    dump(tree, \"../../joblibs/WA_Fn-UseC_-Telco-Customer-Churn/model/decission_tree/decision_tree_model.joblib\")"
   ]
  }
 ],
 "metadata": {
  "kernelspec": {
   "display_name": "Python 3.10.4 ('Statistics')",
   "language": "python",
   "name": "python3"
  },
  "language_info": {
   "codemirror_mode": {
    "name": "ipython",
    "version": 3
   },
   "file_extension": ".py",
   "mimetype": "text/x-python",
   "name": "python",
   "nbconvert_exporter": "python",
   "pygments_lexer": "ipython3",
   "version": "3.10.4"
  },
  "orig_nbformat": 4,
  "vscode": {
   "interpreter": {
    "hash": "1365f7312f0ac659adc64cf9ad70f48f473b7d9bf5c210bebce62c7e15bdcca9"
   }
  }
 },
 "nbformat": 4,
 "nbformat_minor": 2
}
