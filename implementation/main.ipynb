{
 "cells": [
  {
   "cell_type": "markdown",
   "metadata": {},
   "source": [
    "# **Telecom Churn Data**\n",
    "\n",
    "*Authors:*\n",
    "- *Myroslava Sánchez Andrade A01730712*\n",
    "- *Karen Rugerio Armenta A01733228*\n",
    "- *José Antonio Bobadilla García A01734433*\n",
    "- *Alejandro Castro Reus A01731065*\n",
    "\n",
    "*Creation date: 01/10/2022*\n",
    "\n",
    "*Last updated: 27/10/2022*\n",
    "\n",
    "---"
   ]
  },
  {
   "cell_type": "markdown",
   "metadata": {},
   "source": [
    "### **INDEX**\n",
    "[Business Understanding](#business-understanding)\n",
    "<br> [Data Understanding](#data-understanding)\n",
    "<br> [Data Preparation](#data-preparation)\n",
    "<br> [Modelling](#modelling)"
   ]
  },
  {
   "cell_type": "markdown",
   "metadata": {},
   "source": [
    "***\n",
    "## **Business Understanding**\n",
    "\n",
    "Como parte de nuestro proyecto final de la materia Inteligencia Artificial Avanzada para la Ciencia de Datos, se nos asignó una problemática dada por la empresa NAATIK. Esta es una empresa enfocada en el desarrollo y aplicación de Inteligencia Artificial y Ciencia de Datos para brindar soluciones.\n",
    "<br>La problemática planteada consiste en el análisis de un conjunto de datos de una compañía telefónica que contiene los siguientes datos: servicios contratados de clientes, información de la cuenta de los clientes, información demográfica de los clientes, y la permanencia del cliente en el último mes (booleano). \n"
   ]
  },
  {
   "cell_type": "markdown",
   "metadata": {},
   "source": [
    "***\n",
    "## **Data Understanding**\n",
    "\n",
    "__[AMEX - Kaggle](https://www.kaggle.com/competitions/amex-default-prediction/data)__\n",
    "\n",
    "The dataset contains features anonymized and normalized for each constumer at each statement date.\n",
    "\n",
    "***Independent variables***\n",
    "- =\n",
    "\n",
    "Being categorical the following specific features:\n",
    "`['']`\n",
    "\n",
    "\n",
    "***Dependent variable***\n",
    "\n",
    "Predicition of the probability of a future payment for each costumer (target).\n"
   ]
  },
  {
   "cell_type": "markdown",
   "metadata": {},
   "source": [
    "***\n",
    "## **Data Preparation**\n",
    "\n",
    "#### **ETL:**\n",
    "- Extraction of the 20% american express clients sample\n",
    "- Column analysis\n",
    "- Row analysis\n",
    "- One Hot Encoding\n",
    "- Imputation\n",
    "- PCA\n",
    "- Aggregation by costumers\n",
    "- Load"
   ]
  },
  {
   "cell_type": "code",
   "execution_count": null,
   "metadata": {},
   "outputs": [],
   "source": [
    "%run fragments/etl/etl.ipynb"
   ]
  },
  {
   "cell_type": "markdown",
   "metadata": {},
   "source": [
    "***\n",
    "## **Modelling and Evaluation**"
   ]
  },
  {
   "cell_type": "code",
   "execution_count": null,
   "metadata": {},
   "outputs": [],
   "source": []
  }
 ],
 "metadata": {
  "language_info": {
   "name": "python"
  },
  "orig_nbformat": 4
 },
 "nbformat": 4,
 "nbformat_minor": 2
}
