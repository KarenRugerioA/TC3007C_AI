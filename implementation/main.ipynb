{
 "cells": [
  {
   "cell_type": "markdown",
   "metadata": {},
   "source": [
    "# **Telecom Churn Data**\n",
    "\n",
    "*Authors:*\n",
    "- *Myroslava Sánchez Andrade A01730712*\n",
    "- *Karen Rugerio Armenta A01733228*\n",
    "- *José Antonio Bobadilla García A01734433*\n",
    "- *Alejandro Castro Reus A01731065*\n",
    "\n",
    "*Creation date: 01/10/2022*\n",
    "\n",
    "*Last updated: 27/10/2022*\n",
    "\n",
    "---"
   ]
  },
  {
   "cell_type": "markdown",
   "metadata": {},
   "source": [
    "### **INDEX**\n",
    "[Business Understanding](#business-understanding)\n",
    "<br> [Data Understanding](#data-understanding)\n",
    "<br> [Data Preparation](#data-preparation)\n",
    "<br> [Modelling](#modelling)"
   ]
  },
  {
   "cell_type": "markdown",
   "metadata": {},
   "source": [
    "***\n",
    "## **Business Understanding**\n",
    "\n",
    "Como parte de nuestro proyecto final de la materia Inteligencia Artificial Avanzada para la Ciencia de Datos, se nos asignó una problemática dada por la empresa NAATIK. Esta es una empresa enfocada en el desarrollo y aplicación de Inteligencia Artificial y Ciencia de Datos para brindar soluciones.\n",
    "<br>La problemática planteada consiste en el análisis de un conjunto de datos de una compañía telefónica que contiene los siguientes datos: servicios contratados de clientes, información de la cuenta de los clientes, información demográfica de los clientes, y la permanencia del cliente en el último mes (booleano). \n"
   ]
  },
  {
   "cell_type": "markdown",
   "metadata": {},
   "source": [
    "***\n",
    "## **Data Understanding**\n",
    "\n",
    "Dados los requerimientos del socio formador, se buscó implementar soluciones generalizadas para cualquier conjunto de datos referentes a la permanencia o no de un cliente a un servicio, para así poder hacer un análisis de retención de clientes."
   ]
  },
  {
   "cell_type": "markdown",
   "metadata": {},
   "source": [
    "***\n",
    "## **Data Preparation**\n",
    "\n",
    "#### **ETL:**\n",
    "- Extracción de los datos\n",
    "- Análisis de columnas\n",
    "- Codificación de columnas categóricas\n",
    "- Multicolinealidad\n",
    "- Estandarización\n",
    "- Manejo de valores atípicos\n",
    "- Análisis de filas\n",
    "- Imputación\n",
    "- Preparación de los datos\n",
    "- Carga de los datos"
   ]
  },
  {
   "cell_type": "code",
   "execution_count": 1,
   "metadata": {},
   "outputs": [],
   "source": [
    "# Importing the necessary libraries\n",
    "import pandas as pd"
   ]
  },
  {
   "cell_type": "code",
   "execution_count": 2,
   "metadata": {},
   "outputs": [],
   "source": [
    "# Reading the csv\n",
    "df = pd.read_csv('../data/telecom_churn_me/telecom_churn_me.csv')\n",
    "original_name_dataset = 'telecom_churn_me'\n",
    "target_column_name = 'TARGET'"
   ]
  },
  {
   "cell_type": "code",
   "execution_count": 3,
   "metadata": {},
   "outputs": [
    {
     "name": "stdout",
     "output_type": "stream",
     "text": [
      "c:\\Users\\myros\\Documents\\7mo_Semestre_Period2\\Reto\\TC3007C_AI\\implementation\\fragments\\functions\n"
     ]
    }
   ],
   "source": [
    "%cd fragments/functions"
   ]
  },
  {
   "cell_type": "code",
   "execution_count": 4,
   "metadata": {},
   "outputs": [],
   "source": [
    "# Function that transforms the dataset **for the modelling**\n",
    "from transform_model import transform_df_model"
   ]
  },
  {
   "cell_type": "code",
   "execution_count": 5,
   "metadata": {},
   "outputs": [
    {
     "name": "stderr",
     "output_type": "stream",
     "text": [
      "c:\\Users\\myros\\Documents\\7mo_Semestre_Period2\\Reto\\TC3007C_AI\\implementation\\fragments\\functions\\transform_model.py:62: FutureWarning: The frame.append method is deprecated and will be removed from pandas in a future version. Use pandas.concat instead.\n",
      "  percentiles = percentiles.append(data_description[2:3] == 0.0)\n",
      "c:\\Users\\myros\\Documents\\7mo_Semestre_Period2\\Reto\\TC3007C_AI\\implementation\\fragments\\functions\\transform_model.py:179: FutureWarning: The frame.append method is deprecated and will be removed from pandas in a future version. Use pandas.concat instead.\n",
      "  test = test.append(df[:no_rows_test-outliers.shape[0]]).reset_index()\n"
     ]
    }
   ],
   "source": [
    "transform_df_model(df, target_column_name, original_name_dataset)"
   ]
  },
  {
   "cell_type": "markdown",
   "metadata": {},
   "source": [
    "***\n",
    "## **Modelling and Evaluation**"
   ]
  },
  {
   "cell_type": "code",
   "execution_count": null,
   "metadata": {},
   "outputs": [],
   "source": []
  }
 ],
 "metadata": {
  "kernelspec": {
   "display_name": "Python 3.10.4 ('Statistics')",
   "language": "python",
   "name": "python3"
  },
  "language_info": {
   "codemirror_mode": {
    "name": "ipython",
    "version": 3
   },
   "file_extension": ".py",
   "mimetype": "text/x-python",
   "name": "python",
   "nbconvert_exporter": "python",
   "pygments_lexer": "ipython3",
   "version": "3.10.4"
  },
  "orig_nbformat": 4,
  "vscode": {
   "interpreter": {
    "hash": "1365f7312f0ac659adc64cf9ad70f48f473b7d9bf5c210bebce62c7e15bdcca9"
   }
  }
 },
 "nbformat": 4,
 "nbformat_minor": 2
}
